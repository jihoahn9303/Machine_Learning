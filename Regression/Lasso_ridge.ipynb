{
 "cells": [
  {
   "cell_type": "code",
   "execution_count": 1,
   "metadata": {},
   "outputs": [],
   "source": [
    "import numpy as np\n",
    "import pandas as pd\n",
    "from sklearn.linear_model import LogisticRegression\n",
    "from sklearn.model_selection import train_test_split\n",
    "from sklearn import metrics\n",
    "from sklearn.metrics import confusion_matrix, accuracy_score, roc_auc_score, roc_curve\n",
    "import statsmodels.api as sm\n",
    "import matplotlib.pyplot as plt\n",
    "import itertools\n",
    "import time\n",
    "\n",
    "%matplotlib inline"
   ]
  },
  {
   "cell_type": "code",
   "execution_count": 2,
   "metadata": {},
   "outputs": [
    {
     "data": {
      "text/html": [
       "<div>\n",
       "<style scoped>\n",
       "    .dataframe tbody tr th:only-of-type {\n",
       "        vertical-align: middle;\n",
       "    }\n",
       "\n",
       "    .dataframe tbody tr th {\n",
       "        vertical-align: top;\n",
       "    }\n",
       "\n",
       "    .dataframe thead th {\n",
       "        text-align: right;\n",
       "    }\n",
       "</style>\n",
       "<table border=\"1\" class=\"dataframe\">\n",
       "  <thead>\n",
       "    <tr style=\"text-align: right;\">\n",
       "      <th></th>\n",
       "      <th>ID</th>\n",
       "      <th>Age</th>\n",
       "      <th>Experience</th>\n",
       "      <th>Income</th>\n",
       "      <th>ZIP Code</th>\n",
       "      <th>Family</th>\n",
       "      <th>CCAvg</th>\n",
       "      <th>Education</th>\n",
       "      <th>Mortgage</th>\n",
       "      <th>Personal Loan</th>\n",
       "      <th>Securities Account</th>\n",
       "      <th>CD Account</th>\n",
       "      <th>Online</th>\n",
       "      <th>CreditCard</th>\n",
       "    </tr>\n",
       "  </thead>\n",
       "  <tbody>\n",
       "    <tr>\n",
       "      <td>0</td>\n",
       "      <td>1</td>\n",
       "      <td>25</td>\n",
       "      <td>1</td>\n",
       "      <td>49</td>\n",
       "      <td>91107</td>\n",
       "      <td>4</td>\n",
       "      <td>1.6</td>\n",
       "      <td>1</td>\n",
       "      <td>0</td>\n",
       "      <td>0</td>\n",
       "      <td>1</td>\n",
       "      <td>0</td>\n",
       "      <td>0</td>\n",
       "      <td>0</td>\n",
       "    </tr>\n",
       "    <tr>\n",
       "      <td>1</td>\n",
       "      <td>2</td>\n",
       "      <td>45</td>\n",
       "      <td>19</td>\n",
       "      <td>34</td>\n",
       "      <td>90089</td>\n",
       "      <td>3</td>\n",
       "      <td>1.5</td>\n",
       "      <td>1</td>\n",
       "      <td>0</td>\n",
       "      <td>0</td>\n",
       "      <td>1</td>\n",
       "      <td>0</td>\n",
       "      <td>0</td>\n",
       "      <td>0</td>\n",
       "    </tr>\n",
       "    <tr>\n",
       "      <td>2</td>\n",
       "      <td>3</td>\n",
       "      <td>39</td>\n",
       "      <td>15</td>\n",
       "      <td>11</td>\n",
       "      <td>94720</td>\n",
       "      <td>1</td>\n",
       "      <td>1.0</td>\n",
       "      <td>1</td>\n",
       "      <td>0</td>\n",
       "      <td>0</td>\n",
       "      <td>0</td>\n",
       "      <td>0</td>\n",
       "      <td>0</td>\n",
       "      <td>0</td>\n",
       "    </tr>\n",
       "    <tr>\n",
       "      <td>3</td>\n",
       "      <td>4</td>\n",
       "      <td>35</td>\n",
       "      <td>9</td>\n",
       "      <td>100</td>\n",
       "      <td>94112</td>\n",
       "      <td>1</td>\n",
       "      <td>2.7</td>\n",
       "      <td>2</td>\n",
       "      <td>0</td>\n",
       "      <td>0</td>\n",
       "      <td>0</td>\n",
       "      <td>0</td>\n",
       "      <td>0</td>\n",
       "      <td>0</td>\n",
       "    </tr>\n",
       "    <tr>\n",
       "      <td>4</td>\n",
       "      <td>5</td>\n",
       "      <td>35</td>\n",
       "      <td>8</td>\n",
       "      <td>45</td>\n",
       "      <td>91330</td>\n",
       "      <td>4</td>\n",
       "      <td>1.0</td>\n",
       "      <td>2</td>\n",
       "      <td>0</td>\n",
       "      <td>0</td>\n",
       "      <td>0</td>\n",
       "      <td>0</td>\n",
       "      <td>0</td>\n",
       "      <td>1</td>\n",
       "    </tr>\n",
       "  </tbody>\n",
       "</table>\n",
       "</div>"
      ],
      "text/plain": [
       "   ID  Age  Experience  Income  ZIP Code  Family  CCAvg  Education  Mortgage  \\\n",
       "0   1   25           1      49     91107       4    1.6          1         0   \n",
       "1   2   45          19      34     90089       3    1.5          1         0   \n",
       "2   3   39          15      11     94720       1    1.0          1         0   \n",
       "3   4   35           9     100     94112       1    2.7          2         0   \n",
       "4   5   35           8      45     91330       4    1.0          2         0   \n",
       "\n",
       "   Personal Loan  Securities Account  CD Account  Online  CreditCard  \n",
       "0              0                   1           0       0           0  \n",
       "1              0                   1           0       0           0  \n",
       "2              0                   0           0       0           0  \n",
       "3              0                   0           0       0           0  \n",
       "4              0                   0           0       0           1  "
      ]
     },
     "execution_count": 2,
     "metadata": {},
     "output_type": "execute_result"
    }
   ],
   "source": [
    "# Personal Loan 데이터 불러오기\n",
    "ploan = pd.read_csv('./Personal Loan.csv')\n",
    "ploan.head()"
   ]
  },
  {
   "cell_type": "markdown",
   "metadata": {},
   "source": [
    "# Lasso & Ridge"
   ]
  },
  {
   "cell_type": "code",
   "execution_count": 3,
   "metadata": {},
   "outputs": [],
   "source": [
    "from sklearn.linear_model import Ridge, Lasso, ElasticNet"
   ]
  },
  {
   "cell_type": "code",
   "execution_count": 4,
   "metadata": {},
   "outputs": [
    {
     "name": "stdout",
     "output_type": "stream",
     "text": [
      "(1750, 11) (750, 11) (1750,) (750,)\n"
     ]
    }
   ],
   "source": [
    "ploan_processed = ploan.dropna().drop(['ID', 'ZIP Code'], axis = 1, inplace = False)\n",
    "\n",
    "feature_columns = list(ploan_processed.columns.difference(['Personal Loan']))\n",
    "X = ploan_processed[feature_columns]\n",
    "y = ploan_processed['Personal Loan']\n",
    "\n",
    "train_x, test_x, train_y, test_y = train_test_split(X, y, stratify = y, train_size = 0.7, test_size = 0.3, random_state = 42)\n",
    "print(train_x.shape, test_x.shape, train_y.shape, test_y.shape)"
   ]
  },
  {
   "cell_type": "code",
   "execution_count": 5,
   "metadata": {},
   "outputs": [
    {
     "data": {
      "text/plain": [
       "Lasso(alpha=0.01, copy_X=True, fit_intercept=True, max_iter=1000,\n",
       "      normalize=False, positive=False, precompute=False, random_state=None,\n",
       "      selection='cyclic', tol=0.0001, warm_start=False)"
      ]
     },
     "execution_count": 5,
     "metadata": {},
     "output_type": "execute_result"
    }
   ],
   "source": [
    "# Lasso 적합\n",
    "ll = Lasso(alpha = 0.01)\n",
    "ll.fit(train_x, train_y)"
   ]
  },
  {
   "cell_type": "code",
   "execution_count": 6,
   "metadata": {},
   "outputs": [
    {
     "data": {
      "text/plain": [
       "array([ 0.00000000e+00,  2.04783983e-03,  1.14390390e-01, -0.00000000e+00,\n",
       "        6.58342418e-02,  4.76625359e-04,  3.13396711e-02,  3.55393865e-03,\n",
       "        1.31719530e-05,  0.00000000e+00, -0.00000000e+00])"
      ]
     },
     "execution_count": 6,
     "metadata": {},
     "output_type": "execute_result"
    }
   ],
   "source": [
    "# 회귀 계수 출력\n",
    "ll.coef_"
   ]
  },
  {
   "cell_type": "code",
   "execution_count": 7,
   "metadata": {},
   "outputs": [
    {
     "name": "stdout",
     "output_type": "stream",
     "text": [
      "['__abstractmethods__', '__class__', '__delattr__', '__dict__', '__dir__', '__doc__', '__eq__', '__format__', '__ge__', '__getattribute__', '__getstate__', '__gt__', '__hash__', '__init__', '__init_subclass__', '__le__', '__lt__', '__module__', '__ne__', '__new__', '__reduce__', '__reduce_ex__', '__repr__', '__setattr__', '__setstate__', '__sizeof__', '__str__', '__subclasshook__', '__weakref__', '_abc_impl', '_decision_function', '_estimator_type', '_get_param_names', '_get_tags', '_more_tags', '_preprocess_data', '_set_intercept', 'alpha', 'coef_', 'copy_X', 'dual_gap_', 'fit', 'fit_intercept', 'get_params', 'intercept_', 'l1_ratio', 'max_iter', 'n_iter_', 'normalize', 'path', 'positive', 'precompute', 'predict', 'random_state', 'score', 'selection', 'set_params', 'sparse_coef_', 'tol', 'warm_start']\n"
     ]
    }
   ],
   "source": [
    "print(dir(ll))"
   ]
  },
  {
   "cell_type": "code",
   "execution_count": 8,
   "metadata": {},
   "outputs": [],
   "source": [
    "def cut_off(y, threshold):\n",
    "    Y = y.copy()  # copy 함수를 사용하여 이전의 y 값이 변하지 않도록 함\n",
    "    Y[Y > threshold] = 1\n",
    "    Y[Y <= threshold] = 0\n",
    "    return Y.astype(int)    "
   ]
  },
  {
   "cell_type": "code",
   "execution_count": 10,
   "metadata": {},
   "outputs": [],
   "source": [
    "# confusion matrix accuracy\n",
    "def calculate_acc(cf_matrix):\n",
    "    return (cf_matrix[0, 0] + cf_matrix[1, 1]) / (cf_matrix[0, 0] + cf_matrix[0, 1] + cf_matrix[1, 0] + cf_matrix[1, 1])"
   ]
  },
  {
   "cell_type": "code",
   "execution_count": 11,
   "metadata": {},
   "outputs": [
    {
     "name": "stdout",
     "output_type": "stream",
     "text": [
      "0.936\n"
     ]
    }
   ],
   "source": [
    "# 예측\n",
    "pred_y_lasso = ll.predict(test_x)\n",
    "pred_Y_lasso = cut_off(pred_y_lasso, 0.5)\n",
    "cfmat = confusion_matrix(test_y, pred_Y_lasso)\n",
    "print(calculate_acc(cfmat))"
   ]
  },
  {
   "cell_type": "code",
   "execution_count": 12,
   "metadata": {},
   "outputs": [],
   "source": [
    "# ridge 적합"
   ]
  },
  {
   "cell_type": "code",
   "execution_count": 13,
   "metadata": {},
   "outputs": [
    {
     "data": {
      "text/plain": [
       "Ridge(alpha=0.01, copy_X=True, fit_intercept=True, max_iter=None,\n",
       "      normalize=False, random_state=None, solver='auto', tol=0.001)"
      ]
     },
     "execution_count": 13,
     "metadata": {},
     "output_type": "execute_result"
    }
   ],
   "source": [
    "rr = Ridge(alpha = 0.01)\n",
    "rr.fit(train_x, train_y)"
   ]
  },
  {
   "cell_type": "code",
   "execution_count": 14,
   "metadata": {},
   "outputs": [
    {
     "data": {
      "text/plain": [
       "array([-3.71283678e-03,  7.37570775e-03,  3.54973975e-01, -5.28579506e-02,\n",
       "        7.83404224e-02,  4.12823466e-03,  3.62504712e-02,  3.27385112e-03,\n",
       "        1.73105480e-06, -1.91297381e-02, -8.77388670e-02])"
      ]
     },
     "execution_count": 14,
     "metadata": {},
     "output_type": "execute_result"
    }
   ],
   "source": [
    "rr.coef_"
   ]
  },
  {
   "cell_type": "code",
   "execution_count": 15,
   "metadata": {},
   "outputs": [
    {
     "name": "stdout",
     "output_type": "stream",
     "text": [
      "0.932\n"
     ]
    }
   ],
   "source": [
    "# 예측\n",
    "pred_y_ridge = rr.predict(test_x)\n",
    "pred_Y_ridge = cut_off(pred_y_ridge, 0.5)\n",
    "cfmat = confusion_matrix(test_y, pred_Y_ridge)\n",
    "print(calculate_acc(cfmat))"
   ]
  },
  {
   "cell_type": "code",
   "execution_count": 16,
   "metadata": {},
   "outputs": [],
   "source": [
    "# lambda(alpha)값에 따른 회귀 계수 / accuracy 계산"
   ]
  },
  {
   "cell_type": "code",
   "execution_count": 18,
   "metadata": {},
   "outputs": [],
   "source": [
    "# lambda값을 0.001 ~ 10까지 범위 설정\n",
    "alpha = np.logspace(base=10.0, start=-3, stop=1, num=5)"
   ]
  },
  {
   "cell_type": "code",
   "execution_count": 28,
   "metadata": {},
   "outputs": [
    {
     "name": "stdout",
     "output_type": "stream",
     "text": [
      "[0    -0.335006\n",
      "1    -0.002109\n",
      "2     0.006829\n",
      "3     0.322174\n",
      "4    -0.043385\n",
      "5     0.076771\n",
      "6     0.002534\n",
      "7     0.035728\n",
      "8     0.003313\n",
      "9     0.000004\n",
      "10   -0.012241\n",
      "11   -0.067973\n",
      "dtype: float64, 0    -0.381869\n",
      "1     0.000000\n",
      "2     0.002048\n",
      "3     0.114390\n",
      "4    -0.000000\n",
      "5     0.065834\n",
      "6     0.000477\n",
      "7     0.031340\n",
      "8     0.003554\n",
      "9     0.000013\n",
      "10    0.000000\n",
      "11   -0.000000\n",
      "dtype: float64, 0    -0.143698\n",
      "1     0.000000\n",
      "2     0.000000\n",
      "3     0.000000\n",
      "4    -0.000000\n",
      "5     0.000000\n",
      "6     0.000000\n",
      "7     0.000000\n",
      "8     0.003291\n",
      "9     0.000016\n",
      "10    0.000000\n",
      "11    0.000000\n",
      "dtype: float64, 0    -0.113103\n",
      "1     0.000000\n",
      "2     0.000000\n",
      "3     0.000000\n",
      "4    -0.000000\n",
      "5     0.000000\n",
      "6     0.000000\n",
      "7     0.000000\n",
      "8     0.002893\n",
      "9     0.000000\n",
      "10    0.000000\n",
      "11    0.000000\n",
      "dtype: float64, 0     0.102286\n",
      "1    -0.000000\n",
      "2     0.000000\n",
      "3     0.000000\n",
      "4    -0.000000\n",
      "5     0.000000\n",
      "6    -0.000000\n",
      "7     0.000000\n",
      "8     0.000000\n",
      "9     0.000000\n",
      "10    0.000000\n",
      "11    0.000000\n",
      "dtype: float64]\n",
      "[0.932, 0.936, 0.8946666666666667, 0.8973333333333333, 0.8973333333333333]\n"
     ]
    }
   ],
   "source": [
    "# Lasso\n",
    "\n",
    "data = []\n",
    "acc_table = []\n",
    "for idx, value in enumerate(alpha):\n",
    "    lasso = Lasso(alpha=value).fit(train_x, train_y)\n",
    "    data.append(pd.Series(np.hstack([lasso.intercept_, lasso.coef_])))   # 행 방향으로 절편과 계수 값을 추가 -> Series -> list append\n",
    "    pred_y = lasso.predict(test_x)   # full model\n",
    "    pred_Y = cut_off(pred_y, 0.5)\n",
    "    cfmat = confusion_matrix(test_y, pred_Y)\n",
    "    acc_table.append(calculate_acc(cfmat))\n",
    "    \n",
    "print(data)\n",
    "print(acc_table)"
   ]
  },
  {
   "cell_type": "code",
   "execution_count": 43,
   "metadata": {},
   "outputs": [
    {
     "data": {
      "text/html": [
       "<div>\n",
       "<style scoped>\n",
       "    .dataframe tbody tr th:only-of-type {\n",
       "        vertical-align: middle;\n",
       "    }\n",
       "\n",
       "    .dataframe tbody tr th {\n",
       "        vertical-align: top;\n",
       "    }\n",
       "\n",
       "    .dataframe thead th {\n",
       "        text-align: right;\n",
       "    }\n",
       "</style>\n",
       "<table border=\"1\" class=\"dataframe\">\n",
       "  <thead>\n",
       "    <tr style=\"text-align: right;\">\n",
       "      <th></th>\n",
       "      <th>0.001</th>\n",
       "      <th>0.010</th>\n",
       "      <th>0.100</th>\n",
       "      <th>1.000</th>\n",
       "      <th>10.000</th>\n",
       "    </tr>\n",
       "  </thead>\n",
       "  <tbody>\n",
       "    <tr>\n",
       "      <td>intercept</td>\n",
       "      <td>-0.335006</td>\n",
       "      <td>-0.381869</td>\n",
       "      <td>-0.143698</td>\n",
       "      <td>-0.113103</td>\n",
       "      <td>0.102286</td>\n",
       "    </tr>\n",
       "    <tr>\n",
       "      <td>Age</td>\n",
       "      <td>-0.002109</td>\n",
       "      <td>0.000000</td>\n",
       "      <td>0.000000</td>\n",
       "      <td>0.000000</td>\n",
       "      <td>-0.000000</td>\n",
       "    </tr>\n",
       "    <tr>\n",
       "      <td>CCAvg</td>\n",
       "      <td>0.006829</td>\n",
       "      <td>0.002048</td>\n",
       "      <td>0.000000</td>\n",
       "      <td>0.000000</td>\n",
       "      <td>0.000000</td>\n",
       "    </tr>\n",
       "    <tr>\n",
       "      <td>CD Account</td>\n",
       "      <td>0.322174</td>\n",
       "      <td>0.114390</td>\n",
       "      <td>0.000000</td>\n",
       "      <td>0.000000</td>\n",
       "      <td>0.000000</td>\n",
       "    </tr>\n",
       "    <tr>\n",
       "      <td>CreditCard</td>\n",
       "      <td>-0.043385</td>\n",
       "      <td>-0.000000</td>\n",
       "      <td>-0.000000</td>\n",
       "      <td>-0.000000</td>\n",
       "      <td>-0.000000</td>\n",
       "    </tr>\n",
       "    <tr>\n",
       "      <td>Education</td>\n",
       "      <td>0.076771</td>\n",
       "      <td>0.065834</td>\n",
       "      <td>0.000000</td>\n",
       "      <td>0.000000</td>\n",
       "      <td>0.000000</td>\n",
       "    </tr>\n",
       "    <tr>\n",
       "      <td>Experience</td>\n",
       "      <td>0.002534</td>\n",
       "      <td>0.000477</td>\n",
       "      <td>0.000000</td>\n",
       "      <td>0.000000</td>\n",
       "      <td>-0.000000</td>\n",
       "    </tr>\n",
       "    <tr>\n",
       "      <td>Family</td>\n",
       "      <td>0.035728</td>\n",
       "      <td>0.031340</td>\n",
       "      <td>0.000000</td>\n",
       "      <td>0.000000</td>\n",
       "      <td>0.000000</td>\n",
       "    </tr>\n",
       "    <tr>\n",
       "      <td>Income</td>\n",
       "      <td>0.003313</td>\n",
       "      <td>0.003554</td>\n",
       "      <td>0.003291</td>\n",
       "      <td>0.002893</td>\n",
       "      <td>0.000000</td>\n",
       "    </tr>\n",
       "    <tr>\n",
       "      <td>Mortgage</td>\n",
       "      <td>0.000004</td>\n",
       "      <td>0.000013</td>\n",
       "      <td>0.000016</td>\n",
       "      <td>0.000000</td>\n",
       "      <td>0.000000</td>\n",
       "    </tr>\n",
       "    <tr>\n",
       "      <td>Online</td>\n",
       "      <td>-0.012241</td>\n",
       "      <td>0.000000</td>\n",
       "      <td>0.000000</td>\n",
       "      <td>0.000000</td>\n",
       "      <td>0.000000</td>\n",
       "    </tr>\n",
       "    <tr>\n",
       "      <td>Securities Account</td>\n",
       "      <td>-0.067973</td>\n",
       "      <td>-0.000000</td>\n",
       "      <td>0.000000</td>\n",
       "      <td>0.000000</td>\n",
       "      <td>0.000000</td>\n",
       "    </tr>\n",
       "  </tbody>\n",
       "</table>\n",
       "</div>"
      ],
      "text/plain": [
       "                      0.001     0.010     0.100     1.000     10.000\n",
       "intercept          -0.335006 -0.381869 -0.143698 -0.113103  0.102286\n",
       "Age                -0.002109  0.000000  0.000000  0.000000 -0.000000\n",
       "CCAvg               0.006829  0.002048  0.000000  0.000000  0.000000\n",
       "CD Account          0.322174  0.114390  0.000000  0.000000  0.000000\n",
       "CreditCard         -0.043385 -0.000000 -0.000000 -0.000000 -0.000000\n",
       "Education           0.076771  0.065834  0.000000  0.000000  0.000000\n",
       "Experience          0.002534  0.000477  0.000000  0.000000 -0.000000\n",
       "Family              0.035728  0.031340  0.000000  0.000000  0.000000\n",
       "Income              0.003313  0.003554  0.003291  0.002893  0.000000\n",
       "Mortgage            0.000004  0.000013  0.000016  0.000000  0.000000\n",
       "Online             -0.012241  0.000000  0.000000  0.000000  0.000000\n",
       "Securities Account -0.067973 -0.000000  0.000000  0.000000  0.000000"
      ]
     },
     "execution_count": 43,
     "metadata": {},
     "output_type": "execute_result"
    }
   ],
   "source": [
    "# df_lasso = pd.DataFrame(data)\n",
    "df_lasso = pd.DataFrame(data, index=alpha).T\n",
    "df_lasso.index = ['intercept'] + feature_columns\n",
    "df_lasso"
   ]
  },
  {
   "cell_type": "code",
   "execution_count": 35,
   "metadata": {},
   "outputs": [
    {
     "data": {
      "text/html": [
       "<div>\n",
       "<style scoped>\n",
       "    .dataframe tbody tr th:only-of-type {\n",
       "        vertical-align: middle;\n",
       "    }\n",
       "\n",
       "    .dataframe tbody tr th {\n",
       "        vertical-align: top;\n",
       "    }\n",
       "\n",
       "    .dataframe thead th {\n",
       "        text-align: right;\n",
       "    }\n",
       "</style>\n",
       "<table border=\"1\" class=\"dataframe\">\n",
       "  <thead>\n",
       "    <tr style=\"text-align: right;\">\n",
       "      <th></th>\n",
       "      <th>0.001</th>\n",
       "      <th>0.010</th>\n",
       "      <th>0.100</th>\n",
       "      <th>1.000</th>\n",
       "      <th>10.000</th>\n",
       "    </tr>\n",
       "  </thead>\n",
       "  <tbody>\n",
       "    <tr>\n",
       "      <td>Accuracy</td>\n",
       "      <td>0.932</td>\n",
       "      <td>0.936</td>\n",
       "      <td>0.894667</td>\n",
       "      <td>0.897333</td>\n",
       "      <td>0.897333</td>\n",
       "    </tr>\n",
       "  </tbody>\n",
       "</table>\n",
       "</div>"
      ],
      "text/plain": [
       "          0.001   0.010     0.100     1.000     10.000\n",
       "Accuracy   0.932   0.936  0.894667  0.897333  0.897333"
      ]
     },
     "execution_count": 35,
     "metadata": {},
     "output_type": "execute_result"
    }
   ],
   "source": [
    "# acc_table_lasso = pd.DataFrame(acc_table)\n",
    "acc_table_lasso = pd.DataFrame(acc_table, index = alpha, columns=['Accuracy']).T\n",
    "acc_table_lasso"
   ]
  },
  {
   "cell_type": "code",
   "execution_count": 44,
   "metadata": {},
   "outputs": [],
   "source": [
    "# Ridge\n",
    "\n",
    "data2 = []\n",
    "acc_table2 = []\n",
    "for idx, value in enumerate(alpha):\n",
    "    ridge = Ridge(alpha=value).fit(train_x, train_y)\n",
    "    data2.append(pd.Series(np.hstack([ridge.intercept_, ridge.coef_])))   # 행 방향으로 절편과 계수 값을 추가 -> Series -> list append\n",
    "    pred_y = ridge.predict(test_x)   # full model\n",
    "    pred_Y = cut_off(pred_y, 0.5)\n",
    "    cfmat = confusion_matrix(test_y, pred_Y)\n",
    "    acc_table2.append(calculate_acc(cfmat))\n",
    "    \n",
    "df_ridge = pd.DataFrame(data2, index=alpha).T\n",
    "df_ridge.index = ['intercept'] + feature_columns\n",
    "acc_table_ridge = pd.DataFrame(acc_table2, index = alpha, columns=['Accuracy']).T"
   ]
  },
  {
   "cell_type": "code",
   "execution_count": 45,
   "metadata": {},
   "outputs": [
    {
     "data": {
      "text/html": [
       "<div>\n",
       "<style scoped>\n",
       "    .dataframe tbody tr th:only-of-type {\n",
       "        vertical-align: middle;\n",
       "    }\n",
       "\n",
       "    .dataframe tbody tr th {\n",
       "        vertical-align: top;\n",
       "    }\n",
       "\n",
       "    .dataframe thead th {\n",
       "        text-align: right;\n",
       "    }\n",
       "</style>\n",
       "<table border=\"1\" class=\"dataframe\">\n",
       "  <thead>\n",
       "    <tr style=\"text-align: right;\">\n",
       "      <th></th>\n",
       "      <th>0.001</th>\n",
       "      <th>0.010</th>\n",
       "      <th>0.100</th>\n",
       "      <th>1.000</th>\n",
       "      <th>10.000</th>\n",
       "    </tr>\n",
       "  </thead>\n",
       "  <tbody>\n",
       "    <tr>\n",
       "      <td>intercept</td>\n",
       "      <td>-0.289557</td>\n",
       "      <td>-0.289565</td>\n",
       "      <td>-0.289645</td>\n",
       "      <td>-0.290438</td>\n",
       "      <td>-0.297581</td>\n",
       "    </tr>\n",
       "    <tr>\n",
       "      <td>Age</td>\n",
       "      <td>-0.003713</td>\n",
       "      <td>-0.003713</td>\n",
       "      <td>-0.003713</td>\n",
       "      <td>-0.003716</td>\n",
       "      <td>-0.003723</td>\n",
       "    </tr>\n",
       "    <tr>\n",
       "      <td>CCAvg</td>\n",
       "      <td>0.007376</td>\n",
       "      <td>0.007376</td>\n",
       "      <td>0.007376</td>\n",
       "      <td>0.007378</td>\n",
       "      <td>0.007388</td>\n",
       "    </tr>\n",
       "    <tr>\n",
       "      <td>CD Account</td>\n",
       "      <td>0.355019</td>\n",
       "      <td>0.354974</td>\n",
       "      <td>0.354529</td>\n",
       "      <td>0.350141</td>\n",
       "      <td>0.311781</td>\n",
       "    </tr>\n",
       "    <tr>\n",
       "      <td>CreditCard</td>\n",
       "      <td>-0.052866</td>\n",
       "      <td>-0.052858</td>\n",
       "      <td>-0.052782</td>\n",
       "      <td>-0.052037</td>\n",
       "      <td>-0.045541</td>\n",
       "    </tr>\n",
       "    <tr>\n",
       "      <td>Education</td>\n",
       "      <td>0.078340</td>\n",
       "      <td>0.078340</td>\n",
       "      <td>0.078341</td>\n",
       "      <td>0.078347</td>\n",
       "      <td>0.078316</td>\n",
       "    </tr>\n",
       "    <tr>\n",
       "      <td>Experience</td>\n",
       "      <td>0.004128</td>\n",
       "      <td>0.004128</td>\n",
       "      <td>0.004129</td>\n",
       "      <td>0.004136</td>\n",
       "      <td>0.004175</td>\n",
       "    </tr>\n",
       "    <tr>\n",
       "      <td>Family</td>\n",
       "      <td>0.036250</td>\n",
       "      <td>0.036250</td>\n",
       "      <td>0.036254</td>\n",
       "      <td>0.036289</td>\n",
       "      <td>0.036578</td>\n",
       "    </tr>\n",
       "    <tr>\n",
       "      <td>Income</td>\n",
       "      <td>0.003274</td>\n",
       "      <td>0.003274</td>\n",
       "      <td>0.003274</td>\n",
       "      <td>0.003278</td>\n",
       "      <td>0.003313</td>\n",
       "    </tr>\n",
       "    <tr>\n",
       "      <td>Mortgage</td>\n",
       "      <td>0.000002</td>\n",
       "      <td>0.000002</td>\n",
       "      <td>0.000002</td>\n",
       "      <td>0.000002</td>\n",
       "      <td>0.000004</td>\n",
       "    </tr>\n",
       "    <tr>\n",
       "      <td>Online</td>\n",
       "      <td>-0.019134</td>\n",
       "      <td>-0.019130</td>\n",
       "      <td>-0.019086</td>\n",
       "      <td>-0.018655</td>\n",
       "      <td>-0.014925</td>\n",
       "    </tr>\n",
       "    <tr>\n",
       "      <td>Securities Account</td>\n",
       "      <td>-0.087756</td>\n",
       "      <td>-0.087739</td>\n",
       "      <td>-0.087569</td>\n",
       "      <td>-0.085897</td>\n",
       "      <td>-0.071545</td>\n",
       "    </tr>\n",
       "  </tbody>\n",
       "</table>\n",
       "</div>"
      ],
      "text/plain": [
       "                      0.001     0.010     0.100     1.000     10.000\n",
       "intercept          -0.289557 -0.289565 -0.289645 -0.290438 -0.297581\n",
       "Age                -0.003713 -0.003713 -0.003713 -0.003716 -0.003723\n",
       "CCAvg               0.007376  0.007376  0.007376  0.007378  0.007388\n",
       "CD Account          0.355019  0.354974  0.354529  0.350141  0.311781\n",
       "CreditCard         -0.052866 -0.052858 -0.052782 -0.052037 -0.045541\n",
       "Education           0.078340  0.078340  0.078341  0.078347  0.078316\n",
       "Experience          0.004128  0.004128  0.004129  0.004136  0.004175\n",
       "Family              0.036250  0.036250  0.036254  0.036289  0.036578\n",
       "Income              0.003274  0.003274  0.003274  0.003278  0.003313\n",
       "Mortgage            0.000002  0.000002  0.000002  0.000002  0.000004\n",
       "Online             -0.019134 -0.019130 -0.019086 -0.018655 -0.014925\n",
       "Securities Account -0.087756 -0.087739 -0.087569 -0.085897 -0.071545"
      ]
     },
     "execution_count": 45,
     "metadata": {},
     "output_type": "execute_result"
    }
   ],
   "source": [
    "df_ridge"
   ]
  },
  {
   "cell_type": "code",
   "execution_count": 38,
   "metadata": {},
   "outputs": [
    {
     "data": {
      "text/html": [
       "<div>\n",
       "<style scoped>\n",
       "    .dataframe tbody tr th:only-of-type {\n",
       "        vertical-align: middle;\n",
       "    }\n",
       "\n",
       "    .dataframe tbody tr th {\n",
       "        vertical-align: top;\n",
       "    }\n",
       "\n",
       "    .dataframe thead th {\n",
       "        text-align: right;\n",
       "    }\n",
       "</style>\n",
       "<table border=\"1\" class=\"dataframe\">\n",
       "  <thead>\n",
       "    <tr style=\"text-align: right;\">\n",
       "      <th></th>\n",
       "      <th>0.001</th>\n",
       "      <th>0.010</th>\n",
       "      <th>0.100</th>\n",
       "      <th>1.000</th>\n",
       "      <th>10.000</th>\n",
       "    </tr>\n",
       "  </thead>\n",
       "  <tbody>\n",
       "    <tr>\n",
       "      <td>Accuracy</td>\n",
       "      <td>0.932</td>\n",
       "      <td>0.932</td>\n",
       "      <td>0.932</td>\n",
       "      <td>0.932</td>\n",
       "      <td>0.932</td>\n",
       "    </tr>\n",
       "  </tbody>\n",
       "</table>\n",
       "</div>"
      ],
      "text/plain": [
       "          0.001   0.010   0.100   1.000   10.000\n",
       "Accuracy   0.932   0.932   0.932   0.932   0.932"
      ]
     },
     "execution_count": 38,
     "metadata": {},
     "output_type": "execute_result"
    }
   ],
   "source": [
    "acc_table_ridge"
   ]
  },
  {
   "cell_type": "markdown",
   "metadata": {},
   "source": [
    "# lambda 값에 따른 회귀계수 축소 시각화"
   ]
  },
  {
   "cell_type": "code",
   "execution_count": 40,
   "metadata": {},
   "outputs": [
    {
     "data": {
      "image/png": "[encoded data removed]",
      "text/plain": [
       "<Figure size 432x288 with 2 Axes>"
      ]
     },
     "metadata": {
      "needs_background": "light"
     },
     "output_type": "display_data"
    }
   ],
   "source": [
    "ax1 = plt.subplot(121)\n",
    "plt.semilogx(df_ridge.T)\n",
    "plt.xticks(alpha)\n",
    "plt.title(\"Ridge\")\n",
    "\n",
    "ax2 = plt.subplot(122)\n",
    "plt.semilogx(df_lasso.T)\n",
    "plt.xticks(alpha)\n",
    "plt.title(\"Lasso\")\n",
    "\n",
    "plt.show()"
   ]
  },
  {
   "cell_type": "code",
   "execution_count": null,
   "metadata": {},
   "outputs": [],
   "source": []
  }
 ],
 "metadata": {
  "kernelspec": {
   "display_name": "Python 3",
   "language": "python",
   "name": "python3"
  },
  "language_info": {
   "codemirror_mode": {
    "name": "ipython",
    "version": 3
   },
   "file_extension": ".py",
   "mimetype": "text/x-python",
   "name": "python",
   "nbconvert_exporter": "python",
   "pygments_lexer": "ipython3",
   "version": "3.7.3"
  }
 },
 "nbformat": 4,
 "nbformat_minor": 2
}
