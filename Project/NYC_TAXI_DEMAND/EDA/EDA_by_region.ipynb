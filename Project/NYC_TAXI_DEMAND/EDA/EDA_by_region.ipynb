{
 "cells": [
  {
   "cell_type": "markdown",
   "metadata": {},
   "source": [
    "## 지역 관점으로 EDA\n",
    "- 지역별로는 어떻게 봐야할까?\n",
    "    - 좌표는 달려있음\n",
    "        - Reverse Geocoding : 위도/경도 => 주소로 변환\n",
    "        - API를 날려야할까?\n",
    "        - BigQuery GIS엔 shp 파일을 Join해서 찾아내는 기능이 있음"
   ]
  },
  {
   "cell_type": "markdown",
   "metadata": {},
   "source": [
    "- Shp 파일\n",
    "    - `bigquery-public-data.geo_us_boundaries.zip_codes`에 저장됨\n",
    "    - pickup_longitude, pickup_latitude가 zip_code_geom에 속하면 그 지역\n",
    "- BigQuery GIS\n",
    "    - [공식 문서](https://cloud.google.com/bigquery/docs/gis-intro?hl=ko)\n",
    "    - [Geography functions](https://cloud.google.com/bigquery/docs/reference/standard-sql/geography_functions)"
   ]
  },
  {
   "cell_type": "code",
   "execution_count": 1,
   "metadata": {},
   "outputs": [
    {
     "name": "stdout",
     "output_type": "stream",
     "text": [
      "0.17.3\n"
     ]
    },
    {
     "data": {
      "text/html": [
       "        <script type=\"text/javascript\">\n",
       "        window.PlotlyConfig = {MathJaxConfig: 'local'};\n",
       "        if (window.MathJax) {MathJax.Hub.Config({SVG: {font: \"STIX-Web\"}});}\n",
       "        if (typeof require !== 'undefined') {\n",
       "        require.undef(\"plotly\");\n",
       "        requirejs.config({\n",
       "            paths: {\n",
       "                'plotly': ['https://cdn.plot.ly/plotly-latest.min']\n",
       "            }\n",
       "        });\n",
       "        require(['plotly'], function(Plotly) {\n",
       "            window._Plotly = Plotly;\n",
       "        });\n",
       "        }\n",
       "        </script>\n",
       "        "
      ]
     },
     "metadata": {},
     "output_type": "display_data"
    }
   ],
   "source": [
    "import chart_studio.plotly as py\n",
    "import cufflinks as cf    # wrapper\n",
    "import pandas as pd\n",
    "import numpy as np\n",
    "import seaborn as sns\n",
    "import matplotlib.pyplot as plt\n",
    "import warnings\n",
    "warnings.filterwarnings(\"ignore\")\n",
    "\n",
    "plt.style.use('ggplot')\n",
    "print(cf.__version__)\n",
    "\n",
    "%matplotlib inline\n",
    "%config InlineBackend.figure_format = 'retina'\n",
    "cf.go_offline()"
   ]
  },
  {
   "cell_type": "code",
   "execution_count": 2,
   "metadata": {},
   "outputs": [
    {
     "name": "stderr",
     "output_type": "stream",
     "text": [
      "Downloading: 100%|███████████████████| 87020/87020 [01:21<00:00, 1069.06rows/s]"
     ]
    },
    {
     "name": "stdout",
     "output_type": "stream",
     "text": [
      "Wall time: 2min 5s\n"
     ]
    },
    {
     "name": "stderr",
     "output_type": "stream",
     "text": [
      "\n"
     ]
    }
   ],
   "source": [
    "%%time\n",
    "# base_data : yellow taxi의 1월 운행 기록만 추출한 임시 테이블\n",
    "# temp : base_data 테이블과 zip_codes 테이블을 inner join한 임시 테이블\n",
    "#        (join 조건 : geopoint 좌표가 zip_code_geom의 multipolygon 영역에 포함되어 있어야 함.)\n",
    "# latitude 90 -> 북극, -90 -> 남극\n",
    "\n",
    "query = \"\"\"\n",
    "WITH base_data AS (\n",
    "  SELECT *\n",
    "  FROM `bigquery-public-data.new_york_taxi_trips.tlc_yellow_trips_2015`\n",
    "  WHERE EXTRACT(MONTH from pickup_datetime) = 1    \n",
    "), temp AS (\n",
    "  SELECT nyc_taxi.*, gis.* \n",
    "  FROM (\n",
    "    SELECT *\n",
    "    FROM base_data\n",
    "    WHERE pickup_latitude  <= 90 and pickup_latitude >= -90\n",
    "    ) as nyc_taxi\n",
    "  JOIN (\n",
    "    SELECT zip_code, state_code, state_name, city, county, zip_code_geom\n",
    "    FROM `bigquery-public-data.geo_us_boundaries.zip_codes`\n",
    "    WHERE state_code='NY'\n",
    "    ) as gis \n",
    "  ON st_contains(zip_code_geom, st_geogpoint(pickup_longitude, pickup_latitude))\n",
    ")\n",
    "\n",
    "SELECT \n",
    "  zip_code, \n",
    "  city,\n",
    "  ST_ASTEXT(zip_code_geom) as zip_code_geom,\n",
    "  DATETIME_TRUNC(pickup_datetime, hour) as pickup_hour,\n",
    "  count(*) as cnt\n",
    "FROM temp\n",
    "GROUP BY zip_code, city, zip_code_geom, pickup_hour\n",
    "ORDER BY pickup_hour\n",
    "\n",
    "\"\"\"\n",
    "\n",
    "df = pd.read_gbq(query=query, dialect='standard', project_id='nyc-taxi-demand')"
   ]
  },
  {
   "cell_type": "code",
   "execution_count": 3,
   "metadata": {},
   "outputs": [
    {
     "data": {
      "text/html": [
       "<div>\n",
       "<style scoped>\n",
       "    .dataframe tbody tr th:only-of-type {\n",
       "        vertical-align: middle;\n",
       "    }\n",
       "\n",
       "    .dataframe tbody tr th {\n",
       "        vertical-align: top;\n",
       "    }\n",
       "\n",
       "    .dataframe thead th {\n",
       "        text-align: right;\n",
       "    }\n",
       "</style>\n",
       "<table border=\"1\" class=\"dataframe\">\n",
       "  <thead>\n",
       "    <tr style=\"text-align: right;\">\n",
       "      <th></th>\n",
       "      <th>zip_code</th>\n",
       "      <th>city</th>\n",
       "      <th>zip_code_geom</th>\n",
       "      <th>pickup_hour</th>\n",
       "      <th>cnt</th>\n",
       "    </tr>\n",
       "  </thead>\n",
       "  <tbody>\n",
       "    <tr>\n",
       "      <th>0</th>\n",
       "      <td>10152</td>\n",
       "      <td>New York city</td>\n",
       "      <td>POLYGON((-73.972613 40.759059, -73.973068 40.7...</td>\n",
       "      <td>2015-01-01</td>\n",
       "      <td>15</td>\n",
       "    </tr>\n",
       "    <tr>\n",
       "      <th>1</th>\n",
       "      <td>11237</td>\n",
       "      <td>New York city</td>\n",
       "      <td>POLYGON((-73.934802 40.713373, -73.934534 40.7...</td>\n",
       "      <td>2015-01-01</td>\n",
       "      <td>38</td>\n",
       "    </tr>\n",
       "    <tr>\n",
       "      <th>2</th>\n",
       "      <td>10280</td>\n",
       "      <td>New York city</td>\n",
       "      <td>POLYGON((-74.019596 40.705638, -74.019603 40.7...</td>\n",
       "      <td>2015-01-01</td>\n",
       "      <td>54</td>\n",
       "    </tr>\n",
       "    <tr>\n",
       "      <th>3</th>\n",
       "      <td>11225</td>\n",
       "      <td>New York city</td>\n",
       "      <td>POLYGON((-73.964786 40.662054, -73.965025 40.6...</td>\n",
       "      <td>2015-01-01</td>\n",
       "      <td>10</td>\n",
       "    </tr>\n",
       "    <tr>\n",
       "      <th>4</th>\n",
       "      <td>10453</td>\n",
       "      <td>New York city</td>\n",
       "      <td>POLYGON((-73.92815 40.845507, -73.928159 40.84...</td>\n",
       "      <td>2015-01-01</td>\n",
       "      <td>4</td>\n",
       "    </tr>\n",
       "    <tr>\n",
       "      <th>5</th>\n",
       "      <td>10199</td>\n",
       "      <td>New York city</td>\n",
       "      <td>MULTIPOLYGON(((-73.99725 40.752083, -73.99768 ...</td>\n",
       "      <td>2015-01-01</td>\n",
       "      <td>20</td>\n",
       "    </tr>\n",
       "    <tr>\n",
       "      <th>6</th>\n",
       "      <td>11101</td>\n",
       "      <td>New York city</td>\n",
       "      <td>POLYGON((-73.96262 40.739033, -73.962609 40.73...</td>\n",
       "      <td>2015-01-01</td>\n",
       "      <td>96</td>\n",
       "    </tr>\n",
       "    <tr>\n",
       "      <th>7</th>\n",
       "      <td>10803</td>\n",
       "      <td>Pelham village, New Rochelle city, Pelham Mano...</td>\n",
       "      <td>POLYGON((-73.823264 40.891357, -73.823244 40.8...</td>\n",
       "      <td>2015-01-01</td>\n",
       "      <td>1</td>\n",
       "    </tr>\n",
       "    <tr>\n",
       "      <th>8</th>\n",
       "      <td>10467</td>\n",
       "      <td>New York city</td>\n",
       "      <td>POLYGON((-73.895986 40.886397, -73.895424 40.8...</td>\n",
       "      <td>2015-01-01</td>\n",
       "      <td>1</td>\n",
       "    </tr>\n",
       "    <tr>\n",
       "      <th>9</th>\n",
       "      <td>11424</td>\n",
       "      <td>New York city</td>\n",
       "      <td>POLYGON((-73.830934 40.714322, -73.830982 40.7...</td>\n",
       "      <td>2015-01-01</td>\n",
       "      <td>2</td>\n",
       "    </tr>\n",
       "  </tbody>\n",
       "</table>\n",
       "</div>"
      ],
      "text/plain": [
       "  zip_code                                               city  \\\n",
       "0    10152                                      New York city   \n",
       "1    11237                                      New York city   \n",
       "2    10280                                      New York city   \n",
       "3    11225                                      New York city   \n",
       "4    10453                                      New York city   \n",
       "5    10199                                      New York city   \n",
       "6    11101                                      New York city   \n",
       "7    10803  Pelham village, New Rochelle city, Pelham Mano...   \n",
       "8    10467                                      New York city   \n",
       "9    11424                                      New York city   \n",
       "\n",
       "                                       zip_code_geom pickup_hour  cnt  \n",
       "0  POLYGON((-73.972613 40.759059, -73.973068 40.7...  2015-01-01   15  \n",
       "1  POLYGON((-73.934802 40.713373, -73.934534 40.7...  2015-01-01   38  \n",
       "2  POLYGON((-74.019596 40.705638, -74.019603 40.7...  2015-01-01   54  \n",
       "3  POLYGON((-73.964786 40.662054, -73.965025 40.6...  2015-01-01   10  \n",
       "4  POLYGON((-73.92815 40.845507, -73.928159 40.84...  2015-01-01    4  \n",
       "5  MULTIPOLYGON(((-73.99725 40.752083, -73.99768 ...  2015-01-01   20  \n",
       "6  POLYGON((-73.96262 40.739033, -73.962609 40.73...  2015-01-01   96  \n",
       "7  POLYGON((-73.823264 40.891357, -73.823244 40.8...  2015-01-01    1  \n",
       "8  POLYGON((-73.895986 40.886397, -73.895424 40.8...  2015-01-01    1  \n",
       "9  POLYGON((-73.830934 40.714322, -73.830982 40.7...  2015-01-01    2  "
      ]
     },
     "execution_count": 3,
     "metadata": {},
     "output_type": "execute_result"
    }
   ],
   "source": [
    "df.head(10)"
   ]
  },
  {
   "cell_type": "markdown",
   "metadata": {},
   "source": [
    "### 운행(출발하는 곳) 빈도가 높은 zip_code는?"
   ]
  },
  {
   "cell_type": "code",
   "execution_count": 7,
   "metadata": {},
   "outputs": [],
   "source": [
    "zip_code_agg_df = df.groupby(['zip_code', 'zip_code_geom'])[['cnt']].sum().reset_index().sort_values(by=['cnt'],ascending=False)"
   ]
  },
  {
   "cell_type": "code",
   "execution_count": 8,
   "metadata": {},
   "outputs": [
    {
     "data": {
      "text/html": [
       "<div>\n",
       "<style scoped>\n",
       "    .dataframe tbody tr th:only-of-type {\n",
       "        vertical-align: middle;\n",
       "    }\n",
       "\n",
       "    .dataframe tbody tr th {\n",
       "        vertical-align: top;\n",
       "    }\n",
       "\n",
       "    .dataframe thead th {\n",
       "        text-align: right;\n",
       "    }\n",
       "</style>\n",
       "<table border=\"1\" class=\"dataframe\">\n",
       "  <thead>\n",
       "    <tr style=\"text-align: right;\">\n",
       "      <th></th>\n",
       "      <th>zip_code</th>\n",
       "      <th>zip_code_geom</th>\n",
       "      <th>cnt</th>\n",
       "    </tr>\n",
       "  </thead>\n",
       "  <tbody>\n",
       "    <tr>\n",
       "      <th>16</th>\n",
       "      <td>10019</td>\n",
       "      <td>POLYGON((-74.003568 40.763799, -74.003767 40.7...</td>\n",
       "      <td>817267</td>\n",
       "    </tr>\n",
       "    <tr>\n",
       "      <th>2</th>\n",
       "      <td>10003</td>\n",
       "      <td>POLYGON((-73.999366 40.731323, -73.999604 40.7...</td>\n",
       "      <td>704598</td>\n",
       "    </tr>\n",
       "    <tr>\n",
       "      <th>19</th>\n",
       "      <td>10022</td>\n",
       "      <td>POLYGON((-73.977201 40.758538, -73.977655 40.7...</td>\n",
       "      <td>679831</td>\n",
       "    </tr>\n",
       "    <tr>\n",
       "      <th>13</th>\n",
       "      <td>10016</td>\n",
       "      <td>POLYGON((-73.987298 40.744682, -73.987746 40.7...</td>\n",
       "      <td>663540</td>\n",
       "    </tr>\n",
       "    <tr>\n",
       "      <th>9</th>\n",
       "      <td>10011</td>\n",
       "      <td>POLYGON((-74.012285 40.74387, -74.012359 40.74...</td>\n",
       "      <td>647831</td>\n",
       "    </tr>\n",
       "    <tr>\n",
       "      <th>0</th>\n",
       "      <td>10001</td>\n",
       "      <td>POLYGON((-74.00828 40.750272, -74.008255 40.75...</td>\n",
       "      <td>627563</td>\n",
       "    </tr>\n",
       "    <tr>\n",
       "      <th>33</th>\n",
       "      <td>10036</td>\n",
       "      <td>POLYGON((-74.001537 40.761487, -74.001622 40.7...</td>\n",
       "      <td>598936</td>\n",
       "    </tr>\n",
       "    <tr>\n",
       "      <th>20</th>\n",
       "      <td>10023</td>\n",
       "      <td>POLYGON((-73.990149 40.772311, -73.989994 40.7...</td>\n",
       "      <td>463049</td>\n",
       "    </tr>\n",
       "    <tr>\n",
       "      <th>14</th>\n",
       "      <td>10017</td>\n",
       "      <td>POLYGON((-73.981372 40.752814, -73.981822 40.7...</td>\n",
       "      <td>439631</td>\n",
       "    </tr>\n",
       "    <tr>\n",
       "      <th>18</th>\n",
       "      <td>10021</td>\n",
       "      <td>MULTIPOLYGON(((-73.959493 40.758974, -73.95972...</td>\n",
       "      <td>428487</td>\n",
       "    </tr>\n",
       "  </tbody>\n",
       "</table>\n",
       "</div>"
      ],
      "text/plain": [
       "   zip_code                                      zip_code_geom     cnt\n",
       "16    10019  POLYGON((-74.003568 40.763799, -74.003767 40.7...  817267\n",
       "2     10003  POLYGON((-73.999366 40.731323, -73.999604 40.7...  704598\n",
       "19    10022  POLYGON((-73.977201 40.758538, -73.977655 40.7...  679831\n",
       "13    10016  POLYGON((-73.987298 40.744682, -73.987746 40.7...  663540\n",
       "9     10011  POLYGON((-74.012285 40.74387, -74.012359 40.74...  647831\n",
       "0     10001  POLYGON((-74.00828 40.750272, -74.008255 40.75...  627563\n",
       "33    10036  POLYGON((-74.001537 40.761487, -74.001622 40.7...  598936\n",
       "20    10023  POLYGON((-73.990149 40.772311, -73.989994 40.7...  463049\n",
       "14    10017  POLYGON((-73.981372 40.752814, -73.981822 40.7...  439631\n",
       "18    10021  MULTIPOLYGON(((-73.959493 40.758974, -73.95972...  428487"
      ]
     },
     "execution_count": 8,
     "metadata": {},
     "output_type": "execute_result"
    }
   ],
   "source": [
    "zip_code_agg_df.head(10)"
   ]
  },
  {
   "cell_type": "code",
   "execution_count": 9,
   "metadata": {},
   "outputs": [],
   "source": [
    "# 운행 횟수의 비율 정보를 데이터프레임에 추가\n",
    "zip_code_agg_df['percent'] = (zip_code_agg_df[['cnt']]/df[['cnt']].sum()).round(3)"
   ]
  },
  {
   "cell_type": "code",
   "execution_count": 10,
   "metadata": {},
   "outputs": [
    {
     "data": {
      "text/html": [
       "<div>\n",
       "<style scoped>\n",
       "    .dataframe tbody tr th:only-of-type {\n",
       "        vertical-align: middle;\n",
       "    }\n",
       "\n",
       "    .dataframe tbody tr th {\n",
       "        vertical-align: top;\n",
       "    }\n",
       "\n",
       "    .dataframe thead th {\n",
       "        text-align: right;\n",
       "    }\n",
       "</style>\n",
       "<table border=\"1\" class=\"dataframe\">\n",
       "  <thead>\n",
       "    <tr style=\"text-align: right;\">\n",
       "      <th></th>\n",
       "      <th>zip_code</th>\n",
       "      <th>zip_code_geom</th>\n",
       "      <th>cnt</th>\n",
       "      <th>percent</th>\n",
       "    </tr>\n",
       "  </thead>\n",
       "  <tbody>\n",
       "    <tr>\n",
       "      <th>328</th>\n",
       "      <td>11720</td>\n",
       "      <td>POLYGON((-73.109394 40.854903, -73.109474 40.8...</td>\n",
       "      <td>1</td>\n",
       "      <td>0.0</td>\n",
       "    </tr>\n",
       "    <tr>\n",
       "      <th>329</th>\n",
       "      <td>11722</td>\n",
       "      <td>POLYGON((-73.231195 40.803989, -73.231339 40.8...</td>\n",
       "      <td>1</td>\n",
       "      <td>0.0</td>\n",
       "    </tr>\n",
       "    <tr>\n",
       "      <th>330</th>\n",
       "      <td>11726</td>\n",
       "      <td>POLYGON((-73.409227 40.68468, -73.409242 40.68...</td>\n",
       "      <td>1</td>\n",
       "      <td>0.0</td>\n",
       "    </tr>\n",
       "    <tr>\n",
       "      <th>331</th>\n",
       "      <td>11729</td>\n",
       "      <td>POLYGON((-73.354085 40.765347, -73.354342 40.7...</td>\n",
       "      <td>1</td>\n",
       "      <td>0.0</td>\n",
       "    </tr>\n",
       "    <tr>\n",
       "      <th>373</th>\n",
       "      <td>14801</td>\n",
       "      <td>POLYGON((-77.442016 42.140918, -77.44193 42.14...</td>\n",
       "      <td>1</td>\n",
       "      <td>0.0</td>\n",
       "    </tr>\n",
       "  </tbody>\n",
       "</table>\n",
       "</div>"
      ],
      "text/plain": [
       "    zip_code                                      zip_code_geom  cnt  percent\n",
       "328    11720  POLYGON((-73.109394 40.854903, -73.109474 40.8...    1      0.0\n",
       "329    11722  POLYGON((-73.231195 40.803989, -73.231339 40.8...    1      0.0\n",
       "330    11726  POLYGON((-73.409227 40.68468, -73.409242 40.68...    1      0.0\n",
       "331    11729  POLYGON((-73.354085 40.765347, -73.354342 40.7...    1      0.0\n",
       "373    14801  POLYGON((-77.442016 42.140918, -77.44193 42.14...    1      0.0"
      ]
     },
     "execution_count": 10,
     "metadata": {},
     "output_type": "execute_result"
    }
   ],
   "source": [
    "zip_code_agg_df.tail()"
   ]
  },
  {
   "cell_type": "code",
   "execution_count": 11,
   "metadata": {},
   "outputs": [
    {
     "data": {
      "text/html": [
       "<div>\n",
       "<style scoped>\n",
       "    .dataframe tbody tr th:only-of-type {\n",
       "        vertical-align: middle;\n",
       "    }\n",
       "\n",
       "    .dataframe tbody tr th {\n",
       "        vertical-align: top;\n",
       "    }\n",
       "\n",
       "    .dataframe thead th {\n",
       "        text-align: right;\n",
       "    }\n",
       "</style>\n",
       "<table border=\"1\" class=\"dataframe\">\n",
       "  <thead>\n",
       "    <tr style=\"text-align: right;\">\n",
       "      <th></th>\n",
       "      <th>zip_code</th>\n",
       "      <th>zip_code_geom</th>\n",
       "      <th>cnt</th>\n",
       "      <th>percent</th>\n",
       "    </tr>\n",
       "  </thead>\n",
       "  <tbody>\n",
       "    <tr>\n",
       "      <th>16</th>\n",
       "      <td>10019</td>\n",
       "      <td>POLYGON((-74.003568 40.763799, -74.003767 40.7...</td>\n",
       "      <td>817267</td>\n",
       "      <td>0.066</td>\n",
       "    </tr>\n",
       "    <tr>\n",
       "      <th>2</th>\n",
       "      <td>10003</td>\n",
       "      <td>POLYGON((-73.999366 40.731323, -73.999604 40.7...</td>\n",
       "      <td>704598</td>\n",
       "      <td>0.057</td>\n",
       "    </tr>\n",
       "    <tr>\n",
       "      <th>19</th>\n",
       "      <td>10022</td>\n",
       "      <td>POLYGON((-73.977201 40.758538, -73.977655 40.7...</td>\n",
       "      <td>679831</td>\n",
       "      <td>0.055</td>\n",
       "    </tr>\n",
       "    <tr>\n",
       "      <th>13</th>\n",
       "      <td>10016</td>\n",
       "      <td>POLYGON((-73.987298 40.744682, -73.987746 40.7...</td>\n",
       "      <td>663540</td>\n",
       "      <td>0.054</td>\n",
       "    </tr>\n",
       "    <tr>\n",
       "      <th>9</th>\n",
       "      <td>10011</td>\n",
       "      <td>POLYGON((-74.012285 40.74387, -74.012359 40.74...</td>\n",
       "      <td>647831</td>\n",
       "      <td>0.053</td>\n",
       "    </tr>\n",
       "  </tbody>\n",
       "</table>\n",
       "</div>"
      ],
      "text/plain": [
       "   zip_code                                      zip_code_geom     cnt  \\\n",
       "16    10019  POLYGON((-74.003568 40.763799, -74.003767 40.7...  817267   \n",
       "2     10003  POLYGON((-73.999366 40.731323, -73.999604 40.7...  704598   \n",
       "19    10022  POLYGON((-73.977201 40.758538, -73.977655 40.7...  679831   \n",
       "13    10016  POLYGON((-73.987298 40.744682, -73.987746 40.7...  663540   \n",
       "9     10011  POLYGON((-74.012285 40.74387, -74.012359 40.74...  647831   \n",
       "\n",
       "    percent  \n",
       "16    0.066  \n",
       "2     0.057  \n",
       "19    0.055  \n",
       "13    0.054  \n",
       "9     0.053  "
      ]
     },
     "execution_count": 11,
     "metadata": {},
     "output_type": "execute_result"
    }
   ],
   "source": [
    "zip_code_agg_df.head()"
   ]
  },
  {
   "cell_type": "code",
   "execution_count": 12,
   "metadata": {},
   "outputs": [],
   "source": [
    "# percent value가 0.000 보다 큰 행만 필터링하여 새로운 데이터프레임 구성\n",
    "filter_agg_df = zip_code_agg_df[zip_code_agg_df['percent'] > 0.000]"
   ]
  },
  {
   "cell_type": "code",
   "execution_count": 13,
   "metadata": {},
   "outputs": [
    {
     "data": {
      "text/html": [
       "<div>\n",
       "<style scoped>\n",
       "    .dataframe tbody tr th:only-of-type {\n",
       "        vertical-align: middle;\n",
       "    }\n",
       "\n",
       "    .dataframe tbody tr th {\n",
       "        vertical-align: top;\n",
       "    }\n",
       "\n",
       "    .dataframe thead th {\n",
       "        text-align: right;\n",
       "    }\n",
       "</style>\n",
       "<table border=\"1\" class=\"dataframe\">\n",
       "  <thead>\n",
       "    <tr style=\"text-align: right;\">\n",
       "      <th></th>\n",
       "      <th>zip_code</th>\n",
       "      <th>zip_code_geom</th>\n",
       "      <th>cnt</th>\n",
       "      <th>percent</th>\n",
       "    </tr>\n",
       "  </thead>\n",
       "  <tbody>\n",
       "    <tr>\n",
       "      <th>51</th>\n",
       "      <td>10154</td>\n",
       "      <td>POLYGON((-73.973068 40.758432, -73.973524 40.7...</td>\n",
       "      <td>11168</td>\n",
       "      <td>0.001</td>\n",
       "    </tr>\n",
       "    <tr>\n",
       "      <th>186</th>\n",
       "      <td>11103</td>\n",
       "      <td>MULTIPOLYGON(((-73.904137 40.76752, -73.904187...</td>\n",
       "      <td>10907</td>\n",
       "      <td>0.001</td>\n",
       "    </tr>\n",
       "    <tr>\n",
       "      <th>195</th>\n",
       "      <td>11206</td>\n",
       "      <td>POLYGON((-73.95733 40.700904, -73.957457 40.70...</td>\n",
       "      <td>9628</td>\n",
       "      <td>0.001</td>\n",
       "    </tr>\n",
       "    <tr>\n",
       "      <th>226</th>\n",
       "      <td>11238</td>\n",
       "      <td>POLYGON((-73.973648 40.687303, -73.973374 40.6...</td>\n",
       "      <td>9456</td>\n",
       "      <td>0.001</td>\n",
       "    </tr>\n",
       "    <tr>\n",
       "      <th>29</th>\n",
       "      <td>10032</td>\n",
       "      <td>POLYGON((-73.950279 40.834326, -73.949932 40.8...</td>\n",
       "      <td>8765</td>\n",
       "      <td>0.001</td>\n",
       "    </tr>\n",
       "    <tr>\n",
       "      <th>194</th>\n",
       "      <td>11205</td>\n",
       "      <td>POLYGON((-73.980649 40.701561, -73.980729 40.7...</td>\n",
       "      <td>8437</td>\n",
       "      <td>0.001</td>\n",
       "    </tr>\n",
       "    <tr>\n",
       "      <th>54</th>\n",
       "      <td>10167</td>\n",
       "      <td>POLYGON((-73.975352 40.755303, -73.975807 40.7...</td>\n",
       "      <td>8186</td>\n",
       "      <td>0.001</td>\n",
       "    </tr>\n",
       "    <tr>\n",
       "      <th>45</th>\n",
       "      <td>10112</td>\n",
       "      <td>POLYGON((-73.980426 40.759899, -73.980886 40.7...</td>\n",
       "      <td>8135</td>\n",
       "      <td>0.001</td>\n",
       "    </tr>\n",
       "    <tr>\n",
       "      <th>60</th>\n",
       "      <td>10173</td>\n",
       "      <td>POLYGON((-73.979937 40.754783, -73.980395 40.7...</td>\n",
       "      <td>7966</td>\n",
       "      <td>0.001</td>\n",
       "    </tr>\n",
       "    <tr>\n",
       "      <th>44</th>\n",
       "      <td>10111</td>\n",
       "      <td>POLYGON((-73.97845 40.759065, -73.978039 40.75...</td>\n",
       "      <td>6898</td>\n",
       "      <td>0.001</td>\n",
       "    </tr>\n",
       "  </tbody>\n",
       "</table>\n",
       "</div>"
      ],
      "text/plain": [
       "    zip_code                                      zip_code_geom    cnt  \\\n",
       "51     10154  POLYGON((-73.973068 40.758432, -73.973524 40.7...  11168   \n",
       "186    11103  MULTIPOLYGON(((-73.904137 40.76752, -73.904187...  10907   \n",
       "195    11206  POLYGON((-73.95733 40.700904, -73.957457 40.70...   9628   \n",
       "226    11238  POLYGON((-73.973648 40.687303, -73.973374 40.6...   9456   \n",
       "29     10032  POLYGON((-73.950279 40.834326, -73.949932 40.8...   8765   \n",
       "194    11205  POLYGON((-73.980649 40.701561, -73.980729 40.7...   8437   \n",
       "54     10167  POLYGON((-73.975352 40.755303, -73.975807 40.7...   8186   \n",
       "45     10112  POLYGON((-73.980426 40.759899, -73.980886 40.7...   8135   \n",
       "60     10173  POLYGON((-73.979937 40.754783, -73.980395 40.7...   7966   \n",
       "44     10111  POLYGON((-73.97845 40.759065, -73.978039 40.75...   6898   \n",
       "\n",
       "     percent  \n",
       "51     0.001  \n",
       "186    0.001  \n",
       "195    0.001  \n",
       "226    0.001  \n",
       "29     0.001  \n",
       "194    0.001  \n",
       "54     0.001  \n",
       "45     0.001  \n",
       "60     0.001  \n",
       "44     0.001  "
      ]
     },
     "execution_count": 13,
     "metadata": {},
     "output_type": "execute_result"
    }
   ],
   "source": [
    "filter_agg_df.tail(10)"
   ]
  },
  {
   "cell_type": "code",
   "execution_count": 14,
   "metadata": {},
   "outputs": [],
   "source": [
    "# csv 파일 생성\n",
    "filter_agg_df.to_csv(\"zip_code_ratio.csv\", index=False)"
   ]
  },
  {
   "cell_type": "markdown",
   "metadata": {},
   "source": [
    "### Kepler.gl에서 시각화\n",
    "- [Kepler.gl](https://kepler.gl/demo)\n",
    "- ![NewYork_Geometry_Kepler](kepler1.png)"
   ]
  },
  {
   "cell_type": "markdown",
   "metadata": {},
   "source": [
    "- ![NewYork_Geometry_Kepler2](kepler2.png)"
   ]
  },
  {
   "cell_type": "code",
   "execution_count": 15,
   "metadata": {},
   "outputs": [],
   "source": [
    "zip_df = df[['zip_code', 'zip_code_geom', 'pickup_hour', 'cnt']]"
   ]
  },
  {
   "cell_type": "code",
   "execution_count": 16,
   "metadata": {},
   "outputs": [],
   "source": [
    "zip_df['date'] = zip_df['pickup_hour'].dt.date"
   ]
  },
  {
   "cell_type": "code",
   "execution_count": 18,
   "metadata": {},
   "outputs": [
    {
     "data": {
      "text/plain": [
       "<matplotlib.axes._subplots.AxesSubplot at 0x1f5a64a8>"
      ]
     },
     "execution_count": 18,
     "metadata": {},
     "output_type": "execute_result"
    },
    {
     "data": {
      "image/png": "[encoded data removed]",
      "text/plain": [
       "<Figure size 432x288 with 1 Axes>"
      ]
     },
     "metadata": {
      "image/png": {
       "height": 297,
       "width": 381
      },
      "needs_background": "light"
     },
     "output_type": "display_data"
    }
   ],
   "source": [
    "zip_df[zip_df['zip_code'] == '10019'].set_index('pickup_hour')['cnt'].plot()"
   ]
  },
  {
   "cell_type": "markdown",
   "metadata": {},
   "source": [
    "### 하루 단위 zip_code별 Trip Box Plot"
   ]
  },
  {
   "cell_type": "code",
   "execution_count": 19,
   "metadata": {},
   "outputs": [
    {
     "data": {
      "text/html": [
       "<div>\n",
       "<style scoped>\n",
       "    .dataframe tbody tr th:only-of-type {\n",
       "        vertical-align: middle;\n",
       "    }\n",
       "\n",
       "    .dataframe tbody tr th {\n",
       "        vertical-align: top;\n",
       "    }\n",
       "\n",
       "    .dataframe thead th {\n",
       "        text-align: right;\n",
       "    }\n",
       "</style>\n",
       "<table border=\"1\" class=\"dataframe\">\n",
       "  <thead>\n",
       "    <tr style=\"text-align: right;\">\n",
       "      <th></th>\n",
       "      <th>zip_code</th>\n",
       "      <th>zip_code_geom</th>\n",
       "      <th>pickup_hour</th>\n",
       "      <th>cnt</th>\n",
       "      <th>date</th>\n",
       "    </tr>\n",
       "  </thead>\n",
       "  <tbody>\n",
       "    <tr>\n",
       "      <th>0</th>\n",
       "      <td>10152</td>\n",
       "      <td>POLYGON((-73.972613 40.759059, -73.973068 40.7...</td>\n",
       "      <td>2015-01-01 00:00:00</td>\n",
       "      <td>15</td>\n",
       "      <td>2015-01-01</td>\n",
       "    </tr>\n",
       "    <tr>\n",
       "      <th>1</th>\n",
       "      <td>11237</td>\n",
       "      <td>POLYGON((-73.934802 40.713373, -73.934534 40.7...</td>\n",
       "      <td>2015-01-01 00:00:00</td>\n",
       "      <td>38</td>\n",
       "      <td>2015-01-01</td>\n",
       "    </tr>\n",
       "    <tr>\n",
       "      <th>2</th>\n",
       "      <td>10280</td>\n",
       "      <td>POLYGON((-74.019596 40.705638, -74.019603 40.7...</td>\n",
       "      <td>2015-01-01 00:00:00</td>\n",
       "      <td>54</td>\n",
       "      <td>2015-01-01</td>\n",
       "    </tr>\n",
       "    <tr>\n",
       "      <th>3</th>\n",
       "      <td>11225</td>\n",
       "      <td>POLYGON((-73.964786 40.662054, -73.965025 40.6...</td>\n",
       "      <td>2015-01-01 00:00:00</td>\n",
       "      <td>10</td>\n",
       "      <td>2015-01-01</td>\n",
       "    </tr>\n",
       "    <tr>\n",
       "      <th>4</th>\n",
       "      <td>10453</td>\n",
       "      <td>POLYGON((-73.92815 40.845507, -73.928159 40.84...</td>\n",
       "      <td>2015-01-01 00:00:00</td>\n",
       "      <td>4</td>\n",
       "      <td>2015-01-01</td>\n",
       "    </tr>\n",
       "    <tr>\n",
       "      <th>...</th>\n",
       "      <td>...</td>\n",
       "      <td>...</td>\n",
       "      <td>...</td>\n",
       "      <td>...</td>\n",
       "      <td>...</td>\n",
       "    </tr>\n",
       "    <tr>\n",
       "      <th>87015</th>\n",
       "      <td>11375</td>\n",
       "      <td>POLYGON((-73.858522 40.721529, -73.858235 40.7...</td>\n",
       "      <td>2015-01-31 23:00:00</td>\n",
       "      <td>2</td>\n",
       "      <td>2015-01-31</td>\n",
       "    </tr>\n",
       "    <tr>\n",
       "      <th>87016</th>\n",
       "      <td>11207</td>\n",
       "      <td>POLYGON((-73.916046 40.686072, -73.915827 40.6...</td>\n",
       "      <td>2015-01-31 23:00:00</td>\n",
       "      <td>2</td>\n",
       "      <td>2015-01-31</td>\n",
       "    </tr>\n",
       "    <tr>\n",
       "      <th>87017</th>\n",
       "      <td>10013</td>\n",
       "      <td>POLYGON((-74.016302 40.720758, -74.016381 40.7...</td>\n",
       "      <td>2015-01-31 23:00:00</td>\n",
       "      <td>841</td>\n",
       "      <td>2015-01-31</td>\n",
       "    </tr>\n",
       "    <tr>\n",
       "      <th>87018</th>\n",
       "      <td>11228</td>\n",
       "      <td>POLYGON((-74.027369 40.613235, -74.02755 40.61...</td>\n",
       "      <td>2015-01-31 23:00:00</td>\n",
       "      <td>1</td>\n",
       "      <td>2015-01-31</td>\n",
       "    </tr>\n",
       "    <tr>\n",
       "      <th>87019</th>\n",
       "      <td>11370</td>\n",
       "      <td>MULTIPOLYGON(((-73.892656 40.793824, -73.89276...</td>\n",
       "      <td>2015-01-31 23:00:00</td>\n",
       "      <td>1</td>\n",
       "      <td>2015-01-31</td>\n",
       "    </tr>\n",
       "  </tbody>\n",
       "</table>\n",
       "<p>87020 rows × 5 columns</p>\n",
       "</div>"
      ],
      "text/plain": [
       "      zip_code                                      zip_code_geom  \\\n",
       "0        10152  POLYGON((-73.972613 40.759059, -73.973068 40.7...   \n",
       "1        11237  POLYGON((-73.934802 40.713373, -73.934534 40.7...   \n",
       "2        10280  POLYGON((-74.019596 40.705638, -74.019603 40.7...   \n",
       "3        11225  POLYGON((-73.964786 40.662054, -73.965025 40.6...   \n",
       "4        10453  POLYGON((-73.92815 40.845507, -73.928159 40.84...   \n",
       "...        ...                                                ...   \n",
       "87015    11375  POLYGON((-73.858522 40.721529, -73.858235 40.7...   \n",
       "87016    11207  POLYGON((-73.916046 40.686072, -73.915827 40.6...   \n",
       "87017    10013  POLYGON((-74.016302 40.720758, -74.016381 40.7...   \n",
       "87018    11228  POLYGON((-74.027369 40.613235, -74.02755 40.61...   \n",
       "87019    11370  MULTIPOLYGON(((-73.892656 40.793824, -73.89276...   \n",
       "\n",
       "              pickup_hour  cnt        date  \n",
       "0     2015-01-01 00:00:00   15  2015-01-01  \n",
       "1     2015-01-01 00:00:00   38  2015-01-01  \n",
       "2     2015-01-01 00:00:00   54  2015-01-01  \n",
       "3     2015-01-01 00:00:00   10  2015-01-01  \n",
       "4     2015-01-01 00:00:00    4  2015-01-01  \n",
       "...                   ...  ...         ...  \n",
       "87015 2015-01-31 23:00:00    2  2015-01-31  \n",
       "87016 2015-01-31 23:00:00    2  2015-01-31  \n",
       "87017 2015-01-31 23:00:00  841  2015-01-31  \n",
       "87018 2015-01-31 23:00:00    1  2015-01-31  \n",
       "87019 2015-01-31 23:00:00    1  2015-01-31  \n",
       "\n",
       "[87020 rows x 5 columns]"
      ]
     },
     "execution_count": 19,
     "metadata": {},
     "output_type": "execute_result"
    }
   ],
   "source": [
    "zip_df"
   ]
  },
  {
   "cell_type": "code",
   "execution_count": 22,
   "metadata": {},
   "outputs": [],
   "source": [
    "# percent value가 0.000 보다 큰 zip code를 리스트로 저장\n",
    "filter_zip_code = filter_agg_df['zip_code'].to_list()"
   ]
  },
  {
   "cell_type": "code",
   "execution_count": 24,
   "metadata": {},
   "outputs": [
    {
     "data": {
      "text/html": [
       "<div>\n",
       "<style scoped>\n",
       "    .dataframe tbody tr th:only-of-type {\n",
       "        vertical-align: middle;\n",
       "    }\n",
       "\n",
       "    .dataframe tbody tr th {\n",
       "        vertical-align: top;\n",
       "    }\n",
       "\n",
       "    .dataframe thead th {\n",
       "        text-align: right;\n",
       "    }\n",
       "</style>\n",
       "<table border=\"1\" class=\"dataframe\">\n",
       "  <thead>\n",
       "    <tr style=\"text-align: right;\">\n",
       "      <th></th>\n",
       "      <th>zip_code</th>\n",
       "      <th>zip_code_geom</th>\n",
       "      <th>pickup_hour</th>\n",
       "      <th>cnt</th>\n",
       "      <th>date</th>\n",
       "    </tr>\n",
       "  </thead>\n",
       "  <tbody>\n",
       "    <tr>\n",
       "      <th>0</th>\n",
       "      <td>10152</td>\n",
       "      <td>POLYGON((-73.972613 40.759059, -73.973068 40.7...</td>\n",
       "      <td>2015-01-01</td>\n",
       "      <td>15</td>\n",
       "      <td>2015-01-01</td>\n",
       "    </tr>\n",
       "    <tr>\n",
       "      <th>2</th>\n",
       "      <td>10280</td>\n",
       "      <td>POLYGON((-74.019596 40.705638, -74.019603 40.7...</td>\n",
       "      <td>2015-01-01</td>\n",
       "      <td>54</td>\n",
       "      <td>2015-01-01</td>\n",
       "    </tr>\n",
       "    <tr>\n",
       "      <th>5</th>\n",
       "      <td>10199</td>\n",
       "      <td>MULTIPOLYGON(((-73.99725 40.752083, -73.99768 ...</td>\n",
       "      <td>2015-01-01</td>\n",
       "      <td>20</td>\n",
       "      <td>2015-01-01</td>\n",
       "    </tr>\n",
       "    <tr>\n",
       "      <th>6</th>\n",
       "      <td>11101</td>\n",
       "      <td>POLYGON((-73.96262 40.739033, -73.962609 40.73...</td>\n",
       "      <td>2015-01-01</td>\n",
       "      <td>96</td>\n",
       "      <td>2015-01-01</td>\n",
       "    </tr>\n",
       "    <tr>\n",
       "      <th>10</th>\n",
       "      <td>10001</td>\n",
       "      <td>POLYGON((-74.00828 40.750272, -74.008255 40.75...</td>\n",
       "      <td>2015-01-01</td>\n",
       "      <td>1221</td>\n",
       "      <td>2015-01-01</td>\n",
       "    </tr>\n",
       "    <tr>\n",
       "      <th>11</th>\n",
       "      <td>11103</td>\n",
       "      <td>MULTIPOLYGON(((-73.904137 40.76752, -73.904187...</td>\n",
       "      <td>2015-01-01</td>\n",
       "      <td>45</td>\n",
       "      <td>2015-01-01</td>\n",
       "    </tr>\n",
       "    <tr>\n",
       "      <th>12</th>\n",
       "      <td>10168</td>\n",
       "      <td>POLYGON((-73.977677 40.752119, -73.978159 40.7...</td>\n",
       "      <td>2015-01-01</td>\n",
       "      <td>32</td>\n",
       "      <td>2015-01-01</td>\n",
       "    </tr>\n",
       "    <tr>\n",
       "      <th>13</th>\n",
       "      <td>10023</td>\n",
       "      <td>POLYGON((-73.990149 40.772311, -73.989994 40.7...</td>\n",
       "      <td>2015-01-01</td>\n",
       "      <td>971</td>\n",
       "      <td>2015-01-01</td>\n",
       "    </tr>\n",
       "    <tr>\n",
       "      <th>17</th>\n",
       "      <td>10035</td>\n",
       "      <td>MULTIPOLYGON(((-73.946325 40.800852, -73.94646...</td>\n",
       "      <td>2015-01-01</td>\n",
       "      <td>92</td>\n",
       "      <td>2015-01-01</td>\n",
       "    </tr>\n",
       "    <tr>\n",
       "      <th>18</th>\n",
       "      <td>11211</td>\n",
       "      <td>MULTIPOLYGON(((-73.955603 40.724041, -73.95567...</td>\n",
       "      <td>2015-01-01</td>\n",
       "      <td>432</td>\n",
       "      <td>2015-01-01</td>\n",
       "    </tr>\n",
       "  </tbody>\n",
       "</table>\n",
       "</div>"
      ],
      "text/plain": [
       "   zip_code                                      zip_code_geom pickup_hour  \\\n",
       "0     10152  POLYGON((-73.972613 40.759059, -73.973068 40.7...  2015-01-01   \n",
       "2     10280  POLYGON((-74.019596 40.705638, -74.019603 40.7...  2015-01-01   \n",
       "5     10199  MULTIPOLYGON(((-73.99725 40.752083, -73.99768 ...  2015-01-01   \n",
       "6     11101  POLYGON((-73.96262 40.739033, -73.962609 40.73...  2015-01-01   \n",
       "10    10001  POLYGON((-74.00828 40.750272, -74.008255 40.75...  2015-01-01   \n",
       "11    11103  MULTIPOLYGON(((-73.904137 40.76752, -73.904187...  2015-01-01   \n",
       "12    10168  POLYGON((-73.977677 40.752119, -73.978159 40.7...  2015-01-01   \n",
       "13    10023  POLYGON((-73.990149 40.772311, -73.989994 40.7...  2015-01-01   \n",
       "17    10035  MULTIPOLYGON(((-73.946325 40.800852, -73.94646...  2015-01-01   \n",
       "18    11211  MULTIPOLYGON(((-73.955603 40.724041, -73.95567...  2015-01-01   \n",
       "\n",
       "     cnt        date  \n",
       "0     15  2015-01-01  \n",
       "2     54  2015-01-01  \n",
       "5     20  2015-01-01  \n",
       "6     96  2015-01-01  \n",
       "10  1221  2015-01-01  \n",
       "11    45  2015-01-01  \n",
       "12    32  2015-01-01  \n",
       "13   971  2015-01-01  \n",
       "17    92  2015-01-01  \n",
       "18   432  2015-01-01  "
      ]
     },
     "execution_count": 24,
     "metadata": {},
     "output_type": "execute_result"
    }
   ],
   "source": [
    "filter_zip_df = zip_df[zip_df['zip_code'].isin(filter_zip_code)]\n",
    "filter_zip_df.head(10)"
   ]
  },
  {
   "cell_type": "code",
   "execution_count": 25,
   "metadata": {},
   "outputs": [
    {
     "data": {
      "text/html": [
       "<div>\n",
       "<style scoped>\n",
       "    .dataframe tbody tr th:only-of-type {\n",
       "        vertical-align: middle;\n",
       "    }\n",
       "\n",
       "    .dataframe tbody tr th {\n",
       "        vertical-align: top;\n",
       "    }\n",
       "\n",
       "    .dataframe thead th {\n",
       "        text-align: right;\n",
       "    }\n",
       "</style>\n",
       "<table border=\"1\" class=\"dataframe\">\n",
       "  <thead>\n",
       "    <tr style=\"text-align: right;\">\n",
       "      <th></th>\n",
       "      <th>zip_code</th>\n",
       "      <th>date</th>\n",
       "      <th>cnt</th>\n",
       "    </tr>\n",
       "  </thead>\n",
       "  <tbody>\n",
       "    <tr>\n",
       "      <th>0</th>\n",
       "      <td>10001</td>\n",
       "      <td>2015-01-01</td>\n",
       "      <td>16770</td>\n",
       "    </tr>\n",
       "    <tr>\n",
       "      <th>1</th>\n",
       "      <td>10001</td>\n",
       "      <td>2015-01-02</td>\n",
       "      <td>17046</td>\n",
       "    </tr>\n",
       "    <tr>\n",
       "      <th>2</th>\n",
       "      <td>10001</td>\n",
       "      <td>2015-01-03</td>\n",
       "      <td>20478</td>\n",
       "    </tr>\n",
       "    <tr>\n",
       "      <th>3</th>\n",
       "      <td>10001</td>\n",
       "      <td>2015-01-04</td>\n",
       "      <td>16743</td>\n",
       "    </tr>\n",
       "    <tr>\n",
       "      <th>4</th>\n",
       "      <td>10001</td>\n",
       "      <td>2015-01-05</td>\n",
       "      <td>17441</td>\n",
       "    </tr>\n",
       "    <tr>\n",
       "      <th>5</th>\n",
       "      <td>10001</td>\n",
       "      <td>2015-01-06</td>\n",
       "      <td>18544</td>\n",
       "    </tr>\n",
       "    <tr>\n",
       "      <th>6</th>\n",
       "      <td>10001</td>\n",
       "      <td>2015-01-07</td>\n",
       "      <td>20846</td>\n",
       "    </tr>\n",
       "    <tr>\n",
       "      <th>7</th>\n",
       "      <td>10001</td>\n",
       "      <td>2015-01-08</td>\n",
       "      <td>22799</td>\n",
       "    </tr>\n",
       "    <tr>\n",
       "      <th>8</th>\n",
       "      <td>10001</td>\n",
       "      <td>2015-01-09</td>\n",
       "      <td>21773</td>\n",
       "    </tr>\n",
       "    <tr>\n",
       "      <th>9</th>\n",
       "      <td>10001</td>\n",
       "      <td>2015-01-10</td>\n",
       "      <td>25343</td>\n",
       "    </tr>\n",
       "  </tbody>\n",
       "</table>\n",
       "</div>"
      ],
      "text/plain": [
       "  zip_code        date    cnt\n",
       "0    10001  2015-01-01  16770\n",
       "1    10001  2015-01-02  17046\n",
       "2    10001  2015-01-03  20478\n",
       "3    10001  2015-01-04  16743\n",
       "4    10001  2015-01-05  17441\n",
       "5    10001  2015-01-06  18544\n",
       "6    10001  2015-01-07  20846\n",
       "7    10001  2015-01-08  22799\n",
       "8    10001  2015-01-09  21773\n",
       "9    10001  2015-01-10  25343"
      ]
     },
     "execution_count": 25,
     "metadata": {},
     "output_type": "execute_result"
    }
   ],
   "source": [
    "# 일자 별, zip code별 운행 빈도 수 합산을 한 데이터프레임\n",
    "filter_zip_daily_df = filter_zip_df.groupby(['zip_code','date'])[['cnt']].sum().reset_index()\n",
    "filter_zip_daily_df.head(10)"
   ]
  },
  {
   "cell_type": "code",
   "execution_count": 30,
   "metadata": {},
   "outputs": [
    {
     "data": {
      "text/html": [
       "<div>\n",
       "<style scoped>\n",
       "    .dataframe tbody tr th:only-of-type {\n",
       "        vertical-align: middle;\n",
       "    }\n",
       "\n",
       "    .dataframe tbody tr th {\n",
       "        vertical-align: top;\n",
       "    }\n",
       "\n",
       "    .dataframe thead th {\n",
       "        text-align: right;\n",
       "    }\n",
       "</style>\n",
       "<table border=\"1\" class=\"dataframe\">\n",
       "  <thead>\n",
       "    <tr style=\"text-align: right;\">\n",
       "      <th>zip_code</th>\n",
       "      <th>10001</th>\n",
       "      <th>10002</th>\n",
       "      <th>10003</th>\n",
       "      <th>10004</th>\n",
       "      <th>10005</th>\n",
       "      <th>10006</th>\n",
       "      <th>10007</th>\n",
       "      <th>10009</th>\n",
       "      <th>10010</th>\n",
       "      <th>10011</th>\n",
       "      <th>...</th>\n",
       "      <th>11206</th>\n",
       "      <th>11211</th>\n",
       "      <th>11215</th>\n",
       "      <th>11217</th>\n",
       "      <th>11222</th>\n",
       "      <th>11231</th>\n",
       "      <th>11238</th>\n",
       "      <th>11371</th>\n",
       "      <th>11377</th>\n",
       "      <th>11430</th>\n",
       "    </tr>\n",
       "    <tr>\n",
       "      <th>date</th>\n",
       "      <th></th>\n",
       "      <th></th>\n",
       "      <th></th>\n",
       "      <th></th>\n",
       "      <th></th>\n",
       "      <th></th>\n",
       "      <th></th>\n",
       "      <th></th>\n",
       "      <th></th>\n",
       "      <th></th>\n",
       "      <th></th>\n",
       "      <th></th>\n",
       "      <th></th>\n",
       "      <th></th>\n",
       "      <th></th>\n",
       "      <th></th>\n",
       "      <th></th>\n",
       "      <th></th>\n",
       "      <th></th>\n",
       "      <th></th>\n",
       "      <th></th>\n",
       "    </tr>\n",
       "  </thead>\n",
       "  <tbody>\n",
       "    <tr>\n",
       "      <th>2015-01-01</th>\n",
       "      <td>16770</td>\n",
       "      <td>9703</td>\n",
       "      <td>21226</td>\n",
       "      <td>2137</td>\n",
       "      <td>1485</td>\n",
       "      <td>1656</td>\n",
       "      <td>2868</td>\n",
       "      <td>10049</td>\n",
       "      <td>10306</td>\n",
       "      <td>15644</td>\n",
       "      <td>...</td>\n",
       "      <td>1302</td>\n",
       "      <td>5150</td>\n",
       "      <td>1120</td>\n",
       "      <td>1458</td>\n",
       "      <td>1479</td>\n",
       "      <td>656</td>\n",
       "      <td>1043</td>\n",
       "      <td>6401</td>\n",
       "      <td>828</td>\n",
       "      <td>7400</td>\n",
       "    </tr>\n",
       "    <tr>\n",
       "      <th>2015-01-02</th>\n",
       "      <td>17046</td>\n",
       "      <td>5538</td>\n",
       "      <td>18452</td>\n",
       "      <td>1972</td>\n",
       "      <td>1234</td>\n",
       "      <td>1405</td>\n",
       "      <td>2437</td>\n",
       "      <td>7158</td>\n",
       "      <td>9334</td>\n",
       "      <td>16040</td>\n",
       "      <td>...</td>\n",
       "      <td>165</td>\n",
       "      <td>1218</td>\n",
       "      <td>238</td>\n",
       "      <td>522</td>\n",
       "      <td>219</td>\n",
       "      <td>278</td>\n",
       "      <td>204</td>\n",
       "      <td>8316</td>\n",
       "      <td>374</td>\n",
       "      <td>8225</td>\n",
       "    </tr>\n",
       "    <tr>\n",
       "      <th>2015-01-03</th>\n",
       "      <td>20478</td>\n",
       "      <td>10507</td>\n",
       "      <td>26384</td>\n",
       "      <td>1560</td>\n",
       "      <td>1290</td>\n",
       "      <td>1575</td>\n",
       "      <td>2358</td>\n",
       "      <td>10918</td>\n",
       "      <td>11338</td>\n",
       "      <td>20606</td>\n",
       "      <td>...</td>\n",
       "      <td>314</td>\n",
       "      <td>2310</td>\n",
       "      <td>369</td>\n",
       "      <td>827</td>\n",
       "      <td>440</td>\n",
       "      <td>528</td>\n",
       "      <td>360</td>\n",
       "      <td>7381</td>\n",
       "      <td>403</td>\n",
       "      <td>8507</td>\n",
       "    </tr>\n",
       "    <tr>\n",
       "      <th>2015-01-04</th>\n",
       "      <td>16743</td>\n",
       "      <td>9067</td>\n",
       "      <td>19516</td>\n",
       "      <td>1182</td>\n",
       "      <td>964</td>\n",
       "      <td>993</td>\n",
       "      <td>1844</td>\n",
       "      <td>8098</td>\n",
       "      <td>8738</td>\n",
       "      <td>15877</td>\n",
       "      <td>...</td>\n",
       "      <td>338</td>\n",
       "      <td>1931</td>\n",
       "      <td>366</td>\n",
       "      <td>673</td>\n",
       "      <td>353</td>\n",
       "      <td>347</td>\n",
       "      <td>336</td>\n",
       "      <td>10917</td>\n",
       "      <td>396</td>\n",
       "      <td>10287</td>\n",
       "    </tr>\n",
       "    <tr>\n",
       "      <th>2015-01-05</th>\n",
       "      <td>17441</td>\n",
       "      <td>3769</td>\n",
       "      <td>16264</td>\n",
       "      <td>1921</td>\n",
       "      <td>1475</td>\n",
       "      <td>956</td>\n",
       "      <td>2438</td>\n",
       "      <td>5213</td>\n",
       "      <td>10431</td>\n",
       "      <td>16002</td>\n",
       "      <td>...</td>\n",
       "      <td>164</td>\n",
       "      <td>1064</td>\n",
       "      <td>253</td>\n",
       "      <td>630</td>\n",
       "      <td>210</td>\n",
       "      <td>359</td>\n",
       "      <td>181</td>\n",
       "      <td>11369</td>\n",
       "      <td>450</td>\n",
       "      <td>11463</td>\n",
       "    </tr>\n",
       "    <tr>\n",
       "      <th>2015-01-06</th>\n",
       "      <td>18544</td>\n",
       "      <td>4086</td>\n",
       "      <td>17745</td>\n",
       "      <td>1798</td>\n",
       "      <td>1735</td>\n",
       "      <td>938</td>\n",
       "      <td>2502</td>\n",
       "      <td>5373</td>\n",
       "      <td>11680</td>\n",
       "      <td>17649</td>\n",
       "      <td>...</td>\n",
       "      <td>162</td>\n",
       "      <td>1086</td>\n",
       "      <td>291</td>\n",
       "      <td>485</td>\n",
       "      <td>232</td>\n",
       "      <td>419</td>\n",
       "      <td>156</td>\n",
       "      <td>8592</td>\n",
       "      <td>382</td>\n",
       "      <td>8751</td>\n",
       "    </tr>\n",
       "    <tr>\n",
       "      <th>2015-01-07</th>\n",
       "      <td>20846</td>\n",
       "      <td>4990</td>\n",
       "      <td>21063</td>\n",
       "      <td>2277</td>\n",
       "      <td>1939</td>\n",
       "      <td>1158</td>\n",
       "      <td>3056</td>\n",
       "      <td>6488</td>\n",
       "      <td>13315</td>\n",
       "      <td>20367</td>\n",
       "      <td>...</td>\n",
       "      <td>193</td>\n",
       "      <td>1301</td>\n",
       "      <td>349</td>\n",
       "      <td>798</td>\n",
       "      <td>249</td>\n",
       "      <td>514</td>\n",
       "      <td>190</td>\n",
       "      <td>8083</td>\n",
       "      <td>402</td>\n",
       "      <td>7828</td>\n",
       "    </tr>\n",
       "    <tr>\n",
       "      <th>2015-01-08</th>\n",
       "      <td>22799</td>\n",
       "      <td>5483</td>\n",
       "      <td>22227</td>\n",
       "      <td>2470</td>\n",
       "      <td>2032</td>\n",
       "      <td>1199</td>\n",
       "      <td>3293</td>\n",
       "      <td>6481</td>\n",
       "      <td>14207</td>\n",
       "      <td>21880</td>\n",
       "      <td>...</td>\n",
       "      <td>175</td>\n",
       "      <td>1402</td>\n",
       "      <td>373</td>\n",
       "      <td>597</td>\n",
       "      <td>252</td>\n",
       "      <td>523</td>\n",
       "      <td>221</td>\n",
       "      <td>8953</td>\n",
       "      <td>419</td>\n",
       "      <td>7483</td>\n",
       "    </tr>\n",
       "    <tr>\n",
       "      <th>2015-01-09</th>\n",
       "      <td>21773</td>\n",
       "      <td>7195</td>\n",
       "      <td>23696</td>\n",
       "      <td>2299</td>\n",
       "      <td>2087</td>\n",
       "      <td>1069</td>\n",
       "      <td>3234</td>\n",
       "      <td>7949</td>\n",
       "      <td>14140</td>\n",
       "      <td>22150</td>\n",
       "      <td>...</td>\n",
       "      <td>250</td>\n",
       "      <td>1767</td>\n",
       "      <td>391</td>\n",
       "      <td>753</td>\n",
       "      <td>406</td>\n",
       "      <td>547</td>\n",
       "      <td>286</td>\n",
       "      <td>8484</td>\n",
       "      <td>476</td>\n",
       "      <td>7935</td>\n",
       "    </tr>\n",
       "    <tr>\n",
       "      <th>2015-01-10</th>\n",
       "      <td>25343</td>\n",
       "      <td>13939</td>\n",
       "      <td>34699</td>\n",
       "      <td>1799</td>\n",
       "      <td>1757</td>\n",
       "      <td>1502</td>\n",
       "      <td>3392</td>\n",
       "      <td>14088</td>\n",
       "      <td>15717</td>\n",
       "      <td>29604</td>\n",
       "      <td>...</td>\n",
       "      <td>464</td>\n",
       "      <td>3261</td>\n",
       "      <td>626</td>\n",
       "      <td>1037</td>\n",
       "      <td>686</td>\n",
       "      <td>533</td>\n",
       "      <td>475</td>\n",
       "      <td>5811</td>\n",
       "      <td>422</td>\n",
       "      <td>8010</td>\n",
       "    </tr>\n",
       "    <tr>\n",
       "      <th>2015-01-11</th>\n",
       "      <td>20844</td>\n",
       "      <td>12908</td>\n",
       "      <td>26613</td>\n",
       "      <td>1349</td>\n",
       "      <td>1294</td>\n",
       "      <td>1040</td>\n",
       "      <td>2644</td>\n",
       "      <td>10932</td>\n",
       "      <td>12653</td>\n",
       "      <td>22848</td>\n",
       "      <td>...</td>\n",
       "      <td>448</td>\n",
       "      <td>3234</td>\n",
       "      <td>500</td>\n",
       "      <td>823</td>\n",
       "      <td>685</td>\n",
       "      <td>482</td>\n",
       "      <td>435</td>\n",
       "      <td>9280</td>\n",
       "      <td>432</td>\n",
       "      <td>8809</td>\n",
       "    </tr>\n",
       "    <tr>\n",
       "      <th>2015-01-12</th>\n",
       "      <td>21735</td>\n",
       "      <td>4165</td>\n",
       "      <td>17697</td>\n",
       "      <td>1936</td>\n",
       "      <td>1781</td>\n",
       "      <td>1162</td>\n",
       "      <td>2747</td>\n",
       "      <td>4935</td>\n",
       "      <td>12183</td>\n",
       "      <td>17914</td>\n",
       "      <td>...</td>\n",
       "      <td>145</td>\n",
       "      <td>1104</td>\n",
       "      <td>284</td>\n",
       "      <td>647</td>\n",
       "      <td>218</td>\n",
       "      <td>477</td>\n",
       "      <td>161</td>\n",
       "      <td>10344</td>\n",
       "      <td>409</td>\n",
       "      <td>8859</td>\n",
       "    </tr>\n",
       "    <tr>\n",
       "      <th>2015-01-13</th>\n",
       "      <td>23843</td>\n",
       "      <td>5106</td>\n",
       "      <td>21668</td>\n",
       "      <td>2511</td>\n",
       "      <td>2030</td>\n",
       "      <td>1243</td>\n",
       "      <td>3323</td>\n",
       "      <td>5973</td>\n",
       "      <td>13944</td>\n",
       "      <td>21453</td>\n",
       "      <td>...</td>\n",
       "      <td>169</td>\n",
       "      <td>1362</td>\n",
       "      <td>310</td>\n",
       "      <td>605</td>\n",
       "      <td>291</td>\n",
       "      <td>422</td>\n",
       "      <td>185</td>\n",
       "      <td>9204</td>\n",
       "      <td>392</td>\n",
       "      <td>6903</td>\n",
       "    </tr>\n",
       "    <tr>\n",
       "      <th>2015-01-14</th>\n",
       "      <td>21389</td>\n",
       "      <td>5547</td>\n",
       "      <td>21632</td>\n",
       "      <td>2541</td>\n",
       "      <td>2085</td>\n",
       "      <td>1143</td>\n",
       "      <td>3226</td>\n",
       "      <td>6312</td>\n",
       "      <td>13982</td>\n",
       "      <td>21873</td>\n",
       "      <td>...</td>\n",
       "      <td>174</td>\n",
       "      <td>1407</td>\n",
       "      <td>314</td>\n",
       "      <td>752</td>\n",
       "      <td>294</td>\n",
       "      <td>463</td>\n",
       "      <td>227</td>\n",
       "      <td>8268</td>\n",
       "      <td>403</td>\n",
       "      <td>6531</td>\n",
       "    </tr>\n",
       "    <tr>\n",
       "      <th>2015-01-15</th>\n",
       "      <td>21626</td>\n",
       "      <td>6066</td>\n",
       "      <td>22407</td>\n",
       "      <td>2701</td>\n",
       "      <td>2123</td>\n",
       "      <td>1206</td>\n",
       "      <td>3417</td>\n",
       "      <td>6722</td>\n",
       "      <td>14378</td>\n",
       "      <td>22522</td>\n",
       "      <td>...</td>\n",
       "      <td>210</td>\n",
       "      <td>1438</td>\n",
       "      <td>316</td>\n",
       "      <td>607</td>\n",
       "      <td>277</td>\n",
       "      <td>485</td>\n",
       "      <td>219</td>\n",
       "      <td>9652</td>\n",
       "      <td>407</td>\n",
       "      <td>7280</td>\n",
       "    </tr>\n",
       "    <tr>\n",
       "      <th>2015-01-16</th>\n",
       "      <td>22900</td>\n",
       "      <td>8153</td>\n",
       "      <td>26318</td>\n",
       "      <td>2520</td>\n",
       "      <td>2137</td>\n",
       "      <td>1280</td>\n",
       "      <td>3550</td>\n",
       "      <td>8840</td>\n",
       "      <td>14957</td>\n",
       "      <td>24958</td>\n",
       "      <td>...</td>\n",
       "      <td>308</td>\n",
       "      <td>1942</td>\n",
       "      <td>444</td>\n",
       "      <td>750</td>\n",
       "      <td>447</td>\n",
       "      <td>573</td>\n",
       "      <td>297</td>\n",
       "      <td>9218</td>\n",
       "      <td>515</td>\n",
       "      <td>7659</td>\n",
       "    </tr>\n",
       "    <tr>\n",
       "      <th>2015-01-17</th>\n",
       "      <td>22495</td>\n",
       "      <td>13690</td>\n",
       "      <td>33397</td>\n",
       "      <td>1846</td>\n",
       "      <td>1643</td>\n",
       "      <td>1600</td>\n",
       "      <td>2873</td>\n",
       "      <td>13734</td>\n",
       "      <td>14114</td>\n",
       "      <td>29201</td>\n",
       "      <td>...</td>\n",
       "      <td>554</td>\n",
       "      <td>3662</td>\n",
       "      <td>575</td>\n",
       "      <td>1051</td>\n",
       "      <td>757</td>\n",
       "      <td>527</td>\n",
       "      <td>469</td>\n",
       "      <td>4648</td>\n",
       "      <td>497</td>\n",
       "      <td>6479</td>\n",
       "    </tr>\n",
       "    <tr>\n",
       "      <th>2015-01-18</th>\n",
       "      <td>21921</td>\n",
       "      <td>13512</td>\n",
       "      <td>30089</td>\n",
       "      <td>1220</td>\n",
       "      <td>1223</td>\n",
       "      <td>1071</td>\n",
       "      <td>2372</td>\n",
       "      <td>12763</td>\n",
       "      <td>12763</td>\n",
       "      <td>23831</td>\n",
       "      <td>...</td>\n",
       "      <td>568</td>\n",
       "      <td>3918</td>\n",
       "      <td>732</td>\n",
       "      <td>1096</td>\n",
       "      <td>869</td>\n",
       "      <td>612</td>\n",
       "      <td>571</td>\n",
       "      <td>6652</td>\n",
       "      <td>609</td>\n",
       "      <td>7296</td>\n",
       "    </tr>\n",
       "    <tr>\n",
       "      <th>2015-01-19</th>\n",
       "      <td>18347</td>\n",
       "      <td>5571</td>\n",
       "      <td>17418</td>\n",
       "      <td>1264</td>\n",
       "      <td>1246</td>\n",
       "      <td>990</td>\n",
       "      <td>1924</td>\n",
       "      <td>6671</td>\n",
       "      <td>9540</td>\n",
       "      <td>17287</td>\n",
       "      <td>...</td>\n",
       "      <td>190</td>\n",
       "      <td>1689</td>\n",
       "      <td>269</td>\n",
       "      <td>502</td>\n",
       "      <td>327</td>\n",
       "      <td>372</td>\n",
       "      <td>194</td>\n",
       "      <td>11609</td>\n",
       "      <td>334</td>\n",
       "      <td>9766</td>\n",
       "    </tr>\n",
       "    <tr>\n",
       "      <th>2015-01-20</th>\n",
       "      <td>20405</td>\n",
       "      <td>4868</td>\n",
       "      <td>19317</td>\n",
       "      <td>2128</td>\n",
       "      <td>1898</td>\n",
       "      <td>1058</td>\n",
       "      <td>2853</td>\n",
       "      <td>5699</td>\n",
       "      <td>12859</td>\n",
       "      <td>18918</td>\n",
       "      <td>...</td>\n",
       "      <td>154</td>\n",
       "      <td>1131</td>\n",
       "      <td>294</td>\n",
       "      <td>611</td>\n",
       "      <td>296</td>\n",
       "      <td>369</td>\n",
       "      <td>172</td>\n",
       "      <td>10035</td>\n",
       "      <td>386</td>\n",
       "      <td>8122</td>\n",
       "    </tr>\n",
       "    <tr>\n",
       "      <th>2015-01-21</th>\n",
       "      <td>21170</td>\n",
       "      <td>5154</td>\n",
       "      <td>20787</td>\n",
       "      <td>2327</td>\n",
       "      <td>2146</td>\n",
       "      <td>1101</td>\n",
       "      <td>3047</td>\n",
       "      <td>5933</td>\n",
       "      <td>13652</td>\n",
       "      <td>21284</td>\n",
       "      <td>...</td>\n",
       "      <td>160</td>\n",
       "      <td>1232</td>\n",
       "      <td>285</td>\n",
       "      <td>548</td>\n",
       "      <td>241</td>\n",
       "      <td>389</td>\n",
       "      <td>197</td>\n",
       "      <td>8533</td>\n",
       "      <td>350</td>\n",
       "      <td>6917</td>\n",
       "    </tr>\n",
       "    <tr>\n",
       "      <th>2015-01-22</th>\n",
       "      <td>22038</td>\n",
       "      <td>5808</td>\n",
       "      <td>22730</td>\n",
       "      <td>2556</td>\n",
       "      <td>2141</td>\n",
       "      <td>1252</td>\n",
       "      <td>3378</td>\n",
       "      <td>6738</td>\n",
       "      <td>14480</td>\n",
       "      <td>22866</td>\n",
       "      <td>...</td>\n",
       "      <td>176</td>\n",
       "      <td>1344</td>\n",
       "      <td>329</td>\n",
       "      <td>581</td>\n",
       "      <td>259</td>\n",
       "      <td>441</td>\n",
       "      <td>207</td>\n",
       "      <td>9787</td>\n",
       "      <td>369</td>\n",
       "      <td>6927</td>\n",
       "    </tr>\n",
       "    <tr>\n",
       "      <th>2015-01-23</th>\n",
       "      <td>23654</td>\n",
       "      <td>7576</td>\n",
       "      <td>25329</td>\n",
       "      <td>2509</td>\n",
       "      <td>2259</td>\n",
       "      <td>1238</td>\n",
       "      <td>3627</td>\n",
       "      <td>8555</td>\n",
       "      <td>15032</td>\n",
       "      <td>24590</td>\n",
       "      <td>...</td>\n",
       "      <td>284</td>\n",
       "      <td>1599</td>\n",
       "      <td>316</td>\n",
       "      <td>644</td>\n",
       "      <td>349</td>\n",
       "      <td>487</td>\n",
       "      <td>250</td>\n",
       "      <td>8208</td>\n",
       "      <td>406</td>\n",
       "      <td>7212</td>\n",
       "    </tr>\n",
       "    <tr>\n",
       "      <th>2015-01-24</th>\n",
       "      <td>23572</td>\n",
       "      <td>12143</td>\n",
       "      <td>30319</td>\n",
       "      <td>1553</td>\n",
       "      <td>1711</td>\n",
       "      <td>1218</td>\n",
       "      <td>2789</td>\n",
       "      <td>12842</td>\n",
       "      <td>14044</td>\n",
       "      <td>26209</td>\n",
       "      <td>...</td>\n",
       "      <td>485</td>\n",
       "      <td>3295</td>\n",
       "      <td>500</td>\n",
       "      <td>930</td>\n",
       "      <td>695</td>\n",
       "      <td>457</td>\n",
       "      <td>445</td>\n",
       "      <td>3914</td>\n",
       "      <td>531</td>\n",
       "      <td>6609</td>\n",
       "    </tr>\n",
       "    <tr>\n",
       "      <th>2015-01-25</th>\n",
       "      <td>20230</td>\n",
       "      <td>13423</td>\n",
       "      <td>26257</td>\n",
       "      <td>1511</td>\n",
       "      <td>1384</td>\n",
       "      <td>1191</td>\n",
       "      <td>2532</td>\n",
       "      <td>11739</td>\n",
       "      <td>11483</td>\n",
       "      <td>22821</td>\n",
       "      <td>...</td>\n",
       "      <td>573</td>\n",
       "      <td>3231</td>\n",
       "      <td>540</td>\n",
       "      <td>835</td>\n",
       "      <td>694</td>\n",
       "      <td>486</td>\n",
       "      <td>447</td>\n",
       "      <td>8402</td>\n",
       "      <td>463</td>\n",
       "      <td>7945</td>\n",
       "    </tr>\n",
       "    <tr>\n",
       "      <th>2015-01-26</th>\n",
       "      <td>10789</td>\n",
       "      <td>2376</td>\n",
       "      <td>10553</td>\n",
       "      <td>917</td>\n",
       "      <td>935</td>\n",
       "      <td>469</td>\n",
       "      <td>1502</td>\n",
       "      <td>3778</td>\n",
       "      <td>6914</td>\n",
       "      <td>10582</td>\n",
       "      <td>...</td>\n",
       "      <td>120</td>\n",
       "      <td>744</td>\n",
       "      <td>191</td>\n",
       "      <td>305</td>\n",
       "      <td>162</td>\n",
       "      <td>388</td>\n",
       "      <td>93</td>\n",
       "      <td>3339</td>\n",
       "      <td>426</td>\n",
       "      <td>4235</td>\n",
       "    </tr>\n",
       "    <tr>\n",
       "      <th>2015-01-27</th>\n",
       "      <td>5054</td>\n",
       "      <td>1741</td>\n",
       "      <td>7403</td>\n",
       "      <td>461</td>\n",
       "      <td>508</td>\n",
       "      <td>369</td>\n",
       "      <td>863</td>\n",
       "      <td>2489</td>\n",
       "      <td>4127</td>\n",
       "      <td>6341</td>\n",
       "      <td>...</td>\n",
       "      <td>77</td>\n",
       "      <td>516</td>\n",
       "      <td>136</td>\n",
       "      <td>201</td>\n",
       "      <td>127</td>\n",
       "      <td>129</td>\n",
       "      <td>82</td>\n",
       "      <td>892</td>\n",
       "      <td>197</td>\n",
       "      <td>1345</td>\n",
       "    </tr>\n",
       "    <tr>\n",
       "      <th>2015-01-28</th>\n",
       "      <td>18005</td>\n",
       "      <td>4009</td>\n",
       "      <td>18480</td>\n",
       "      <td>1912</td>\n",
       "      <td>1742</td>\n",
       "      <td>904</td>\n",
       "      <td>2691</td>\n",
       "      <td>5380</td>\n",
       "      <td>12162</td>\n",
       "      <td>18399</td>\n",
       "      <td>...</td>\n",
       "      <td>152</td>\n",
       "      <td>1055</td>\n",
       "      <td>298</td>\n",
       "      <td>527</td>\n",
       "      <td>253</td>\n",
       "      <td>455</td>\n",
       "      <td>185</td>\n",
       "      <td>9470</td>\n",
       "      <td>360</td>\n",
       "      <td>7727</td>\n",
       "    </tr>\n",
       "    <tr>\n",
       "      <th>2015-01-29</th>\n",
       "      <td>20982</td>\n",
       "      <td>5657</td>\n",
       "      <td>21956</td>\n",
       "      <td>2323</td>\n",
       "      <td>2092</td>\n",
       "      <td>1109</td>\n",
       "      <td>3215</td>\n",
       "      <td>6399</td>\n",
       "      <td>13891</td>\n",
       "      <td>21221</td>\n",
       "      <td>...</td>\n",
       "      <td>216</td>\n",
       "      <td>1463</td>\n",
       "      <td>317</td>\n",
       "      <td>607</td>\n",
       "      <td>319</td>\n",
       "      <td>585</td>\n",
       "      <td>236</td>\n",
       "      <td>9341</td>\n",
       "      <td>360</td>\n",
       "      <td>7527</td>\n",
       "    </tr>\n",
       "    <tr>\n",
       "      <th>2015-01-30</th>\n",
       "      <td>23742</td>\n",
       "      <td>7996</td>\n",
       "      <td>26214</td>\n",
       "      <td>2428</td>\n",
       "      <td>2191</td>\n",
       "      <td>1204</td>\n",
       "      <td>3724</td>\n",
       "      <td>9071</td>\n",
       "      <td>15515</td>\n",
       "      <td>25201</td>\n",
       "      <td>...</td>\n",
       "      <td>301</td>\n",
       "      <td>2086</td>\n",
       "      <td>442</td>\n",
       "      <td>1068</td>\n",
       "      <td>494</td>\n",
       "      <td>627</td>\n",
       "      <td>368</td>\n",
       "      <td>8046</td>\n",
       "      <td>492</td>\n",
       "      <td>7079</td>\n",
       "    </tr>\n",
       "    <tr>\n",
       "      <th>2015-01-31</th>\n",
       "      <td>25039</td>\n",
       "      <td>14781</td>\n",
       "      <td>36742</td>\n",
       "      <td>1772</td>\n",
       "      <td>1887</td>\n",
       "      <td>1409</td>\n",
       "      <td>3393</td>\n",
       "      <td>15583</td>\n",
       "      <td>16029</td>\n",
       "      <td>31693</td>\n",
       "      <td>...</td>\n",
       "      <td>637</td>\n",
       "      <td>3965</td>\n",
       "      <td>652</td>\n",
       "      <td>1308</td>\n",
       "      <td>790</td>\n",
       "      <td>675</td>\n",
       "      <td>564</td>\n",
       "      <td>4774</td>\n",
       "      <td>526</td>\n",
       "      <td>6274</td>\n",
       "    </tr>\n",
       "  </tbody>\n",
       "</table>\n",
       "<p>31 rows × 72 columns</p>\n",
       "</div>"
      ],
      "text/plain": [
       "zip_code    10001  10002  10003  10004  10005  10006  10007  10009  10010  \\\n",
       "date                                                                        \n",
       "2015-01-01  16770   9703  21226   2137   1485   1656   2868  10049  10306   \n",
       "2015-01-02  17046   5538  18452   1972   1234   1405   2437   7158   9334   \n",
       "2015-01-03  20478  10507  26384   1560   1290   1575   2358  10918  11338   \n",
       "2015-01-04  16743   9067  19516   1182    964    993   1844   8098   8738   \n",
       "2015-01-05  17441   3769  16264   1921   1475    956   2438   5213  10431   \n",
       "2015-01-06  18544   4086  17745   1798   1735    938   2502   5373  11680   \n",
       "2015-01-07  20846   4990  21063   2277   1939   1158   3056   6488  13315   \n",
       "2015-01-08  22799   5483  22227   2470   2032   1199   3293   6481  14207   \n",
       "2015-01-09  21773   7195  23696   2299   2087   1069   3234   7949  14140   \n",
       "2015-01-10  25343  13939  34699   1799   1757   1502   3392  14088  15717   \n",
       "2015-01-11  20844  12908  26613   1349   1294   1040   2644  10932  12653   \n",
       "2015-01-12  21735   4165  17697   1936   1781   1162   2747   4935  12183   \n",
       "2015-01-13  23843   5106  21668   2511   2030   1243   3323   5973  13944   \n",
       "2015-01-14  21389   5547  21632   2541   2085   1143   3226   6312  13982   \n",
       "2015-01-15  21626   6066  22407   2701   2123   1206   3417   6722  14378   \n",
       "2015-01-16  22900   8153  26318   2520   2137   1280   3550   8840  14957   \n",
       "2015-01-17  22495  13690  33397   1846   1643   1600   2873  13734  14114   \n",
       "2015-01-18  21921  13512  30089   1220   1223   1071   2372  12763  12763   \n",
       "2015-01-19  18347   5571  17418   1264   1246    990   1924   6671   9540   \n",
       "2015-01-20  20405   4868  19317   2128   1898   1058   2853   5699  12859   \n",
       "2015-01-21  21170   5154  20787   2327   2146   1101   3047   5933  13652   \n",
       "2015-01-22  22038   5808  22730   2556   2141   1252   3378   6738  14480   \n",
       "2015-01-23  23654   7576  25329   2509   2259   1238   3627   8555  15032   \n",
       "2015-01-24  23572  12143  30319   1553   1711   1218   2789  12842  14044   \n",
       "2015-01-25  20230  13423  26257   1511   1384   1191   2532  11739  11483   \n",
       "2015-01-26  10789   2376  10553    917    935    469   1502   3778   6914   \n",
       "2015-01-27   5054   1741   7403    461    508    369    863   2489   4127   \n",
       "2015-01-28  18005   4009  18480   1912   1742    904   2691   5380  12162   \n",
       "2015-01-29  20982   5657  21956   2323   2092   1109   3215   6399  13891   \n",
       "2015-01-30  23742   7996  26214   2428   2191   1204   3724   9071  15515   \n",
       "2015-01-31  25039  14781  36742   1772   1887   1409   3393  15583  16029   \n",
       "\n",
       "zip_code    10011  ...  11206  11211  11215  11217  11222  11231  11238  \\\n",
       "date               ...                                                    \n",
       "2015-01-01  15644  ...   1302   5150   1120   1458   1479    656   1043   \n",
       "2015-01-02  16040  ...    165   1218    238    522    219    278    204   \n",
       "2015-01-03  20606  ...    314   2310    369    827    440    528    360   \n",
       "2015-01-04  15877  ...    338   1931    366    673    353    347    336   \n",
       "2015-01-05  16002  ...    164   1064    253    630    210    359    181   \n",
       "2015-01-06  17649  ...    162   1086    291    485    232    419    156   \n",
       "2015-01-07  20367  ...    193   1301    349    798    249    514    190   \n",
       "2015-01-08  21880  ...    175   1402    373    597    252    523    221   \n",
       "2015-01-09  22150  ...    250   1767    391    753    406    547    286   \n",
       "2015-01-10  29604  ...    464   3261    626   1037    686    533    475   \n",
       "2015-01-11  22848  ...    448   3234    500    823    685    482    435   \n",
       "2015-01-12  17914  ...    145   1104    284    647    218    477    161   \n",
       "2015-01-13  21453  ...    169   1362    310    605    291    422    185   \n",
       "2015-01-14  21873  ...    174   1407    314    752    294    463    227   \n",
       "2015-01-15  22522  ...    210   1438    316    607    277    485    219   \n",
       "2015-01-16  24958  ...    308   1942    444    750    447    573    297   \n",
       "2015-01-17  29201  ...    554   3662    575   1051    757    527    469   \n",
       "2015-01-18  23831  ...    568   3918    732   1096    869    612    571   \n",
       "2015-01-19  17287  ...    190   1689    269    502    327    372    194   \n",
       "2015-01-20  18918  ...    154   1131    294    611    296    369    172   \n",
       "2015-01-21  21284  ...    160   1232    285    548    241    389    197   \n",
       "2015-01-22  22866  ...    176   1344    329    581    259    441    207   \n",
       "2015-01-23  24590  ...    284   1599    316    644    349    487    250   \n",
       "2015-01-24  26209  ...    485   3295    500    930    695    457    445   \n",
       "2015-01-25  22821  ...    573   3231    540    835    694    486    447   \n",
       "2015-01-26  10582  ...    120    744    191    305    162    388     93   \n",
       "2015-01-27   6341  ...     77    516    136    201    127    129     82   \n",
       "2015-01-28  18399  ...    152   1055    298    527    253    455    185   \n",
       "2015-01-29  21221  ...    216   1463    317    607    319    585    236   \n",
       "2015-01-30  25201  ...    301   2086    442   1068    494    627    368   \n",
       "2015-01-31  31693  ...    637   3965    652   1308    790    675    564   \n",
       "\n",
       "zip_code    11371  11377  11430  \n",
       "date                             \n",
       "2015-01-01   6401    828   7400  \n",
       "2015-01-02   8316    374   8225  \n",
       "2015-01-03   7381    403   8507  \n",
       "2015-01-04  10917    396  10287  \n",
       "2015-01-05  11369    450  11463  \n",
       "2015-01-06   8592    382   8751  \n",
       "2015-01-07   8083    402   7828  \n",
       "2015-01-08   8953    419   7483  \n",
       "2015-01-09   8484    476   7935  \n",
       "2015-01-10   5811    422   8010  \n",
       "2015-01-11   9280    432   8809  \n",
       "2015-01-12  10344    409   8859  \n",
       "2015-01-13   9204    392   6903  \n",
       "2015-01-14   8268    403   6531  \n",
       "2015-01-15   9652    407   7280  \n",
       "2015-01-16   9218    515   7659  \n",
       "2015-01-17   4648    497   6479  \n",
       "2015-01-18   6652    609   7296  \n",
       "2015-01-19  11609    334   9766  \n",
       "2015-01-20  10035    386   8122  \n",
       "2015-01-21   8533    350   6917  \n",
       "2015-01-22   9787    369   6927  \n",
       "2015-01-23   8208    406   7212  \n",
       "2015-01-24   3914    531   6609  \n",
       "2015-01-25   8402    463   7945  \n",
       "2015-01-26   3339    426   4235  \n",
       "2015-01-27    892    197   1345  \n",
       "2015-01-28   9470    360   7727  \n",
       "2015-01-29   9341    360   7527  \n",
       "2015-01-30   8046    492   7079  \n",
       "2015-01-31   4774    526   6274  \n",
       "\n",
       "[31 rows x 72 columns]"
      ]
     },
     "execution_count": 30,
     "metadata": {},
     "output_type": "execute_result"
    }
   ],
   "source": [
    "filter_zip_daily_df.pivot_table(values='cnt', index='date', columns='zip_code', aggfunc=np.mean)"
   ]
  },
  {
   "cell_type": "code",
   "execution_count": 29,
   "metadata": {},
   "outputs": [
    {
     "data": {
      "application/vnd.plotly.v1+json": {
       "config": {
        "linkText": "Export to plot.ly",
        "plotlyServerURL": "https://plot.ly",
        "showLink": true
       },
       "data": [
        {
         "boxpoints": false,
         "line": {
          "width": 1.3
         },
         "marker": {
          "color": "rgba(255, 153, 51, 1.0)"
         },
         "name": "10001",
         "orientation": "v",
         "type": "box",
         "y": [
          16770,
          17046,
          20478,
          16743,
          17441,
          18544,
          20846,
          22799,
          21773,
          25343,
          20844,
          21735,
          23843,
          21389,
          21626,
          22900,
          22495,
          21921,
          18347,
          20405,
          21170,
          22038,
          23654,
          23572,
          20230,
          10789,
          5054,
          18005,
          20982,
          23742,
          25039
         ]
        },
        {
         "boxpoints": false,
         "line": {
          "width": 1.3
         },
         "marker": {
          "color": "rgba(55, 128, 191, 1.0)"
         },
         "name": "10002",
         "orientation": "v",
         "type": "box",
         "y": [
          9703,
          5538,
          10507,
          9067,
          3769,
          4086,
          4990,
          5483,
          7195,
          13939,
          12908,
          4165,
          5106,
          5547,
          6066,
          8153,
          13690,
          13512,
          5571,
          4868,
          5154,
          5808,
          7576,
          12143,
          13423,
          2376,
          1741,
          4009,
          5657,
          7996,
          14781
         ]
        },
        {
         "boxpoints": false,
         "line": {
          "width": 1.3
         },
         "marker": {
          "color": "rgba(50, 171, 96, 1.0)"
         },
         "name": "10003",
         "orientation": "v",
         "type": "box",
         "y": [
          21226,
          18452,
          26384,
          19516,
          16264,
          17745,
          21063,
          22227,
          23696,
          34699,
          26613,
          17697,
          21668,
          21632,
          22407,
          26318,
          33397,
          30089,
          17418,
          19317,
          20787,
          22730,
          25329,
          30319,
          26257,
          10553,
          7403,
          18480,
          21956,
          26214,
          36742
         ]
        },
        {
         "boxpoints": false,
         "line": {
          "width": 1.3
         },
         "marker": {
          "color": "rgba(128, 0, 128, 1.0)"
         },
         "name": "10004",
         "orientation": "v",
         "type": "box",
         "y": [
          2137,
          1972,
          1560,
          1182,
          1921,
          1798,
          2277,
          2470,
          2299,
          1799,
          1349,
          1936,
          2511,
          2541,
          2701,
          2520,
          1846,
          1220,
          1264,
          2128,
          2327,
          2556,
          2509,
          1553,
          1511,
          917,
          461,
          1912,
          2323,
          2428,
          1772
         ]
        },
        {
         "boxpoints": false,
         "line": {
          "width": 1.3
         },
         "marker": {
          "color": "rgba(219, 64, 82, 1.0)"
         },
         "name": "10005",
         "orientation": "v",
         "type": "box",
         "y": [
          1485,
          1234,
          1290,
          964,
          1475,
          1735,
          1939,
          2032,
          2087,
          1757,
          1294,
          1781,
          2030,
          2085,
          2123,
          2137,
          1643,
          1223,
          1246,
          1898,
          2146,
          2141,
          2259,
          1711,
          1384,
          935,
          508,
          1742,
          2092,
          2191,
          1887
         ]
        },
        {
         "boxpoints": false,
         "line": {
          "width": 1.3
         },
         "marker": {
          "color": "rgba(0, 128, 128, 1.0)"
         },
         "name": "10006",
         "orientation": "v",
         "type": "box",
         "y": [
          1656,
          1405,
          1575,
          993,
          956,
          938,
          1158,
          1199,
          1069,
          1502,
          1040,
          1162,
          1243,
          1143,
          1206,
          1280,
          1600,
          1071,
          990,
          1058,
          1101,
          1252,
          1238,
          1218,
          1191,
          469,
          369,
          904,
          1109,
          1204,
          1409
         ]
        },
        {
         "boxpoints": false,
         "line": {
          "width": 1.3
         },
         "marker": {
          "color": "rgba(255, 255, 51, 1.0)"
         },
         "name": "10007",
         "orientation": "v",
         "type": "box",
         "y": [
          2868,
          2437,
          2358,
          1844,
          2438,
          2502,
          3056,
          3293,
          3234,
          3392,
          2644,
          2747,
          3323,
          3226,
          3417,
          3550,
          2873,
          2372,
          1924,
          2853,
          3047,
          3378,
          3627,
          2789,
          2532,
          1502,
          863,
          2691,
          3215,
          3724,
          3393
         ]
        },
        {
         "boxpoints": false,
         "line": {
          "width": 1.3
         },
         "marker": {
          "color": "rgba(128, 128, 0, 1.0)"
         },
         "name": "10009",
         "orientation": "v",
         "type": "box",
         "y": [
          10049,
          7158,
          10918,
          8098,
          5213,
          5373,
          6488,
          6481,
          7949,
          14088,
          10932,
          4935,
          5973,
          6312,
          6722,
          8840,
          13734,
          12763,
          6671,
          5699,
          5933,
          6738,
          8555,
          12842,
          11739,
          3778,
          2489,
          5380,
          6399,
          9071,
          15583
         ]
        },
        {
         "boxpoints": false,
         "line": {
          "width": 1.3
         },
         "marker": {
          "color": "rgba(251, 128, 114, 1.0)"
         },
         "name": "10010",
         "orientation": "v",
         "type": "box",
         "y": [
          10306,
          9334,
          11338,
          8738,
          10431,
          11680,
          13315,
          14207,
          14140,
          15717,
          12653,
          12183,
          13944,
          13982,
          14378,
          14957,
          14114,
          12763,
          9540,
          12859,
          13652,
          14480,
          15032,
          14044,
          11483,
          6914,
          4127,
          12162,
          13891,
          15515,
          16029
         ]
        },
        {
         "boxpoints": false,
         "line": {
          "width": 1.3
         },
         "marker": {
          "color": "rgba(128, 177, 211, 1.0)"
         },
         "name": "10011",
         "orientation": "v",
         "type": "box",
         "y": [
          15644,
          16040,
          20606,
          15877,
          16002,
          17649,
          20367,
          21880,
          22150,
          29604,
          22848,
          17914,
          21453,
          21873,
          22522,
          24958,
          29201,
          23831,
          17287,
          18918,
          21284,
          22866,
          24590,
          26209,
          22821,
          10582,
          6341,
          18399,
          21221,
          25201,
          31693
         ]
        },
        {
         "boxpoints": false,
         "line": {
          "width": 1.3
         },
         "marker": {
          "color": "rgba(128, 177, 211, 0.8999999999999999)"
         },
         "name": "10012",
         "orientation": "v",
         "type": "box",
         "y": [
          9693,
          10435,
          13945,
          10729,
          8401,
          8812,
          10528,
          11012,
          12306,
          18997,
          14307,
          8941,
          11179,
          11331,
          11820,
          13539,
          17385,
          14341,
          9852,
          9765,
          10726,
          11792,
          13150,
          16171,
          14469,
          4431,
          3729,
          9191,
          11037,
          13872,
          18318
         ]
        },
        {
         "boxpoints": false,
         "line": {
          "width": 1.3
         },
         "marker": {
          "color": "rgba(255, 153, 51, 0.8999999999999999)"
         },
         "name": "10013",
         "orientation": "v",
         "type": "box",
         "y": [
          8744,
          7670,
          8514,
          6459,
          7797,
          8279,
          9465,
          10291,
          11037,
          12164,
          10394,
          9234,
          10201,
          10562,
          11149,
          11645,
          11603,
          9862,
          6856,
          9616,
          10572,
          11159,
          11280,
          11433,
          10238,
          4499,
          2879,
          8389,
          10657,
          12160,
          12669
         ]
        },
        {
         "boxpoints": false,
         "line": {
          "width": 1.3
         },
         "marker": {
          "color": "rgba(55, 128, 191, 0.8999999999999999)"
         },
         "name": "10014",
         "orientation": "v",
         "type": "box",
         "y": [
          10797,
          10855,
          16024,
          11651,
          9598,
          10461,
          11978,
          13128,
          14328,
          21170,
          16593,
          10942,
          13223,
          13607,
          13939,
          16062,
          20137,
          17782,
          11044,
          11826,
          13015,
          13900,
          16127,
          19320,
          17489,
          6006,
          3905,
          10748,
          12782,
          16402,
          21552
         ]
        },
        {
         "boxpoints": false,
         "line": {
          "width": 1.3
         },
         "marker": {
          "color": "rgba(50, 171, 96, 0.8999999999999999)"
         },
         "name": "10016",
         "orientation": "v",
         "type": "box",
         "y": [
          21076,
          18222,
          20313,
          15118,
          17884,
          20415,
          22272,
          24345,
          24829,
          26319,
          20062,
          20577,
          23526,
          23593,
          24331,
          26011,
          24178,
          20890,
          16276,
          21060,
          22843,
          24315,
          26109,
          24304,
          19182,
          12498,
          6625,
          20036,
          23511,
          26619,
          26201
         ]
        },
        {
         "boxpoints": false,
         "line": {
          "width": 1.3
         },
         "marker": {
          "color": "rgba(128, 0, 128, 0.8999999999999999)"
         },
         "name": "10017",
         "orientation": "v",
         "type": "box",
         "y": [
          10664,
          11705,
          11916,
          8784,
          13659,
          15931,
          17211,
          18698,
          16933,
          13364,
          10299,
          16127,
          17673,
          18771,
          18099,
          16928,
          12632,
          10474,
          11019,
          16458,
          18212,
          18553,
          17537,
          12320,
          9787,
          8597,
          4580,
          15611,
          17281,
          16916,
          12892
         ]
        },
        {
         "boxpoints": false,
         "line": {
          "width": 1.3
         },
         "marker": {
          "color": "rgba(219, 64, 82, 0.8999999999999999)"
         },
         "name": "10018",
         "orientation": "v",
         "type": "box",
         "y": [
          7904,
          8687,
          9170,
          7675,
          9629,
          10468,
          11675,
          12209,
          11528,
          10630,
          9672,
          12631,
          13780,
          12634,
          12298,
          12369,
          10363,
          9798,
          9465,
          11979,
          12188,
          12257,
          12425,
          10410,
          9115,
          6212,
          2625,
          9905,
          11664,
          12488,
          11077
         ]
        },
        {
         "boxpoints": false,
         "line": {
          "width": 1.3
         },
         "marker": {
          "color": "rgba(0, 128, 128, 0.8999999999999999)"
         },
         "name": "10019",
         "orientation": "v",
         "type": "box",
         "y": [
          23614,
          22443,
          26120,
          20168,
          23620,
          25676,
          28843,
          29973,
          28937,
          30186,
          25567,
          27703,
          32728,
          31502,
          30369,
          30143,
          27930,
          27521,
          20952,
          26504,
          29482,
          30380,
          29797,
          28481,
          23336,
          13786,
          10056,
          24287,
          27966,
          30298,
          28899
         ]
        },
        {
         "boxpoints": false,
         "line": {
          "width": 1.3
         },
         "marker": {
          "color": "rgba(255, 255, 51, 0.8999999999999999)"
         },
         "name": "10020",
         "orientation": "v",
         "type": "box",
         "y": [
          1192,
          1452,
          1503,
          1096,
          1482,
          1670,
          1739,
          1775,
          1499,
          1314,
          1090,
          1617,
          1574,
          1808,
          1597,
          1545,
          1384,
          1060,
          1190,
          1707,
          1699,
          1694,
          1691,
          1267,
          1077,
          682,
          662,
          1558,
          1410,
          1484,
          1388
         ]
        },
        {
         "boxpoints": false,
         "line": {
          "width": 1.3
         },
         "marker": {
          "color": "rgba(128, 128, 0, 0.8999999999999999)"
         },
         "name": "10021",
         "orientation": "v",
         "type": "box",
         "y": [
          9236,
          10538,
          10430,
          8511,
          14068,
          14746,
          17242,
          16878,
          15461,
          14835,
          11016,
          14529,
          16650,
          16453,
          16695,
          16785,
          12955,
          10345,
          11153,
          15718,
          16562,
          16927,
          16948,
          13192,
          11456,
          10403,
          5498,
          15022,
          16276,
          17303,
          14656
         ]
        },
        {
         "boxpoints": false,
         "line": {
          "width": 1.3
         },
         "marker": {
          "color": "rgba(251, 128, 114, 0.8999999999999999)"
         },
         "name": "10022",
         "orientation": "v",
         "type": "box",
         "y": [
          17582,
          18181,
          20050,
          14911,
          21519,
          23147,
          25455,
          26713,
          24794,
          23370,
          17751,
          23863,
          26840,
          27347,
          27122,
          25879,
          22253,
          17404,
          17340,
          23941,
          26450,
          27610,
          25800,
          21205,
          16887,
          11810,
          8352,
          22619,
          25229,
          25457,
          22950
         ]
        },
        {
         "boxpoints": false,
         "line": {
          "width": 1.3
         },
         "marker": {
          "color": "rgba(251, 128, 114, 0.7999999999999998)"
         },
         "name": "10023",
         "orientation": "v",
         "type": "box",
         "y": [
          12798,
          13087,
          14593,
          11368,
          13529,
          14290,
          15931,
          16484,
          15692,
          19909,
          15255,
          13812,
          16570,
          15301,
          16595,
          16923,
          17126,
          14287,
          12983,
          14934,
          15973,
          16107,
          17187,
          16925,
          14600,
          9162,
          5654,
          14509,
          16012,
          16617,
          18836
         ]
        },
        {
         "boxpoints": false,
         "line": {
          "width": 1.3
         },
         "marker": {
          "color": "rgba(128, 177, 211, 0.7999999999999998)"
         },
         "name": "10024",
         "orientation": "v",
         "type": "box",
         "y": [
          10708,
          9739,
          11208,
          9173,
          10374,
          11226,
          12563,
          12496,
          12028,
          16874,
          13103,
          10410,
          12219,
          11505,
          12147,
          12868,
          12855,
          12281,
          10265,
          11080,
          11592,
          12281,
          12731,
          13251,
          11814,
          6996,
          4351,
          10731,
          11734,
          12822,
          14348
         ]
        },
        {
         "boxpoints": false,
         "line": {
          "width": 1.3
         },
         "marker": {
          "color": "rgba(255, 153, 51, 0.7999999999999998)"
         },
         "name": "10025",
         "orientation": "v",
         "type": "box",
         "y": [
          9115,
          7354,
          8446,
          7602,
          8128,
          8714,
          9725,
          9874,
          9716,
          11260,
          9612,
          8279,
          9598,
          9156,
          9558,
          10420,
          9961,
          9164,
          7635,
          8815,
          9610,
          9664,
          10624,
          10167,
          9700,
          6194,
          3256,
          8397,
          9769,
          11300,
          13290
         ]
        },
        {
         "boxpoints": false,
         "line": {
          "width": 1.3
         },
         "marker": {
          "color": "rgba(55, 128, 191, 0.7999999999999998)"
         },
         "name": "10026",
         "orientation": "v",
         "type": "box",
         "y": [
          1349,
          705,
          926,
          870,
          717,
          795,
          886,
          853,
          1022,
          1101,
          935,
          713,
          829,
          795,
          856,
          1014,
          1014,
          1247,
          688,
          747,
          724,
          713,
          960,
          1045,
          901,
          695,
          381,
          727,
          861,
          1203,
          1683
         ]
        },
        {
         "boxpoints": false,
         "line": {
          "width": 1.3
         },
         "marker": {
          "color": "rgba(50, 171, 96, 0.7999999999999998)"
         },
         "name": "10027",
         "orientation": "v",
         "type": "box",
         "y": [
          2176,
          938,
          1243,
          1200,
          1148,
          1293,
          1500,
          1478,
          1681,
          1517,
          1397,
          1328,
          1498,
          1420,
          1606,
          1747,
          1622,
          1845,
          1118,
          1447,
          1585,
          1716,
          1794,
          1674,
          1545,
          1265,
          499,
          1417,
          1756,
          2424,
          2535
         ]
        },
        {
         "boxpoints": false,
         "line": {
          "width": 1.3
         },
         "marker": {
          "color": "rgba(128, 0, 128, 0.7999999999999998)"
         },
         "name": "10028",
         "orientation": "v",
         "type": "box",
         "y": [
          9509,
          9373,
          10497,
          8360,
          10718,
          10179,
          12145,
          12152,
          11979,
          14585,
          10841,
          9977,
          11775,
          11514,
          11870,
          13057,
          12567,
          10105,
          9460,
          10793,
          11280,
          11846,
          13212,
          12768,
          10614,
          7415,
          4018,
          10388,
          11289,
          13266,
          14129
         ]
        },
        {
         "boxpoints": false,
         "line": {
          "width": 1.3
         },
         "marker": {
          "color": "rgba(219, 64, 82, 0.7999999999999998)"
         },
         "name": "10029",
         "orientation": "v",
         "type": "box",
         "y": [
          3002,
          2109,
          2514,
          2172,
          2294,
          2640,
          2764,
          2754,
          2928,
          3126,
          2457,
          2334,
          2544,
          2458,
          2559,
          2948,
          2917,
          2554,
          1954,
          2290,
          2197,
          2225,
          2840,
          2722,
          2284,
          2103,
          1055,
          2168,
          2678,
          3444,
          3628
         ]
        },
        {
         "boxpoints": false,
         "line": {
          "width": 1.3
         },
         "marker": {
          "color": "rgba(0, 128, 128, 0.7999999999999998)"
         },
         "name": "10031",
         "orientation": "v",
         "type": "box",
         "y": [
          1450,
          423,
          499,
          518,
          455,
          459,
          508,
          590,
          615,
          636,
          632,
          424,
          481,
          469,
          495,
          640,
          607,
          859,
          435,
          420,
          471,
          443,
          555,
          631,
          570,
          431,
          206,
          408,
          496,
          741,
          842
         ]
        },
        {
         "boxpoints": false,
         "line": {
          "width": 1.3
         },
         "marker": {
          "color": "rgba(255, 255, 51, 0.7999999999999998)"
         },
         "name": "10032",
         "orientation": "v",
         "type": "box",
         "y": [
          766,
          186,
          193,
          242,
          253,
          270,
          274,
          302,
          340,
          269,
          285,
          256,
          288,
          284,
          251,
          342,
          284,
          342,
          183,
          234,
          283,
          266,
          293,
          242,
          238,
          264,
          111,
          243,
          241,
          399,
          341
         ]
        },
        {
         "boxpoints": false,
         "line": {
          "width": 1.3
         },
         "marker": {
          "color": "rgba(128, 128, 0, 0.7999999999999998)"
         },
         "name": "10035",
         "orientation": "v",
         "type": "box",
         "y": [
          1276,
          609,
          813,
          714,
          729,
          718,
          756,
          809,
          895,
          868,
          714,
          650,
          690,
          606,
          744,
          932,
          1062,
          889,
          595,
          603,
          638,
          666,
          822,
          848,
          815,
          742,
          297,
          620,
          750,
          1210,
          1223
         ]
        },
        {
         "boxpoints": false,
         "line": {
          "width": 1.3
         },
         "marker": {
          "color": "rgba(128, 128, 0, 0.7)"
         },
         "name": "10036",
         "orientation": "v",
         "type": "box",
         "y": [
          19151,
          18287,
          21478,
          17972,
          16425,
          18583,
          20401,
          20902,
          19578,
          23429,
          20795,
          19994,
          22077,
          21063,
          19880,
          21689,
          22653,
          23337,
          16313,
          18027,
          19865,
          19932,
          20593,
          22069,
          19339,
          9564,
          7207,
          16581,
          17969,
          20814,
          22969
         ]
        },
        {
         "boxpoints": false,
         "line": {
          "width": 1.3
         },
         "marker": {
          "color": "rgba(251, 128, 114, 0.7)"
         },
         "name": "10038",
         "orientation": "v",
         "type": "box",
         "y": [
          2562,
          1931,
          2025,
          1531,
          1825,
          1929,
          2161,
          2385,
          2497,
          2611,
          1933,
          2084,
          2298,
          2427,
          2517,
          2700,
          2570,
          1955,
          1568,
          2132,
          2354,
          2492,
          2669,
          2569,
          2124,
          1174,
          638,
          1957,
          2437,
          2912,
          2752
         ]
        },
        {
         "boxpoints": false,
         "line": {
          "width": 1.3
         },
         "marker": {
          "color": "rgba(128, 177, 211, 0.7)"
         },
         "name": "10065",
         "orientation": "v",
         "type": "box",
         "y": [
          9194,
          10209,
          11400,
          8390,
          12644,
          13606,
          15144,
          15925,
          15064,
          14510,
          10546,
          13412,
          15754,
          15492,
          15557,
          15764,
          12790,
          9424,
          10927,
          14205,
          14646,
          15882,
          15808,
          12796,
          10121,
          8738,
          5177,
          13806,
          15836,
          16143,
          14236
         ]
        },
        {
         "boxpoints": false,
         "line": {
          "width": 1.3
         },
         "marker": {
          "color": "rgba(255, 153, 51, 0.7)"
         },
         "name": "10069",
         "orientation": "v",
         "type": "box",
         "y": [
          610,
          619,
          644,
          607,
          628,
          709,
          790,
          781,
          685,
          930,
          763,
          642,
          717,
          695,
          733,
          832,
          838,
          718,
          729,
          759,
          738,
          787,
          861,
          858,
          813,
          415,
          209,
          723,
          750,
          791,
          951
         ]
        },
        {
         "boxpoints": false,
         "line": {
          "width": 1.3
         },
         "marker": {
          "color": "rgba(55, 128, 191, 0.7)"
         },
         "name": "10075",
         "orientation": "v",
         "type": "box",
         "y": [
          5446,
          5641,
          6100,
          4757,
          7070,
          7086,
          8151,
          8223,
          7951,
          8541,
          6165,
          6679,
          8060,
          7976,
          8087,
          8628,
          7302,
          5643,
          5873,
          7545,
          7616,
          8358,
          8486,
          7498,
          6239,
          5041,
          3132,
          7225,
          7873,
          8830,
          8369
         ]
        },
        {
         "boxpoints": false,
         "line": {
          "width": 1.3
         },
         "marker": {
          "color": "rgba(50, 171, 96, 0.7)"
         },
         "name": "10103",
         "orientation": "v",
         "type": "box",
         "y": [
          419,
          478,
          572,
          387,
          448,
          512,
          467,
          562,
          513,
          535,
          492,
          610,
          612,
          595,
          552,
          509,
          527,
          647,
          369,
          556,
          557,
          649,
          475,
          535,
          384,
          219,
          184,
          472,
          457,
          482,
          520
         ]
        },
        {
         "boxpoints": false,
         "line": {
          "width": 1.3
         },
         "marker": {
          "color": "rgba(128, 0, 128, 0.7)"
         },
         "name": "10110",
         "orientation": "v",
         "type": "box",
         "y": [
          411,
          330,
          305,
          222,
          399,
          505,
          504,
          529,
          477,
          366,
          273,
          503,
          555,
          580,
          501,
          438,
          305,
          220,
          256,
          543,
          580,
          544,
          507,
          306,
          311,
          222,
          186,
          499,
          479,
          502,
          343
         ]
        },
        {
         "boxpoints": false,
         "line": {
          "width": 1.3
         },
         "marker": {
          "color": "rgba(219, 64, 82, 0.7)"
         },
         "name": "10111",
         "orientation": "v",
         "type": "box",
         "y": [
          244,
          259,
          310,
          183,
          237,
          240,
          267,
          252,
          184,
          177,
          210,
          209,
          225,
          255,
          249,
          222,
          246,
          202,
          198,
          252,
          245,
          269,
          272,
          252,
          175,
          80,
          87,
          233,
          226,
          206,
          232
         ]
        },
        {
         "boxpoints": false,
         "line": {
          "width": 1.3
         },
         "marker": {
          "color": "rgba(0, 128, 128, 0.7)"
         },
         "name": "10112",
         "orientation": "v",
         "type": "box",
         "y": [
          204,
          282,
          335,
          188,
          351,
          285,
          328,
          326,
          258,
          210,
          176,
          302,
          283,
          334,
          277,
          261,
          301,
          210,
          276,
          245,
          306,
          265,
          347,
          306,
          218,
          117,
          115,
          307,
          227,
          245,
          250
         ]
        },
        {
         "boxpoints": false,
         "line": {
          "width": 1.3
         },
         "marker": {
          "color": "rgba(255, 255, 51, 0.7)"
         },
         "name": "10119",
         "orientation": "v",
         "type": "box",
         "y": [
          3704,
          5431,
          5257,
          5465,
          4818,
          5120,
          5323,
          5657,
          5178,
          5405,
          4425,
          5238,
          5325,
          5379,
          5565,
          6370,
          5408,
          4802,
          5325,
          5598,
          5594,
          5929,
          6270,
          5314,
          4680,
          3347,
          765,
          4773,
          5554,
          5862,
          5458
         ]
        },
        {
         "boxpoints": false,
         "line": {
          "width": 1.3
         },
         "marker": {
          "color": "rgba(255, 255, 51, 0.5999999999999999)"
         },
         "name": "10128",
         "orientation": "v",
         "type": "box",
         "y": [
          9250,
          9096,
          10478,
          8396,
          11493,
          11676,
          13498,
          13350,
          13121,
          14628,
          11175,
          11856,
          12933,
          12648,
          13154,
          13814,
          12580,
          10359,
          9664,
          12246,
          12363,
          13259,
          14009,
          12956,
          10845,
          8238,
          4355,
          11706,
          12655,
          14584,
          14674
         ]
        },
        {
         "boxpoints": false,
         "line": {
          "width": 1.3
         },
         "marker": {
          "color": "rgba(128, 128, 0, 0.5999999999999999)"
         },
         "name": "10152",
         "orientation": "v",
         "type": "box",
         "y": [
          115,
          183,
          178,
          139,
          440,
          490,
          572,
          535,
          403,
          230,
          194,
          513,
          611,
          635,
          549,
          383,
          234,
          169,
          232,
          577,
          617,
          631,
          429,
          196,
          191,
          160,
          170,
          535,
          537,
          426,
          232
         ]
        },
        {
         "boxpoints": false,
         "line": {
          "width": 1.3
         },
         "marker": {
          "color": "rgba(251, 128, 114, 0.5999999999999999)"
         },
         "name": "10153",
         "orientation": "v",
         "type": "box",
         "y": [
          469,
          538,
          702,
          407,
          620,
          636,
          717,
          692,
          593,
          565,
          443,
          663,
          656,
          696,
          682,
          653,
          583,
          513,
          445,
          597,
          636,
          676,
          594,
          565,
          461,
          222,
          308,
          600,
          557,
          581,
          641
         ]
        },
        {
         "boxpoints": false,
         "line": {
          "width": 1.3
         },
         "marker": {
          "color": "rgba(128, 177, 211, 0.5999999999999999)"
         },
         "name": "10154",
         "orientation": "v",
         "type": "box",
         "y": [
          155,
          218,
          207,
          171,
          381,
          416,
          466,
          477,
          408,
          274,
          220,
          528,
          551,
          577,
          531,
          413,
          303,
          193,
          229,
          522,
          525,
          583,
          434,
          232,
          193,
          161,
          162,
          478,
          515,
          386,
          259
         ]
        },
        {
         "boxpoints": false,
         "line": {
          "width": 1.3
         },
         "marker": {
          "color": "rgba(255, 153, 51, 0.5999999999999999)"
         },
         "name": "10165",
         "orientation": "v",
         "type": "box",
         "y": [
          572,
          668,
          745,
          592,
          776,
          860,
          979,
          1062,
          935,
          863,
          628,
          1025,
          1074,
          1080,
          1027,
          927,
          850,
          770,
          859,
          1046,
          1158,
          1079,
          999,
          849,
          707,
          575,
          189,
          917,
          1054,
          915,
          941
         ]
        },
        {
         "boxpoints": false,
         "line": {
          "width": 1.3
         },
         "marker": {
          "color": "rgba(55, 128, 191, 0.5999999999999999)"
         },
         "name": "10167",
         "orientation": "v",
         "type": "box",
         "y": [
          157,
          135,
          107,
          97,
          306,
          324,
          343,
          399,
          292,
          143,
          155,
          384,
          382,
          419,
          401,
          345,
          154,
          106,
          174,
          401,
          447,
          409,
          358,
          147,
          115,
          173,
          110,
          377,
          385,
          314,
          127
         ]
        },
        {
         "boxpoints": false,
         "line": {
          "width": 1.3
         },
         "marker": {
          "color": "rgba(50, 171, 96, 0.5999999999999999)"
         },
         "name": "10168",
         "orientation": "v",
         "type": "box",
         "y": [
          547,
          461,
          658,
          447,
          404,
          454,
          450,
          561,
          592,
          612,
          489,
          534,
          569,
          579,
          533,
          506,
          564,
          545,
          389,
          479,
          567,
          582,
          507,
          501,
          440,
          300,
          105,
          442,
          539,
          561,
          504
         ]
        },
        {
         "boxpoints": false,
         "line": {
          "width": 1.3
         },
         "marker": {
          "color": "rgba(128, 0, 128, 0.5999999999999999)"
         },
         "name": "10170",
         "orientation": "v",
         "type": "box",
         "y": [
          743,
          711,
          910,
          692,
          755,
          911,
          914,
          1084,
          1005,
          990,
          891,
          999,
          1064,
          1142,
          1074,
          1011,
          830,
          785,
          716,
          927,
          1071,
          1101,
          1063,
          788,
          707,
          528,
          224,
          831,
          1002,
          981,
          857
         ]
        },
        {
         "boxpoints": false,
         "line": {
          "width": 1.3
         },
         "marker": {
          "color": "rgba(219, 64, 82, 0.5999999999999999)"
         },
         "name": "10171",
         "orientation": "v",
         "type": "box",
         "y": [
          318,
          356,
          324,
          219,
          369,
          387,
          449,
          459,
          470,
          380,
          339,
          495,
          503,
          563,
          490,
          440,
          389,
          356,
          219,
          463,
          545,
          454,
          453,
          313,
          236,
          218,
          153,
          392,
          456,
          401,
          339
         ]
        },
        {
         "boxpoints": false,
         "line": {
          "width": 1.3
         },
         "marker": {
          "color": "rgba(0, 128, 128, 0.5999999999999999)"
         },
         "name": "10172",
         "orientation": "v",
         "type": "box",
         "y": [
          286,
          292,
          190,
          180,
          418,
          509,
          488,
          517,
          499,
          279,
          225,
          530,
          547,
          638,
          573,
          411,
          314,
          207,
          214,
          570,
          628,
          567,
          492,
          300,
          241,
          257,
          173,
          532,
          555,
          458,
          238
         ]
        },
        {
         "boxpoints": false,
         "line": {
          "width": 1.3
         },
         "marker": {
          "color": "rgba(0, 128, 128, 0.49999999999999983)"
         },
         "name": "10173",
         "orientation": "v",
         "type": "box",
         "y": [
          183,
          232,
          180,
          144,
          273,
          332,
          346,
          377,
          309,
          206,
          149,
          326,
          341,
          342,
          360,
          297,
          195,
          136,
          228,
          330,
          364,
          358,
          335,
          173,
          167,
          171,
          96,
          270,
          277,
          270,
          199
         ]
        },
        {
         "boxpoints": false,
         "line": {
          "width": 1.3
         },
         "marker": {
          "color": "rgba(255, 255, 51, 0.49999999999999983)"
         },
         "name": "10174",
         "orientation": "v",
         "type": "box",
         "y": [
          377,
          437,
          451,
          387,
          513,
          597,
          689,
          683,
          684,
          541,
          459,
          620,
          724,
          740,
          699,
          669,
          498,
          407,
          472,
          713,
          726,
          717,
          690,
          471,
          435,
          329,
          181,
          547,
          680,
          698,
          504
         ]
        },
        {
         "boxpoints": false,
         "line": {
          "width": 1.3
         },
         "marker": {
          "color": "rgba(128, 128, 0, 0.49999999999999983)"
         },
         "name": "10199",
         "orientation": "v",
         "type": "box",
         "y": [
          527,
          812,
          762,
          766,
          728,
          705,
          790,
          838,
          900,
          770,
          771,
          823,
          749,
          805,
          864,
          922,
          804,
          792,
          854,
          864,
          895,
          863,
          894,
          805,
          768,
          510,
          154,
          787,
          884,
          814,
          767
         ]
        },
        {
         "boxpoints": false,
         "line": {
          "width": 1.3
         },
         "marker": {
          "color": "rgba(251, 128, 114, 0.49999999999999983)"
         },
         "name": "10280",
         "orientation": "v",
         "type": "box",
         "y": [
          1511,
          1560,
          1313,
          1014,
          1565,
          1570,
          1859,
          2005,
          1858,
          1721,
          1335,
          1667,
          1919,
          1995,
          2091,
          2028,
          1746,
          1265,
          1155,
          1741,
          1937,
          2056,
          2005,
          1574,
          1393,
          1023,
          464,
          1767,
          1952,
          2134,
          1803
         ]
        },
        {
         "boxpoints": false,
         "line": {
          "width": 1.3
         },
         "marker": {
          "color": "rgba(128, 177, 211, 0.49999999999999983)"
         },
         "name": "10282",
         "orientation": "v",
         "type": "box",
         "y": [
          928,
          1185,
          1080,
          844,
          1558,
          1719,
          1858,
          2115,
          1945,
          1441,
          1140,
          1988,
          2177,
          2072,
          2095,
          2066,
          1479,
          1209,
          1259,
          1950,
          2074,
          1957,
          1904,
          1271,
          1195,
          1156,
          570,
          1882,
          2052,
          2035,
          1367
         ]
        },
        {
         "boxpoints": false,
         "line": {
          "width": 1.3
         },
         "marker": {
          "color": "rgba(255, 153, 51, 0.49999999999999983)"
         },
         "name": "11101",
         "orientation": "v",
         "type": "box",
         "y": [
          1736,
          874,
          1764,
          1537,
          1237,
          1208,
          1217,
          1297,
          1629,
          1968,
          1501,
          1178,
          1221,
          1429,
          1601,
          1709,
          1948,
          1755,
          1194,
          1278,
          1144,
          1243,
          1322,
          1821,
          1554,
          811,
          411,
          1111,
          1333,
          1382,
          2052
         ]
        },
        {
         "boxpoints": false,
         "line": {
          "width": 1.3
         },
         "marker": {
          "color": "rgba(55, 128, 191, 0.49999999999999983)"
         },
         "name": "11102",
         "orientation": "v",
         "type": "box",
         "y": [
          1065,
          402,
          550,
          589,
          375,
          352,
          398,
          402,
          555,
          612,
          688,
          320,
          327,
          375,
          408,
          444,
          550,
          679,
          356,
          365,
          310,
          361,
          464,
          618,
          552,
          381,
          199,
          343,
          363,
          467,
          618
         ]
        },
        {
         "boxpoints": false,
         "line": {
          "width": 1.3
         },
         "marker": {
          "color": "rgba(50, 171, 96, 0.49999999999999983)"
         },
         "name": "11103",
         "orientation": "v",
         "type": "box",
         "y": [
          1099,
          251,
          481,
          478,
          246,
          239,
          221,
          251,
          371,
          586,
          549,
          238,
          245,
          271,
          242,
          316,
          504,
          560,
          286,
          205,
          223,
          237,
          254,
          480,
          431,
          234,
          152,
          249,
          230,
          284,
          494
         ]
        },
        {
         "boxpoints": false,
         "line": {
          "width": 1.3
         },
         "marker": {
          "color": "rgba(128, 0, 128, 0.49999999999999983)"
         },
         "name": "11104",
         "orientation": "v",
         "type": "box",
         "y": [
          729,
          392,
          428,
          462,
          466,
          395,
          470,
          485,
          438,
          618,
          443,
          403,
          388,
          366,
          413,
          509,
          678,
          653,
          425,
          415,
          386,
          442,
          510,
          703,
          583,
          360,
          211,
          375,
          414,
          481,
          657
         ]
        },
        {
         "boxpoints": false,
         "line": {
          "width": 1.3
         },
         "marker": {
          "color": "rgba(219, 64, 82, 0.49999999999999983)"
         },
         "name": "11106",
         "orientation": "v",
         "type": "box",
         "y": [
          1288,
          497,
          755,
          734,
          478,
          475,
          525,
          562,
          724,
          858,
          888,
          497,
          480,
          539,
          523,
          617,
          789,
          832,
          496,
          436,
          455,
          461,
          595,
          728,
          728,
          440,
          238,
          452,
          479,
          628,
          799
         ]
        },
        {
         "boxpoints": false,
         "line": {
          "width": 1.3
         },
         "marker": {
          "color": "rgba(219, 64, 82, 0.39999999999999974)"
         },
         "name": "11201",
         "orientation": "v",
         "type": "box",
         "y": [
          2351,
          1180,
          1433,
          1273,
          1318,
          1381,
          1631,
          1746,
          1785,
          2055,
          1710,
          1374,
          1578,
          1601,
          1763,
          2009,
          1837,
          1887,
          1202,
          1446,
          1579,
          1552,
          1831,
          1660,
          1612,
          1036,
          512,
          1504,
          1839,
          2465,
          2422
         ]
        },
        {
         "boxpoints": false,
         "line": {
          "width": 1.3
         },
         "marker": {
          "color": "rgba(0, 128, 128, 0.39999999999999974)"
         },
         "name": "11205",
         "orientation": "v",
         "type": "box",
         "y": [
          716,
          162,
          272,
          260,
          171,
          172,
          219,
          201,
          280,
          384,
          322,
          178,
          207,
          216,
          207,
          293,
          425,
          434,
          221,
          189,
          227,
          212,
          234,
          371,
          342,
          133,
          100,
          169,
          267,
          354,
          499
         ]
        },
        {
         "boxpoints": false,
         "line": {
          "width": 1.3
         },
         "marker": {
          "color": "rgba(255, 255, 51, 0.39999999999999974)"
         },
         "name": "11206",
         "orientation": "v",
         "type": "box",
         "y": [
          1302,
          165,
          314,
          338,
          164,
          162,
          193,
          175,
          250,
          464,
          448,
          145,
          169,
          174,
          210,
          308,
          554,
          568,
          190,
          154,
          160,
          176,
          284,
          485,
          573,
          120,
          77,
          152,
          216,
          301,
          637
         ]
        },
        {
         "boxpoints": false,
         "line": {
          "width": 1.3
         },
         "marker": {
          "color": "rgba(128, 128, 0, 0.39999999999999974)"
         },
         "name": "11211",
         "orientation": "v",
         "type": "box",
         "y": [
          5150,
          1218,
          2310,
          1931,
          1064,
          1086,
          1301,
          1402,
          1767,
          3261,
          3234,
          1104,
          1362,
          1407,
          1438,
          1942,
          3662,
          3918,
          1689,
          1131,
          1232,
          1344,
          1599,
          3295,
          3231,
          744,
          516,
          1055,
          1463,
          2086,
          3965
         ]
        },
        {
         "boxpoints": false,
         "line": {
          "width": 1.3
         },
         "marker": {
          "color": "rgba(251, 128, 114, 0.39999999999999974)"
         },
         "name": "11215",
         "orientation": "v",
         "type": "box",
         "y": [
          1120,
          238,
          369,
          366,
          253,
          291,
          349,
          373,
          391,
          626,
          500,
          284,
          310,
          314,
          316,
          444,
          575,
          732,
          269,
          294,
          285,
          329,
          316,
          500,
          540,
          191,
          136,
          298,
          317,
          442,
          652
         ]
        },
        {
         "boxpoints": false,
         "line": {
          "width": 1.3
         },
         "marker": {
          "color": "rgba(128, 177, 211, 0.39999999999999974)"
         },
         "name": "11217",
         "orientation": "v",
         "type": "box",
         "y": [
          1458,
          522,
          827,
          673,
          630,
          485,
          798,
          597,
          753,
          1037,
          823,
          647,
          605,
          752,
          607,
          750,
          1051,
          1096,
          502,
          611,
          548,
          581,
          644,
          930,
          835,
          305,
          201,
          527,
          607,
          1068,
          1308
         ]
        },
        {
         "boxpoints": false,
         "line": {
          "width": 1.3
         },
         "marker": {
          "color": "rgba(255, 153, 51, 0.39999999999999974)"
         },
         "name": "11222",
         "orientation": "v",
         "type": "box",
         "y": [
          1479,
          219,
          440,
          353,
          210,
          232,
          249,
          252,
          406,
          686,
          685,
          218,
          291,
          294,
          277,
          447,
          757,
          869,
          327,
          296,
          241,
          259,
          349,
          695,
          694,
          162,
          127,
          253,
          319,
          494,
          790
         ]
        },
        {
         "boxpoints": false,
         "line": {
          "width": 1.3
         },
         "marker": {
          "color": "rgba(55, 128, 191, 0.39999999999999974)"
         },
         "name": "11231",
         "orientation": "v",
         "type": "box",
         "y": [
          656,
          278,
          528,
          347,
          359,
          419,
          514,
          523,
          547,
          533,
          482,
          477,
          422,
          463,
          485,
          573,
          527,
          612,
          372,
          369,
          389,
          441,
          487,
          457,
          486,
          388,
          129,
          455,
          585,
          627,
          675
         ]
        },
        {
         "boxpoints": false,
         "line": {
          "width": 1.3
         },
         "marker": {
          "color": "rgba(50, 171, 96, 0.39999999999999974)"
         },
         "name": "11238",
         "orientation": "v",
         "type": "box",
         "y": [
          1043,
          204,
          360,
          336,
          181,
          156,
          190,
          221,
          286,
          475,
          435,
          161,
          185,
          227,
          219,
          297,
          469,
          571,
          194,
          172,
          197,
          207,
          250,
          445,
          447,
          93,
          82,
          185,
          236,
          368,
          564
         ]
        },
        {
         "boxpoints": false,
         "line": {
          "width": 1.3
         },
         "marker": {
          "color": "rgba(128, 0, 128, 0.39999999999999974)"
         },
         "name": "11371",
         "orientation": "v",
         "type": "box",
         "y": [
          6401,
          8316,
          7381,
          10917,
          11369,
          8592,
          8083,
          8953,
          8484,
          5811,
          9280,
          10344,
          9204,
          8268,
          9652,
          9218,
          4648,
          6652,
          11609,
          10035,
          8533,
          9787,
          8208,
          3914,
          8402,
          3339,
          892,
          9470,
          9341,
          8046,
          4774
         ]
        },
        {
         "boxpoints": false,
         "line": {
          "width": 1.3
         },
         "marker": {
          "color": "rgba(128, 0, 128, 0.2999999999999999)"
         },
         "name": "11377",
         "orientation": "v",
         "type": "box",
         "y": [
          828,
          374,
          403,
          396,
          450,
          382,
          402,
          419,
          476,
          422,
          432,
          409,
          392,
          403,
          407,
          515,
          497,
          609,
          334,
          386,
          350,
          369,
          406,
          531,
          463,
          426,
          197,
          360,
          360,
          492,
          526
         ]
        },
        {
         "boxpoints": false,
         "line": {
          "width": 1.3
         },
         "marker": {
          "color": "rgba(219, 64, 82, 0.2999999999999999)"
         },
         "name": "11430",
         "orientation": "v",
         "type": "box",
         "y": [
          7400,
          8225,
          8507,
          10287,
          11463,
          8751,
          7828,
          7483,
          7935,
          8010,
          8809,
          8859,
          6903,
          6531,
          7280,
          7659,
          6479,
          7296,
          9766,
          8122,
          6917,
          6927,
          7212,
          6609,
          7945,
          4235,
          1345,
          7727,
          7527,
          7079,
          6274
         ]
        }
       ],
       "layout": {
        "legend": {
         "bgcolor": "#F5F6F9",
         "font": {
          "color": "#4D5663"
         }
        },
        "paper_bgcolor": "#F5F6F9",
        "plot_bgcolor": "#F5F6F9",
        "template": {
         "data": {
          "bar": [
           {
            "error_x": {
             "color": "#2a3f5f"
            },
            "error_y": {
             "color": "#2a3f5f"
            },
            "marker": {
             "line": {
              "color": "#E5ECF6",
              "width": 0.5
             }
            },
            "type": "bar"
           }
          ],
          "barpolar": [
           {
            "marker": {
             "line": {
              "color": "#E5ECF6",
              "width": 0.5
             }
            },
            "type": "barpolar"
           }
          ],
          "carpet": [
           {
            "aaxis": {
             "endlinecolor": "#2a3f5f",
             "gridcolor": "white",
             "linecolor": "white",
             "minorgridcolor": "white",
             "startlinecolor": "#2a3f5f"
            },
            "baxis": {
             "endlinecolor": "#2a3f5f",
             "gridcolor": "white",
             "linecolor": "white",
             "minorgridcolor": "white",
             "startlinecolor": "#2a3f5f"
            },
            "type": "carpet"
           }
          ],
          "choropleth": [
           {
            "colorbar": {
             "outlinewidth": 0,
             "ticks": ""
            },
            "type": "choropleth"
           }
          ],
          "contour": [
           {
            "colorbar": {
             "outlinewidth": 0,
             "ticks": ""
            },
            "colorscale": [
             [
              0,
              "#0d0887"
             ],
             [
              0.1111111111111111,
              "#46039f"
             ],
             [
              0.2222222222222222,
              "#7201a8"
             ],
             [
              0.3333333333333333,
              "#9c179e"
             ],
             [
              0.4444444444444444,
              "#bd3786"
             ],
             [
              0.5555555555555556,
              "#d8576b"
             ],
             [
              0.6666666666666666,
              "#ed7953"
             ],
             [
              0.7777777777777778,
              "#fb9f3a"
             ],
             [
              0.8888888888888888,
              "#fdca26"
             ],
             [
              1,
              "#f0f921"
             ]
            ],
            "type": "contour"
           }
          ],
          "contourcarpet": [
           {
            "colorbar": {
             "outlinewidth": 0,
             "ticks": ""
            },
            "type": "contourcarpet"
           }
          ],
          "heatmap": [
           {
            "colorbar": {
             "outlinewidth": 0,
             "ticks": ""
            },
            "colorscale": [
             [
              0,
              "#0d0887"
             ],
             [
              0.1111111111111111,
              "#46039f"
             ],
             [
              0.2222222222222222,
              "#7201a8"
             ],
             [
              0.3333333333333333,
              "#9c179e"
             ],
             [
              0.4444444444444444,
              "#bd3786"
             ],
             [
              0.5555555555555556,
              "#d8576b"
             ],
             [
              0.6666666666666666,
              "#ed7953"
             ],
             [
              0.7777777777777778,
              "#fb9f3a"
             ],
             [
              0.8888888888888888,
              "#fdca26"
             ],
             [
              1,
              "#f0f921"
             ]
            ],
            "type": "heatmap"
           }
          ],
          "heatmapgl": [
           {
            "colorbar": {
             "outlinewidth": 0,
             "ticks": ""
            },
            "colorscale": [
             [
              0,
              "#0d0887"
             ],
             [
              0.1111111111111111,
              "#46039f"
             ],
             [
              0.2222222222222222,
              "#7201a8"
             ],
             [
              0.3333333333333333,
              "#9c179e"
             ],
             [
              0.4444444444444444,
              "#bd3786"
             ],
             [
              0.5555555555555556,
              "#d8576b"
             ],
             [
              0.6666666666666666,
              "#ed7953"
             ],
             [
              0.7777777777777778,
              "#fb9f3a"
             ],
             [
              0.8888888888888888,
              "#fdca26"
             ],
             [
              1,
              "#f0f921"
             ]
            ],
            "type": "heatmapgl"
           }
          ],
          "histogram": [
           {
            "marker": {
             "colorbar": {
              "outlinewidth": 0,
              "ticks": ""
             }
            },
            "type": "histogram"
           }
          ],
          "histogram2d": [
           {
            "colorbar": {
             "outlinewidth": 0,
             "ticks": ""
            },
            "colorscale": [
             [
              0,
              "#0d0887"
             ],
             [
              0.1111111111111111,
              "#46039f"
             ],
             [
              0.2222222222222222,
              "#7201a8"
             ],
             [
              0.3333333333333333,
              "#9c179e"
             ],
             [
              0.4444444444444444,
              "#bd3786"
             ],
             [
              0.5555555555555556,
              "#d8576b"
             ],
             [
              0.6666666666666666,
              "#ed7953"
             ],
             [
              0.7777777777777778,
              "#fb9f3a"
             ],
             [
              0.8888888888888888,
              "#fdca26"
             ],
             [
              1,
              "#f0f921"
             ]
            ],
            "type": "histogram2d"
           }
          ],
          "histogram2dcontour": [
           {
            "colorbar": {
             "outlinewidth": 0,
             "ticks": ""
            },
            "colorscale": [
             [
              0,
              "#0d0887"
             ],
             [
              0.1111111111111111,
              "#46039f"
             ],
             [
              0.2222222222222222,
              "#7201a8"
             ],
             [
              0.3333333333333333,
              "#9c179e"
             ],
             [
              0.4444444444444444,
              "#bd3786"
             ],
             [
              0.5555555555555556,
              "#d8576b"
             ],
             [
              0.6666666666666666,
              "#ed7953"
             ],
             [
              0.7777777777777778,
              "#fb9f3a"
             ],
             [
              0.8888888888888888,
              "#fdca26"
             ],
             [
              1,
              "#f0f921"
             ]
            ],
            "type": "histogram2dcontour"
           }
          ],
          "mesh3d": [
           {
            "colorbar": {
             "outlinewidth": 0,
             "ticks": ""
            },
            "type": "mesh3d"
           }
          ],
          "parcoords": [
           {
            "line": {
             "colorbar": {
              "outlinewidth": 0,
              "ticks": ""
             }
            },
            "type": "parcoords"
           }
          ],
          "pie": [
           {
            "automargin": true,
            "type": "pie"
           }
          ],
          "scatter": [
           {
            "marker": {
             "colorbar": {
              "outlinewidth": 0,
              "ticks": ""
             }
            },
            "type": "scatter"
           }
          ],
          "scatter3d": [
           {
            "line": {
             "colorbar": {
              "outlinewidth": 0,
              "ticks": ""
             }
            },
            "marker": {
             "colorbar": {
              "outlinewidth": 0,
              "ticks": ""
             }
            },
            "type": "scatter3d"
           }
          ],
          "scattercarpet": [
           {
            "marker": {
             "colorbar": {
              "outlinewidth": 0,
              "ticks": ""
             }
            },
            "type": "scattercarpet"
           }
          ],
          "scattergeo": [
           {
            "marker": {
             "colorbar": {
              "outlinewidth": 0,
              "ticks": ""
             }
            },
            "type": "scattergeo"
           }
          ],
          "scattergl": [
           {
            "marker": {
             "colorbar": {
              "outlinewidth": 0,
              "ticks": ""
             }
            },
            "type": "scattergl"
           }
          ],
          "scattermapbox": [
           {
            "marker": {
             "colorbar": {
              "outlinewidth": 0,
              "ticks": ""
             }
            },
            "type": "scattermapbox"
           }
          ],
          "scatterpolar": [
           {
            "marker": {
             "colorbar": {
              "outlinewidth": 0,
              "ticks": ""
             }
            },
            "type": "scatterpolar"
           }
          ],
          "scatterpolargl": [
           {
            "marker": {
             "colorbar": {
              "outlinewidth": 0,
              "ticks": ""
             }
            },
            "type": "scatterpolargl"
           }
          ],
          "scatterternary": [
           {
            "marker": {
             "colorbar": {
              "outlinewidth": 0,
              "ticks": ""
             }
            },
            "type": "scatterternary"
           }
          ],
          "surface": [
           {
            "colorbar": {
             "outlinewidth": 0,
             "ticks": ""
            },
            "colorscale": [
             [
              0,
              "#0d0887"
             ],
             [
              0.1111111111111111,
              "#46039f"
             ],
             [
              0.2222222222222222,
              "#7201a8"
             ],
             [
              0.3333333333333333,
              "#9c179e"
             ],
             [
              0.4444444444444444,
              "#bd3786"
             ],
             [
              0.5555555555555556,
              "#d8576b"
             ],
             [
              0.6666666666666666,
              "#ed7953"
             ],
             [
              0.7777777777777778,
              "#fb9f3a"
             ],
             [
              0.8888888888888888,
              "#fdca26"
             ],
             [
              1,
              "#f0f921"
             ]
            ],
            "type": "surface"
           }
          ],
          "table": [
           {
            "cells": {
             "fill": {
              "color": "#EBF0F8"
             },
             "line": {
              "color": "white"
             }
            },
            "header": {
             "fill": {
              "color": "#C8D4E3"
             },
             "line": {
              "color": "white"
             }
            },
            "type": "table"
           }
          ]
         },
         "layout": {
          "annotationdefaults": {
           "arrowcolor": "#2a3f5f",
           "arrowhead": 0,
           "arrowwidth": 1
          },
          "coloraxis": {
           "colorbar": {
            "outlinewidth": 0,
            "ticks": ""
           }
          },
          "colorscale": {
           "diverging": [
            [
             0,
             "#8e0152"
            ],
            [
             0.1,
             "#c51b7d"
            ],
            [
             0.2,
             "#de77ae"
            ],
            [
             0.3,
             "#f1b6da"
            ],
            [
             0.4,
             "#fde0ef"
            ],
            [
             0.5,
             "#f7f7f7"
            ],
            [
             0.6,
             "#e6f5d0"
            ],
            [
             0.7,
             "#b8e186"
            ],
            [
             0.8,
             "#7fbc41"
            ],
            [
             0.9,
             "#4d9221"
            ],
            [
             1,
             "#276419"
            ]
           ],
           "sequential": [
            [
             0,
             "#0d0887"
            ],
            [
             0.1111111111111111,
             "#46039f"
            ],
            [
             0.2222222222222222,
             "#7201a8"
            ],
            [
             0.3333333333333333,
             "#9c179e"
            ],
            [
             0.4444444444444444,
             "#bd3786"
            ],
            [
             0.5555555555555556,
             "#d8576b"
            ],
            [
             0.6666666666666666,
             "#ed7953"
            ],
            [
             0.7777777777777778,
             "#fb9f3a"
            ],
            [
             0.8888888888888888,
             "#fdca26"
            ],
            [
             1,
             "#f0f921"
            ]
           ],
           "sequentialminus": [
            [
             0,
             "#0d0887"
            ],
            [
             0.1111111111111111,
             "#46039f"
            ],
            [
             0.2222222222222222,
             "#7201a8"
            ],
            [
             0.3333333333333333,
             "#9c179e"
            ],
            [
             0.4444444444444444,
             "#bd3786"
            ],
            [
             0.5555555555555556,
             "#d8576b"
            ],
            [
             0.6666666666666666,
             "#ed7953"
            ],
            [
             0.7777777777777778,
             "#fb9f3a"
            ],
            [
             0.8888888888888888,
             "#fdca26"
            ],
            [
             1,
             "#f0f921"
            ]
           ]
          },
          "colorway": [
           "#636efa",
           "#EF553B",
           "#00cc96",
           "#ab63fa",
           "#FFA15A",
           "#19d3f3",
           "#FF6692",
           "#B6E880",
           "#FF97FF",
           "#FECB52"
          ],
          "font": {
           "color": "#2a3f5f"
          },
          "geo": {
           "bgcolor": "white",
           "lakecolor": "white",
           "landcolor": "#E5ECF6",
           "showlakes": true,
           "showland": true,
           "subunitcolor": "white"
          },
          "hoverlabel": {
           "align": "left"
          },
          "hovermode": "closest",
          "mapbox": {
           "style": "light"
          },
          "paper_bgcolor": "white",
          "plot_bgcolor": "#E5ECF6",
          "polar": {
           "angularaxis": {
            "gridcolor": "white",
            "linecolor": "white",
            "ticks": ""
           },
           "bgcolor": "#E5ECF6",
           "radialaxis": {
            "gridcolor": "white",
            "linecolor": "white",
            "ticks": ""
           }
          },
          "scene": {
           "xaxis": {
            "backgroundcolor": "#E5ECF6",
            "gridcolor": "white",
            "gridwidth": 2,
            "linecolor": "white",
            "showbackground": true,
            "ticks": "",
            "zerolinecolor": "white"
           },
           "yaxis": {
            "backgroundcolor": "#E5ECF6",
            "gridcolor": "white",
            "gridwidth": 2,
            "linecolor": "white",
            "showbackground": true,
            "ticks": "",
            "zerolinecolor": "white"
           },
           "zaxis": {
            "backgroundcolor": "#E5ECF6",
            "gridcolor": "white",
            "gridwidth": 2,
            "linecolor": "white",
            "showbackground": true,
            "ticks": "",
            "zerolinecolor": "white"
           }
          },
          "shapedefaults": {
           "line": {
            "color": "#2a3f5f"
           }
          },
          "ternary": {
           "aaxis": {
            "gridcolor": "white",
            "linecolor": "white",
            "ticks": ""
           },
           "baxis": {
            "gridcolor": "white",
            "linecolor": "white",
            "ticks": ""
           },
           "bgcolor": "#E5ECF6",
           "caxis": {
            "gridcolor": "white",
            "linecolor": "white",
            "ticks": ""
           }
          },
          "title": {
           "x": 0.05
          },
          "xaxis": {
           "automargin": true,
           "gridcolor": "white",
           "linecolor": "white",
           "ticks": "",
           "title": {
            "standoff": 15
           },
           "zerolinecolor": "white",
           "zerolinewidth": 2
          },
          "yaxis": {
           "automargin": true,
           "gridcolor": "white",
           "linecolor": "white",
           "ticks": "",
           "title": {
            "standoff": 15
           },
           "zerolinecolor": "white",
           "zerolinewidth": 2
          }
         }
        },
        "title": {
         "font": {
          "color": "#4D5663"
         }
        },
        "xaxis": {
         "gridcolor": "#E1E5ED",
         "showgrid": true,
         "tickfont": {
          "color": "#4D5663"
         },
         "title": {
          "font": {
           "color": "#4D5663"
          },
          "text": ""
         },
         "zerolinecolor": "#E1E5ED"
        },
        "yaxis": {
         "gridcolor": "#E1E5ED",
         "showgrid": true,
         "tickfont": {
          "color": "#4D5663"
         },
         "title": {
          "font": {
           "color": "#4D5663"
          },
          "text": ""
         },
         "zerolinecolor": "#E1E5ED"
        }
       }
      },
      "text/html": [
       "<div>\n",
       "        \n",
       "        \n",
       "            <div id=\"ad555e8b-c20e-46b5-8d15-d3c2758f363b\" class=\"plotly-graph-div\" style=\"height:525px; width:100%;\"></div>\n",
       "            <script type=\"text/javascript\">\n",
       "                require([\"plotly\"], function(Plotly) {\n",
       "                    window.PLOTLYENV=window.PLOTLYENV || {};\n",
       "                    window.PLOTLYENV.BASE_URL='https://plot.ly';\n",
       "                    \n",
       "                if (document.getElementById(\"ad555e8b-c20e-46b5-8d15-d3c2758f363b\")) {\n",
       "                    Plotly.newPlot(\n",
       "                        'ad555e8b-c20e-46b5-8d15-d3c2758f363b',\n",
       "                        [{\"boxpoints\": false, \"line\": {\"width\": 1.3}, \"marker\": {\"color\": \"rgba(255, 153, 51, 1.0)\"}, \"name\": \"10001\", \"orientation\": \"v\", \"type\": \"box\", \"y\": [16770, 17046, 20478, 16743, 17441, 18544, 20846, 22799, 21773, 25343, 20844, 21735, 23843, 21389, 21626, 22900, 22495, 21921, 18347, 20405, 21170, 22038, 23654, 23572, 20230, 10789, 5054, 18005, 20982, 23742, 25039]}, {\"boxpoints\": false, \"line\": {\"width\": 1.3}, \"marker\": {\"color\": \"rgba(55, 128, 191, 1.0)\"}, \"name\": \"10002\", \"orientation\": \"v\", \"type\": \"box\", \"y\": [9703, 5538, 10507, 9067, 3769, 4086, 4990, 5483, 7195, 13939, 12908, 4165, 5106, 5547, 6066, 8153, 13690, 13512, 5571, 4868, 5154, 5808, 7576, 12143, 13423, 2376, 1741, 4009, 5657, 7996, 14781]}, {\"boxpoints\": false, \"line\": {\"width\": 1.3}, \"marker\": {\"color\": \"rgba(50, 171, 96, 1.0)\"}, \"name\": \"10003\", \"orientation\": \"v\", \"type\": \"box\", \"y\": [21226, 18452, 26384, 19516, 16264, 17745, 21063, 22227, 23696, 34699, 26613, 17697, 21668, 21632, 22407, 26318, 33397, 30089, 17418, 19317, 20787, 22730, 25329, 30319, 26257, 10553, 7403, 18480, 21956, 26214, 36742]}, {\"boxpoints\": false, \"line\": {\"width\": 1.3}, \"marker\": {\"color\": \"rgba(128, 0, 128, 1.0)\"}, \"name\": \"10004\", \"orientation\": \"v\", \"type\": \"box\", \"y\": [2137, 1972, 1560, 1182, 1921, 1798, 2277, 2470, 2299, 1799, 1349, 1936, 2511, 2541, 2701, 2520, 1846, 1220, 1264, 2128, 2327, 2556, 2509, 1553, 1511, 917, 461, 1912, 2323, 2428, 1772]}, {\"boxpoints\": false, \"line\": {\"width\": 1.3}, \"marker\": {\"color\": \"rgba(219, 64, 82, 1.0)\"}, \"name\": \"10005\", \"orientation\": \"v\", \"type\": \"box\", \"y\": [1485, 1234, 1290, 964, 1475, 1735, 1939, 2032, 2087, 1757, 1294, 1781, 2030, 2085, 2123, 2137, 1643, 1223, 1246, 1898, 2146, 2141, 2259, 1711, 1384, 935, 508, 1742, 2092, 2191, 1887]}, {\"boxpoints\": false, \"line\": {\"width\": 1.3}, \"marker\": {\"color\": \"rgba(0, 128, 128, 1.0)\"}, \"name\": \"10006\", \"orientation\": \"v\", \"type\": \"box\", \"y\": [1656, 1405, 1575, 993, 956, 938, 1158, 1199, 1069, 1502, 1040, 1162, 1243, 1143, 1206, 1280, 1600, 1071, 990, 1058, 1101, 1252, 1238, 1218, 1191, 469, 369, 904, 1109, 1204, 1409]}, {\"boxpoints\": false, \"line\": {\"width\": 1.3}, \"marker\": {\"color\": \"rgba(255, 255, 51, 1.0)\"}, \"name\": \"10007\", \"orientation\": \"v\", \"type\": \"box\", \"y\": [2868, 2437, 2358, 1844, 2438, 2502, 3056, 3293, 3234, 3392, 2644, 2747, 3323, 3226, 3417, 3550, 2873, 2372, 1924, 2853, 3047, 3378, 3627, 2789, 2532, 1502, 863, 2691, 3215, 3724, 3393]}, {\"boxpoints\": false, \"line\": {\"width\": 1.3}, \"marker\": {\"color\": \"rgba(128, 128, 0, 1.0)\"}, \"name\": \"10009\", \"orientation\": \"v\", \"type\": \"box\", \"y\": [10049, 7158, 10918, 8098, 5213, 5373, 6488, 6481, 7949, 14088, 10932, 4935, 5973, 6312, 6722, 8840, 13734, 12763, 6671, 5699, 5933, 6738, 8555, 12842, 11739, 3778, 2489, 5380, 6399, 9071, 15583]}, {\"boxpoints\": false, \"line\": {\"width\": 1.3}, \"marker\": {\"color\": \"rgba(251, 128, 114, 1.0)\"}, \"name\": \"10010\", \"orientation\": \"v\", \"type\": \"box\", \"y\": [10306, 9334, 11338, 8738, 10431, 11680, 13315, 14207, 14140, 15717, 12653, 12183, 13944, 13982, 14378, 14957, 14114, 12763, 9540, 12859, 13652, 14480, 15032, 14044, 11483, 6914, 4127, 12162, 13891, 15515, 16029]}, {\"boxpoints\": false, \"line\": {\"width\": 1.3}, \"marker\": {\"color\": \"rgba(128, 177, 211, 1.0)\"}, \"name\": \"10011\", \"orientation\": \"v\", \"type\": \"box\", \"y\": [15644, 16040, 20606, 15877, 16002, 17649, 20367, 21880, 22150, 29604, 22848, 17914, 21453, 21873, 22522, 24958, 29201, 23831, 17287, 18918, 21284, 22866, 24590, 26209, 22821, 10582, 6341, 18399, 21221, 25201, 31693]}, {\"boxpoints\": false, \"line\": {\"width\": 1.3}, \"marker\": {\"color\": \"rgba(128, 177, 211, 0.8999999999999999)\"}, \"name\": \"10012\", \"orientation\": \"v\", \"type\": \"box\", \"y\": [9693, 10435, 13945, 10729, 8401, 8812, 10528, 11012, 12306, 18997, 14307, 8941, 11179, 11331, 11820, 13539, 17385, 14341, 9852, 9765, 10726, 11792, 13150, 16171, 14469, 4431, 3729, 9191, 11037, 13872, 18318]}, {\"boxpoints\": false, \"line\": {\"width\": 1.3}, \"marker\": {\"color\": \"rgba(255, 153, 51, 0.8999999999999999)\"}, \"name\": \"10013\", \"orientation\": \"v\", \"type\": \"box\", \"y\": [8744, 7670, 8514, 6459, 7797, 8279, 9465, 10291, 11037, 12164, 10394, 9234, 10201, 10562, 11149, 11645, 11603, 9862, 6856, 9616, 10572, 11159, 11280, 11433, 10238, 4499, 2879, 8389, 10657, 12160, 12669]}, {\"boxpoints\": false, \"line\": {\"width\": 1.3}, \"marker\": {\"color\": \"rgba(55, 128, 191, 0.8999999999999999)\"}, \"name\": \"10014\", \"orientation\": \"v\", \"type\": \"box\", \"y\": [10797, 10855, 16024, 11651, 9598, 10461, 11978, 13128, 14328, 21170, 16593, 10942, 13223, 13607, 13939, 16062, 20137, 17782, 11044, 11826, 13015, 13900, 16127, 19320, 17489, 6006, 3905, 10748, 12782, 16402, 21552]}, {\"boxpoints\": false, \"line\": {\"width\": 1.3}, \"marker\": {\"color\": \"rgba(50, 171, 96, 0.8999999999999999)\"}, \"name\": \"10016\", \"orientation\": \"v\", \"type\": \"box\", \"y\": [21076, 18222, 20313, 15118, 17884, 20415, 22272, 24345, 24829, 26319, 20062, 20577, 23526, 23593, 24331, 26011, 24178, 20890, 16276, 21060, 22843, 24315, 26109, 24304, 19182, 12498, 6625, 20036, 23511, 26619, 26201]}, {\"boxpoints\": false, \"line\": {\"width\": 1.3}, \"marker\": {\"color\": \"rgba(128, 0, 128, 0.8999999999999999)\"}, \"name\": \"10017\", \"orientation\": \"v\", \"type\": \"box\", \"y\": [10664, 11705, 11916, 8784, 13659, 15931, 17211, 18698, 16933, 13364, 10299, 16127, 17673, 18771, 18099, 16928, 12632, 10474, 11019, 16458, 18212, 18553, 17537, 12320, 9787, 8597, 4580, 15611, 17281, 16916, 12892]}, {\"boxpoints\": false, \"line\": {\"width\": 1.3}, \"marker\": {\"color\": \"rgba(219, 64, 82, 0.8999999999999999)\"}, \"name\": \"10018\", \"orientation\": \"v\", \"type\": \"box\", \"y\": [7904, 8687, 9170, 7675, 9629, 10468, 11675, 12209, 11528, 10630, 9672, 12631, 13780, 12634, 12298, 12369, 10363, 9798, 9465, 11979, 12188, 12257, 12425, 10410, 9115, 6212, 2625, 9905, 11664, 12488, 11077]}, {\"boxpoints\": false, \"line\": {\"width\": 1.3}, \"marker\": {\"color\": \"rgba(0, 128, 128, 0.8999999999999999)\"}, \"name\": \"10019\", \"orientation\": \"v\", \"type\": \"box\", \"y\": [23614, 22443, 26120, 20168, 23620, 25676, 28843, 29973, 28937, 30186, 25567, 27703, 32728, 31502, 30369, 30143, 27930, 27521, 20952, 26504, 29482, 30380, 29797, 28481, 23336, 13786, 10056, 24287, 27966, 30298, 28899]}, {\"boxpoints\": false, \"line\": {\"width\": 1.3}, \"marker\": {\"color\": \"rgba(255, 255, 51, 0.8999999999999999)\"}, \"name\": \"10020\", \"orientation\": \"v\", \"type\": \"box\", \"y\": [1192, 1452, 1503, 1096, 1482, 1670, 1739, 1775, 1499, 1314, 1090, 1617, 1574, 1808, 1597, 1545, 1384, 1060, 1190, 1707, 1699, 1694, 1691, 1267, 1077, 682, 662, 1558, 1410, 1484, 1388]}, {\"boxpoints\": false, \"line\": {\"width\": 1.3}, \"marker\": {\"color\": \"rgba(128, 128, 0, 0.8999999999999999)\"}, \"name\": \"10021\", \"orientation\": \"v\", \"type\": \"box\", \"y\": [9236, 10538, 10430, 8511, 14068, 14746, 17242, 16878, 15461, 14835, 11016, 14529, 16650, 16453, 16695, 16785, 12955, 10345, 11153, 15718, 16562, 16927, 16948, 13192, 11456, 10403, 5498, 15022, 16276, 17303, 14656]}, {\"boxpoints\": false, \"line\": {\"width\": 1.3}, \"marker\": {\"color\": \"rgba(251, 128, 114, 0.8999999999999999)\"}, \"name\": \"10022\", \"orientation\": \"v\", \"type\": \"box\", \"y\": [17582, 18181, 20050, 14911, 21519, 23147, 25455, 26713, 24794, 23370, 17751, 23863, 26840, 27347, 27122, 25879, 22253, 17404, 17340, 23941, 26450, 27610, 25800, 21205, 16887, 11810, 8352, 22619, 25229, 25457, 22950]}, {\"boxpoints\": false, \"line\": {\"width\": 1.3}, \"marker\": {\"color\": \"rgba(251, 128, 114, 0.7999999999999998)\"}, \"name\": \"10023\", \"orientation\": \"v\", \"type\": \"box\", \"y\": [12798, 13087, 14593, 11368, 13529, 14290, 15931, 16484, 15692, 19909, 15255, 13812, 16570, 15301, 16595, 16923, 17126, 14287, 12983, 14934, 15973, 16107, 17187, 16925, 14600, 9162, 5654, 14509, 16012, 16617, 18836]}, {\"boxpoints\": false, \"line\": {\"width\": 1.3}, \"marker\": {\"color\": \"rgba(128, 177, 211, 0.7999999999999998)\"}, \"name\": \"10024\", \"orientation\": \"v\", \"type\": \"box\", \"y\": [10708, 9739, 11208, 9173, 10374, 11226, 12563, 12496, 12028, 16874, 13103, 10410, 12219, 11505, 12147, 12868, 12855, 12281, 10265, 11080, 11592, 12281, 12731, 13251, 11814, 6996, 4351, 10731, 11734, 12822, 14348]}, {\"boxpoints\": false, \"line\": {\"width\": 1.3}, \"marker\": {\"color\": \"rgba(255, 153, 51, 0.7999999999999998)\"}, \"name\": \"10025\", \"orientation\": \"v\", \"type\": \"box\", \"y\": [9115, 7354, 8446, 7602, 8128, 8714, 9725, 9874, 9716, 11260, 9612, 8279, 9598, 9156, 9558, 10420, 9961, 9164, 7635, 8815, 9610, 9664, 10624, 10167, 9700, 6194, 3256, 8397, 9769, 11300, 13290]}, {\"boxpoints\": false, \"line\": {\"width\": 1.3}, \"marker\": {\"color\": \"rgba(55, 128, 191, 0.7999999999999998)\"}, \"name\": \"10026\", \"orientation\": \"v\", \"type\": \"box\", \"y\": [1349, 705, 926, 870, 717, 795, 886, 853, 1022, 1101, 935, 713, 829, 795, 856, 1014, 1014, 1247, 688, 747, 724, 713, 960, 1045, 901, 695, 381, 727, 861, 1203, 1683]}, {\"boxpoints\": false, \"line\": {\"width\": 1.3}, \"marker\": {\"color\": \"rgba(50, 171, 96, 0.7999999999999998)\"}, \"name\": \"10027\", \"orientation\": \"v\", \"type\": \"box\", \"y\": [2176, 938, 1243, 1200, 1148, 1293, 1500, 1478, 1681, 1517, 1397, 1328, 1498, 1420, 1606, 1747, 1622, 1845, 1118, 1447, 1585, 1716, 1794, 1674, 1545, 1265, 499, 1417, 1756, 2424, 2535]}, {\"boxpoints\": false, \"line\": {\"width\": 1.3}, \"marker\": {\"color\": \"rgba(128, 0, 128, 0.7999999999999998)\"}, \"name\": \"10028\", \"orientation\": \"v\", \"type\": \"box\", \"y\": [9509, 9373, 10497, 8360, 10718, 10179, 12145, 12152, 11979, 14585, 10841, 9977, 11775, 11514, 11870, 13057, 12567, 10105, 9460, 10793, 11280, 11846, 13212, 12768, 10614, 7415, 4018, 10388, 11289, 13266, 14129]}, {\"boxpoints\": false, \"line\": {\"width\": 1.3}, \"marker\": {\"color\": \"rgba(219, 64, 82, 0.7999999999999998)\"}, \"name\": \"10029\", \"orientation\": \"v\", \"type\": \"box\", \"y\": [3002, 2109, 2514, 2172, 2294, 2640, 2764, 2754, 2928, 3126, 2457, 2334, 2544, 2458, 2559, 2948, 2917, 2554, 1954, 2290, 2197, 2225, 2840, 2722, 2284, 2103, 1055, 2168, 2678, 3444, 3628]}, {\"boxpoints\": false, \"line\": {\"width\": 1.3}, \"marker\": {\"color\": \"rgba(0, 128, 128, 0.7999999999999998)\"}, \"name\": \"10031\", \"orientation\": \"v\", \"type\": \"box\", \"y\": [1450, 423, 499, 518, 455, 459, 508, 590, 615, 636, 632, 424, 481, 469, 495, 640, 607, 859, 435, 420, 471, 443, 555, 631, 570, 431, 206, 408, 496, 741, 842]}, {\"boxpoints\": false, \"line\": {\"width\": 1.3}, \"marker\": {\"color\": \"rgba(255, 255, 51, 0.7999999999999998)\"}, \"name\": \"10032\", \"orientation\": \"v\", \"type\": \"box\", \"y\": [766, 186, 193, 242, 253, 270, 274, 302, 340, 269, 285, 256, 288, 284, 251, 342, 284, 342, 183, 234, 283, 266, 293, 242, 238, 264, 111, 243, 241, 399, 341]}, {\"boxpoints\": false, \"line\": {\"width\": 1.3}, \"marker\": {\"color\": \"rgba(128, 128, 0, 0.7999999999999998)\"}, \"name\": \"10035\", \"orientation\": \"v\", \"type\": \"box\", \"y\": [1276, 609, 813, 714, 729, 718, 756, 809, 895, 868, 714, 650, 690, 606, 744, 932, 1062, 889, 595, 603, 638, 666, 822, 848, 815, 742, 297, 620, 750, 1210, 1223]}, {\"boxpoints\": false, \"line\": {\"width\": 1.3}, \"marker\": {\"color\": \"rgba(128, 128, 0, 0.7)\"}, \"name\": \"10036\", \"orientation\": \"v\", \"type\": \"box\", \"y\": [19151, 18287, 21478, 17972, 16425, 18583, 20401, 20902, 19578, 23429, 20795, 19994, 22077, 21063, 19880, 21689, 22653, 23337, 16313, 18027, 19865, 19932, 20593, 22069, 19339, 9564, 7207, 16581, 17969, 20814, 22969]}, {\"boxpoints\": false, \"line\": {\"width\": 1.3}, \"marker\": {\"color\": \"rgba(251, 128, 114, 0.7)\"}, \"name\": \"10038\", \"orientation\": \"v\", \"type\": \"box\", \"y\": [2562, 1931, 2025, 1531, 1825, 1929, 2161, 2385, 2497, 2611, 1933, 2084, 2298, 2427, 2517, 2700, 2570, 1955, 1568, 2132, 2354, 2492, 2669, 2569, 2124, 1174, 638, 1957, 2437, 2912, 2752]}, {\"boxpoints\": false, \"line\": {\"width\": 1.3}, \"marker\": {\"color\": \"rgba(128, 177, 211, 0.7)\"}, \"name\": \"10065\", \"orientation\": \"v\", \"type\": \"box\", \"y\": [9194, 10209, 11400, 8390, 12644, 13606, 15144, 15925, 15064, 14510, 10546, 13412, 15754, 15492, 15557, 15764, 12790, 9424, 10927, 14205, 14646, 15882, 15808, 12796, 10121, 8738, 5177, 13806, 15836, 16143, 14236]}, {\"boxpoints\": false, \"line\": {\"width\": 1.3}, \"marker\": {\"color\": \"rgba(255, 153, 51, 0.7)\"}, \"name\": \"10069\", \"orientation\": \"v\", \"type\": \"box\", \"y\": [610, 619, 644, 607, 628, 709, 790, 781, 685, 930, 763, 642, 717, 695, 733, 832, 838, 718, 729, 759, 738, 787, 861, 858, 813, 415, 209, 723, 750, 791, 951]}, {\"boxpoints\": false, \"line\": {\"width\": 1.3}, \"marker\": {\"color\": \"rgba(55, 128, 191, 0.7)\"}, \"name\": \"10075\", \"orientation\": \"v\", \"type\": \"box\", \"y\": [5446, 5641, 6100, 4757, 7070, 7086, 8151, 8223, 7951, 8541, 6165, 6679, 8060, 7976, 8087, 8628, 7302, 5643, 5873, 7545, 7616, 8358, 8486, 7498, 6239, 5041, 3132, 7225, 7873, 8830, 8369]}, {\"boxpoints\": false, \"line\": {\"width\": 1.3}, \"marker\": {\"color\": \"rgba(50, 171, 96, 0.7)\"}, \"name\": \"10103\", \"orientation\": \"v\", \"type\": \"box\", \"y\": [419, 478, 572, 387, 448, 512, 467, 562, 513, 535, 492, 610, 612, 595, 552, 509, 527, 647, 369, 556, 557, 649, 475, 535, 384, 219, 184, 472, 457, 482, 520]}, {\"boxpoints\": false, \"line\": {\"width\": 1.3}, \"marker\": {\"color\": \"rgba(128, 0, 128, 0.7)\"}, \"name\": \"10110\", \"orientation\": \"v\", \"type\": \"box\", \"y\": [411, 330, 305, 222, 399, 505, 504, 529, 477, 366, 273, 503, 555, 580, 501, 438, 305, 220, 256, 543, 580, 544, 507, 306, 311, 222, 186, 499, 479, 502, 343]}, {\"boxpoints\": false, \"line\": {\"width\": 1.3}, \"marker\": {\"color\": \"rgba(219, 64, 82, 0.7)\"}, \"name\": \"10111\", \"orientation\": \"v\", \"type\": \"box\", \"y\": [244, 259, 310, 183, 237, 240, 267, 252, 184, 177, 210, 209, 225, 255, 249, 222, 246, 202, 198, 252, 245, 269, 272, 252, 175, 80, 87, 233, 226, 206, 232]}, {\"boxpoints\": false, \"line\": {\"width\": 1.3}, \"marker\": {\"color\": \"rgba(0, 128, 128, 0.7)\"}, \"name\": \"10112\", \"orientation\": \"v\", \"type\": \"box\", \"y\": [204, 282, 335, 188, 351, 285, 328, 326, 258, 210, 176, 302, 283, 334, 277, 261, 301, 210, 276, 245, 306, 265, 347, 306, 218, 117, 115, 307, 227, 245, 250]}, {\"boxpoints\": false, \"line\": {\"width\": 1.3}, \"marker\": {\"color\": \"rgba(255, 255, 51, 0.7)\"}, \"name\": \"10119\", \"orientation\": \"v\", \"type\": \"box\", \"y\": [3704, 5431, 5257, 5465, 4818, 5120, 5323, 5657, 5178, 5405, 4425, 5238, 5325, 5379, 5565, 6370, 5408, 4802, 5325, 5598, 5594, 5929, 6270, 5314, 4680, 3347, 765, 4773, 5554, 5862, 5458]}, {\"boxpoints\": false, \"line\": {\"width\": 1.3}, \"marker\": {\"color\": \"rgba(255, 255, 51, 0.5999999999999999)\"}, \"name\": \"10128\", \"orientation\": \"v\", \"type\": \"box\", \"y\": [9250, 9096, 10478, 8396, 11493, 11676, 13498, 13350, 13121, 14628, 11175, 11856, 12933, 12648, 13154, 13814, 12580, 10359, 9664, 12246, 12363, 13259, 14009, 12956, 10845, 8238, 4355, 11706, 12655, 14584, 14674]}, {\"boxpoints\": false, \"line\": {\"width\": 1.3}, \"marker\": {\"color\": \"rgba(128, 128, 0, 0.5999999999999999)\"}, \"name\": \"10152\", \"orientation\": \"v\", \"type\": \"box\", \"y\": [115, 183, 178, 139, 440, 490, 572, 535, 403, 230, 194, 513, 611, 635, 549, 383, 234, 169, 232, 577, 617, 631, 429, 196, 191, 160, 170, 535, 537, 426, 232]}, {\"boxpoints\": false, \"line\": {\"width\": 1.3}, \"marker\": {\"color\": \"rgba(251, 128, 114, 0.5999999999999999)\"}, \"name\": \"10153\", \"orientation\": \"v\", \"type\": \"box\", \"y\": [469, 538, 702, 407, 620, 636, 717, 692, 593, 565, 443, 663, 656, 696, 682, 653, 583, 513, 445, 597, 636, 676, 594, 565, 461, 222, 308, 600, 557, 581, 641]}, {\"boxpoints\": false, \"line\": {\"width\": 1.3}, \"marker\": {\"color\": \"rgba(128, 177, 211, 0.5999999999999999)\"}, \"name\": \"10154\", \"orientation\": \"v\", \"type\": \"box\", \"y\": [155, 218, 207, 171, 381, 416, 466, 477, 408, 274, 220, 528, 551, 577, 531, 413, 303, 193, 229, 522, 525, 583, 434, 232, 193, 161, 162, 478, 515, 386, 259]}, {\"boxpoints\": false, \"line\": {\"width\": 1.3}, \"marker\": {\"color\": \"rgba(255, 153, 51, 0.5999999999999999)\"}, \"name\": \"10165\", \"orientation\": \"v\", \"type\": \"box\", \"y\": [572, 668, 745, 592, 776, 860, 979, 1062, 935, 863, 628, 1025, 1074, 1080, 1027, 927, 850, 770, 859, 1046, 1158, 1079, 999, 849, 707, 575, 189, 917, 1054, 915, 941]}, {\"boxpoints\": false, \"line\": {\"width\": 1.3}, \"marker\": {\"color\": \"rgba(55, 128, 191, 0.5999999999999999)\"}, \"name\": \"10167\", \"orientation\": \"v\", \"type\": \"box\", \"y\": [157, 135, 107, 97, 306, 324, 343, 399, 292, 143, 155, 384, 382, 419, 401, 345, 154, 106, 174, 401, 447, 409, 358, 147, 115, 173, 110, 377, 385, 314, 127]}, {\"boxpoints\": false, \"line\": {\"width\": 1.3}, \"marker\": {\"color\": \"rgba(50, 171, 96, 0.5999999999999999)\"}, \"name\": \"10168\", \"orientation\": \"v\", \"type\": \"box\", \"y\": [547, 461, 658, 447, 404, 454, 450, 561, 592, 612, 489, 534, 569, 579, 533, 506, 564, 545, 389, 479, 567, 582, 507, 501, 440, 300, 105, 442, 539, 561, 504]}, {\"boxpoints\": false, \"line\": {\"width\": 1.3}, \"marker\": {\"color\": \"rgba(128, 0, 128, 0.5999999999999999)\"}, \"name\": \"10170\", \"orientation\": \"v\", \"type\": \"box\", \"y\": [743, 711, 910, 692, 755, 911, 914, 1084, 1005, 990, 891, 999, 1064, 1142, 1074, 1011, 830, 785, 716, 927, 1071, 1101, 1063, 788, 707, 528, 224, 831, 1002, 981, 857]}, {\"boxpoints\": false, \"line\": {\"width\": 1.3}, \"marker\": {\"color\": \"rgba(219, 64, 82, 0.5999999999999999)\"}, \"name\": \"10171\", \"orientation\": \"v\", \"type\": \"box\", \"y\": [318, 356, 324, 219, 369, 387, 449, 459, 470, 380, 339, 495, 503, 563, 490, 440, 389, 356, 219, 463, 545, 454, 453, 313, 236, 218, 153, 392, 456, 401, 339]}, {\"boxpoints\": false, \"line\": {\"width\": 1.3}, \"marker\": {\"color\": \"rgba(0, 128, 128, 0.5999999999999999)\"}, \"name\": \"10172\", \"orientation\": \"v\", \"type\": \"box\", \"y\": [286, 292, 190, 180, 418, 509, 488, 517, 499, 279, 225, 530, 547, 638, 573, 411, 314, 207, 214, 570, 628, 567, 492, 300, 241, 257, 173, 532, 555, 458, 238]}, {\"boxpoints\": false, \"line\": {\"width\": 1.3}, \"marker\": {\"color\": \"rgba(0, 128, 128, 0.49999999999999983)\"}, \"name\": \"10173\", \"orientation\": \"v\", \"type\": \"box\", \"y\": [183, 232, 180, 144, 273, 332, 346, 377, 309, 206, 149, 326, 341, 342, 360, 297, 195, 136, 228, 330, 364, 358, 335, 173, 167, 171, 96, 270, 277, 270, 199]}, {\"boxpoints\": false, \"line\": {\"width\": 1.3}, \"marker\": {\"color\": \"rgba(255, 255, 51, 0.49999999999999983)\"}, \"name\": \"10174\", \"orientation\": \"v\", \"type\": \"box\", \"y\": [377, 437, 451, 387, 513, 597, 689, 683, 684, 541, 459, 620, 724, 740, 699, 669, 498, 407, 472, 713, 726, 717, 690, 471, 435, 329, 181, 547, 680, 698, 504]}, {\"boxpoints\": false, \"line\": {\"width\": 1.3}, \"marker\": {\"color\": \"rgba(128, 128, 0, 0.49999999999999983)\"}, \"name\": \"10199\", \"orientation\": \"v\", \"type\": \"box\", \"y\": [527, 812, 762, 766, 728, 705, 790, 838, 900, 770, 771, 823, 749, 805, 864, 922, 804, 792, 854, 864, 895, 863, 894, 805, 768, 510, 154, 787, 884, 814, 767]}, {\"boxpoints\": false, \"line\": {\"width\": 1.3}, \"marker\": {\"color\": \"rgba(251, 128, 114, 0.49999999999999983)\"}, \"name\": \"10280\", \"orientation\": \"v\", \"type\": \"box\", \"y\": [1511, 1560, 1313, 1014, 1565, 1570, 1859, 2005, 1858, 1721, 1335, 1667, 1919, 1995, 2091, 2028, 1746, 1265, 1155, 1741, 1937, 2056, 2005, 1574, 1393, 1023, 464, 1767, 1952, 2134, 1803]}, {\"boxpoints\": false, \"line\": {\"width\": 1.3}, \"marker\": {\"color\": \"rgba(128, 177, 211, 0.49999999999999983)\"}, \"name\": \"10282\", \"orientation\": \"v\", \"type\": \"box\", \"y\": [928, 1185, 1080, 844, 1558, 1719, 1858, 2115, 1945, 1441, 1140, 1988, 2177, 2072, 2095, 2066, 1479, 1209, 1259, 1950, 2074, 1957, 1904, 1271, 1195, 1156, 570, 1882, 2052, 2035, 1367]}, {\"boxpoints\": false, \"line\": {\"width\": 1.3}, \"marker\": {\"color\": \"rgba(255, 153, 51, 0.49999999999999983)\"}, \"name\": \"11101\", \"orientation\": \"v\", \"type\": \"box\", \"y\": [1736, 874, 1764, 1537, 1237, 1208, 1217, 1297, 1629, 1968, 1501, 1178, 1221, 1429, 1601, 1709, 1948, 1755, 1194, 1278, 1144, 1243, 1322, 1821, 1554, 811, 411, 1111, 1333, 1382, 2052]}, {\"boxpoints\": false, \"line\": {\"width\": 1.3}, \"marker\": {\"color\": \"rgba(55, 128, 191, 0.49999999999999983)\"}, \"name\": \"11102\", \"orientation\": \"v\", \"type\": \"box\", \"y\": [1065, 402, 550, 589, 375, 352, 398, 402, 555, 612, 688, 320, 327, 375, 408, 444, 550, 679, 356, 365, 310, 361, 464, 618, 552, 381, 199, 343, 363, 467, 618]}, {\"boxpoints\": false, \"line\": {\"width\": 1.3}, \"marker\": {\"color\": \"rgba(50, 171, 96, 0.49999999999999983)\"}, \"name\": \"11103\", \"orientation\": \"v\", \"type\": \"box\", \"y\": [1099, 251, 481, 478, 246, 239, 221, 251, 371, 586, 549, 238, 245, 271, 242, 316, 504, 560, 286, 205, 223, 237, 254, 480, 431, 234, 152, 249, 230, 284, 494]}, {\"boxpoints\": false, \"line\": {\"width\": 1.3}, \"marker\": {\"color\": \"rgba(128, 0, 128, 0.49999999999999983)\"}, \"name\": \"11104\", \"orientation\": \"v\", \"type\": \"box\", \"y\": [729, 392, 428, 462, 466, 395, 470, 485, 438, 618, 443, 403, 388, 366, 413, 509, 678, 653, 425, 415, 386, 442, 510, 703, 583, 360, 211, 375, 414, 481, 657]}, {\"boxpoints\": false, \"line\": {\"width\": 1.3}, \"marker\": {\"color\": \"rgba(219, 64, 82, 0.49999999999999983)\"}, \"name\": \"11106\", \"orientation\": \"v\", \"type\": \"box\", \"y\": [1288, 497, 755, 734, 478, 475, 525, 562, 724, 858, 888, 497, 480, 539, 523, 617, 789, 832, 496, 436, 455, 461, 595, 728, 728, 440, 238, 452, 479, 628, 799]}, {\"boxpoints\": false, \"line\": {\"width\": 1.3}, \"marker\": {\"color\": \"rgba(219, 64, 82, 0.39999999999999974)\"}, \"name\": \"11201\", \"orientation\": \"v\", \"type\": \"box\", \"y\": [2351, 1180, 1433, 1273, 1318, 1381, 1631, 1746, 1785, 2055, 1710, 1374, 1578, 1601, 1763, 2009, 1837, 1887, 1202, 1446, 1579, 1552, 1831, 1660, 1612, 1036, 512, 1504, 1839, 2465, 2422]}, {\"boxpoints\": false, \"line\": {\"width\": 1.3}, \"marker\": {\"color\": \"rgba(0, 128, 128, 0.39999999999999974)\"}, \"name\": \"11205\", \"orientation\": \"v\", \"type\": \"box\", \"y\": [716, 162, 272, 260, 171, 172, 219, 201, 280, 384, 322, 178, 207, 216, 207, 293, 425, 434, 221, 189, 227, 212, 234, 371, 342, 133, 100, 169, 267, 354, 499]}, {\"boxpoints\": false, \"line\": {\"width\": 1.3}, \"marker\": {\"color\": \"rgba(255, 255, 51, 0.39999999999999974)\"}, \"name\": \"11206\", \"orientation\": \"v\", \"type\": \"box\", \"y\": [1302, 165, 314, 338, 164, 162, 193, 175, 250, 464, 448, 145, 169, 174, 210, 308, 554, 568, 190, 154, 160, 176, 284, 485, 573, 120, 77, 152, 216, 301, 637]}, {\"boxpoints\": false, \"line\": {\"width\": 1.3}, \"marker\": {\"color\": \"rgba(128, 128, 0, 0.39999999999999974)\"}, \"name\": \"11211\", \"orientation\": \"v\", \"type\": \"box\", \"y\": [5150, 1218, 2310, 1931, 1064, 1086, 1301, 1402, 1767, 3261, 3234, 1104, 1362, 1407, 1438, 1942, 3662, 3918, 1689, 1131, 1232, 1344, 1599, 3295, 3231, 744, 516, 1055, 1463, 2086, 3965]}, {\"boxpoints\": false, \"line\": {\"width\": 1.3}, \"marker\": {\"color\": \"rgba(251, 128, 114, 0.39999999999999974)\"}, \"name\": \"11215\", \"orientation\": \"v\", \"type\": \"box\", \"y\": [1120, 238, 369, 366, 253, 291, 349, 373, 391, 626, 500, 284, 310, 314, 316, 444, 575, 732, 269, 294, 285, 329, 316, 500, 540, 191, 136, 298, 317, 442, 652]}, {\"boxpoints\": false, \"line\": {\"width\": 1.3}, \"marker\": {\"color\": \"rgba(128, 177, 211, 0.39999999999999974)\"}, \"name\": \"11217\", \"orientation\": \"v\", \"type\": \"box\", \"y\": [1458, 522, 827, 673, 630, 485, 798, 597, 753, 1037, 823, 647, 605, 752, 607, 750, 1051, 1096, 502, 611, 548, 581, 644, 930, 835, 305, 201, 527, 607, 1068, 1308]}, {\"boxpoints\": false, \"line\": {\"width\": 1.3}, \"marker\": {\"color\": \"rgba(255, 153, 51, 0.39999999999999974)\"}, \"name\": \"11222\", \"orientation\": \"v\", \"type\": \"box\", \"y\": [1479, 219, 440, 353, 210, 232, 249, 252, 406, 686, 685, 218, 291, 294, 277, 447, 757, 869, 327, 296, 241, 259, 349, 695, 694, 162, 127, 253, 319, 494, 790]}, {\"boxpoints\": false, \"line\": {\"width\": 1.3}, \"marker\": {\"color\": \"rgba(55, 128, 191, 0.39999999999999974)\"}, \"name\": \"11231\", \"orientation\": \"v\", \"type\": \"box\", \"y\": [656, 278, 528, 347, 359, 419, 514, 523, 547, 533, 482, 477, 422, 463, 485, 573, 527, 612, 372, 369, 389, 441, 487, 457, 486, 388, 129, 455, 585, 627, 675]}, {\"boxpoints\": false, \"line\": {\"width\": 1.3}, \"marker\": {\"color\": \"rgba(50, 171, 96, 0.39999999999999974)\"}, \"name\": \"11238\", \"orientation\": \"v\", \"type\": \"box\", \"y\": [1043, 204, 360, 336, 181, 156, 190, 221, 286, 475, 435, 161, 185, 227, 219, 297, 469, 571, 194, 172, 197, 207, 250, 445, 447, 93, 82, 185, 236, 368, 564]}, {\"boxpoints\": false, \"line\": {\"width\": 1.3}, \"marker\": {\"color\": \"rgba(128, 0, 128, 0.39999999999999974)\"}, \"name\": \"11371\", \"orientation\": \"v\", \"type\": \"box\", \"y\": [6401, 8316, 7381, 10917, 11369, 8592, 8083, 8953, 8484, 5811, 9280, 10344, 9204, 8268, 9652, 9218, 4648, 6652, 11609, 10035, 8533, 9787, 8208, 3914, 8402, 3339, 892, 9470, 9341, 8046, 4774]}, {\"boxpoints\": false, \"line\": {\"width\": 1.3}, \"marker\": {\"color\": \"rgba(128, 0, 128, 0.2999999999999999)\"}, \"name\": \"11377\", \"orientation\": \"v\", \"type\": \"box\", \"y\": [828, 374, 403, 396, 450, 382, 402, 419, 476, 422, 432, 409, 392, 403, 407, 515, 497, 609, 334, 386, 350, 369, 406, 531, 463, 426, 197, 360, 360, 492, 526]}, {\"boxpoints\": false, \"line\": {\"width\": 1.3}, \"marker\": {\"color\": \"rgba(219, 64, 82, 0.2999999999999999)\"}, \"name\": \"11430\", \"orientation\": \"v\", \"type\": \"box\", \"y\": [7400, 8225, 8507, 10287, 11463, 8751, 7828, 7483, 7935, 8010, 8809, 8859, 6903, 6531, 7280, 7659, 6479, 7296, 9766, 8122, 6917, 6927, 7212, 6609, 7945, 4235, 1345, 7727, 7527, 7079, 6274]}],\n",
       "                        {\"legend\": {\"bgcolor\": \"#F5F6F9\", \"font\": {\"color\": \"#4D5663\"}}, \"paper_bgcolor\": \"#F5F6F9\", \"plot_bgcolor\": \"#F5F6F9\", \"template\": {\"data\": {\"bar\": [{\"error_x\": {\"color\": \"#2a3f5f\"}, \"error_y\": {\"color\": \"#2a3f5f\"}, \"marker\": {\"line\": {\"color\": \"#E5ECF6\", \"width\": 0.5}}, \"type\": \"bar\"}], \"barpolar\": [{\"marker\": {\"line\": {\"color\": \"#E5ECF6\", \"width\": 0.5}}, \"type\": \"barpolar\"}], \"carpet\": [{\"aaxis\": {\"endlinecolor\": \"#2a3f5f\", \"gridcolor\": \"white\", \"linecolor\": \"white\", \"minorgridcolor\": \"white\", \"startlinecolor\": \"#2a3f5f\"}, \"baxis\": {\"endlinecolor\": \"#2a3f5f\", \"gridcolor\": \"white\", \"linecolor\": \"white\", \"minorgridcolor\": \"white\", \"startlinecolor\": \"#2a3f5f\"}, \"type\": \"carpet\"}], \"choropleth\": [{\"colorbar\": {\"outlinewidth\": 0, \"ticks\": \"\"}, \"type\": \"choropleth\"}], \"contour\": [{\"colorbar\": {\"outlinewidth\": 0, \"ticks\": \"\"}, \"colorscale\": [[0.0, \"#0d0887\"], [0.1111111111111111, \"#46039f\"], [0.2222222222222222, \"#7201a8\"], [0.3333333333333333, \"#9c179e\"], [0.4444444444444444, \"#bd3786\"], [0.5555555555555556, \"#d8576b\"], [0.6666666666666666, \"#ed7953\"], [0.7777777777777778, \"#fb9f3a\"], [0.8888888888888888, \"#fdca26\"], [1.0, \"#f0f921\"]], \"type\": \"contour\"}], \"contourcarpet\": [{\"colorbar\": {\"outlinewidth\": 0, \"ticks\": \"\"}, \"type\": \"contourcarpet\"}], \"heatmap\": [{\"colorbar\": {\"outlinewidth\": 0, \"ticks\": \"\"}, \"colorscale\": [[0.0, \"#0d0887\"], [0.1111111111111111, \"#46039f\"], [0.2222222222222222, \"#7201a8\"], [0.3333333333333333, \"#9c179e\"], [0.4444444444444444, \"#bd3786\"], [0.5555555555555556, \"#d8576b\"], [0.6666666666666666, \"#ed7953\"], [0.7777777777777778, \"#fb9f3a\"], [0.8888888888888888, \"#fdca26\"], [1.0, \"#f0f921\"]], \"type\": \"heatmap\"}], \"heatmapgl\": [{\"colorbar\": {\"outlinewidth\": 0, \"ticks\": \"\"}, \"colorscale\": [[0.0, \"#0d0887\"], [0.1111111111111111, \"#46039f\"], [0.2222222222222222, \"#7201a8\"], [0.3333333333333333, \"#9c179e\"], [0.4444444444444444, \"#bd3786\"], [0.5555555555555556, \"#d8576b\"], [0.6666666666666666, \"#ed7953\"], [0.7777777777777778, \"#fb9f3a\"], [0.8888888888888888, \"#fdca26\"], [1.0, \"#f0f921\"]], \"type\": \"heatmapgl\"}], \"histogram\": [{\"marker\": {\"colorbar\": {\"outlinewidth\": 0, \"ticks\": \"\"}}, \"type\": \"histogram\"}], \"histogram2d\": [{\"colorbar\": {\"outlinewidth\": 0, \"ticks\": \"\"}, \"colorscale\": [[0.0, \"#0d0887\"], [0.1111111111111111, \"#46039f\"], [0.2222222222222222, \"#7201a8\"], [0.3333333333333333, \"#9c179e\"], [0.4444444444444444, \"#bd3786\"], [0.5555555555555556, \"#d8576b\"], [0.6666666666666666, \"#ed7953\"], [0.7777777777777778, \"#fb9f3a\"], [0.8888888888888888, \"#fdca26\"], [1.0, \"#f0f921\"]], \"type\": \"histogram2d\"}], \"histogram2dcontour\": [{\"colorbar\": {\"outlinewidth\": 0, \"ticks\": \"\"}, \"colorscale\": [[0.0, \"#0d0887\"], [0.1111111111111111, \"#46039f\"], [0.2222222222222222, \"#7201a8\"], [0.3333333333333333, \"#9c179e\"], [0.4444444444444444, \"#bd3786\"], [0.5555555555555556, \"#d8576b\"], [0.6666666666666666, \"#ed7953\"], [0.7777777777777778, \"#fb9f3a\"], [0.8888888888888888, \"#fdca26\"], [1.0, \"#f0f921\"]], \"type\": \"histogram2dcontour\"}], \"mesh3d\": [{\"colorbar\": {\"outlinewidth\": 0, \"ticks\": \"\"}, \"type\": \"mesh3d\"}], \"parcoords\": [{\"line\": {\"colorbar\": {\"outlinewidth\": 0, \"ticks\": \"\"}}, \"type\": \"parcoords\"}], \"pie\": [{\"automargin\": true, \"type\": \"pie\"}], \"scatter\": [{\"marker\": {\"colorbar\": {\"outlinewidth\": 0, \"ticks\": \"\"}}, \"type\": \"scatter\"}], \"scatter3d\": [{\"line\": {\"colorbar\": {\"outlinewidth\": 0, \"ticks\": \"\"}}, \"marker\": {\"colorbar\": {\"outlinewidth\": 0, \"ticks\": \"\"}}, \"type\": \"scatter3d\"}], \"scattercarpet\": [{\"marker\": {\"colorbar\": {\"outlinewidth\": 0, \"ticks\": \"\"}}, \"type\": \"scattercarpet\"}], \"scattergeo\": [{\"marker\": {\"colorbar\": {\"outlinewidth\": 0, \"ticks\": \"\"}}, \"type\": \"scattergeo\"}], \"scattergl\": [{\"marker\": {\"colorbar\": {\"outlinewidth\": 0, \"ticks\": \"\"}}, \"type\": \"scattergl\"}], \"scattermapbox\": [{\"marker\": {\"colorbar\": {\"outlinewidth\": 0, \"ticks\": \"\"}}, \"type\": \"scattermapbox\"}], \"scatterpolar\": [{\"marker\": {\"colorbar\": {\"outlinewidth\": 0, \"ticks\": \"\"}}, \"type\": \"scatterpolar\"}], \"scatterpolargl\": [{\"marker\": {\"colorbar\": {\"outlinewidth\": 0, \"ticks\": \"\"}}, \"type\": \"scatterpolargl\"}], \"scatterternary\": [{\"marker\": {\"colorbar\": {\"outlinewidth\": 0, \"ticks\": \"\"}}, \"type\": \"scatterternary\"}], \"surface\": [{\"colorbar\": {\"outlinewidth\": 0, \"ticks\": \"\"}, \"colorscale\": [[0.0, \"#0d0887\"], [0.1111111111111111, \"#46039f\"], [0.2222222222222222, \"#7201a8\"], [0.3333333333333333, \"#9c179e\"], [0.4444444444444444, \"#bd3786\"], [0.5555555555555556, \"#d8576b\"], [0.6666666666666666, \"#ed7953\"], [0.7777777777777778, \"#fb9f3a\"], [0.8888888888888888, \"#fdca26\"], [1.0, \"#f0f921\"]], \"type\": \"surface\"}], \"table\": [{\"cells\": {\"fill\": {\"color\": \"#EBF0F8\"}, \"line\": {\"color\": \"white\"}}, \"header\": {\"fill\": {\"color\": \"#C8D4E3\"}, \"line\": {\"color\": \"white\"}}, \"type\": \"table\"}]}, \"layout\": {\"annotationdefaults\": {\"arrowcolor\": \"#2a3f5f\", \"arrowhead\": 0, \"arrowwidth\": 1}, \"coloraxis\": {\"colorbar\": {\"outlinewidth\": 0, \"ticks\": \"\"}}, \"colorscale\": {\"diverging\": [[0, \"#8e0152\"], [0.1, \"#c51b7d\"], [0.2, \"#de77ae\"], [0.3, \"#f1b6da\"], [0.4, \"#fde0ef\"], [0.5, \"#f7f7f7\"], [0.6, \"#e6f5d0\"], [0.7, \"#b8e186\"], [0.8, \"#7fbc41\"], [0.9, \"#4d9221\"], [1, \"#276419\"]], \"sequential\": [[0.0, \"#0d0887\"], [0.1111111111111111, \"#46039f\"], [0.2222222222222222, \"#7201a8\"], [0.3333333333333333, \"#9c179e\"], [0.4444444444444444, \"#bd3786\"], [0.5555555555555556, \"#d8576b\"], [0.6666666666666666, \"#ed7953\"], [0.7777777777777778, \"#fb9f3a\"], [0.8888888888888888, \"#fdca26\"], [1.0, \"#f0f921\"]], \"sequentialminus\": [[0.0, \"#0d0887\"], [0.1111111111111111, \"#46039f\"], [0.2222222222222222, \"#7201a8\"], [0.3333333333333333, \"#9c179e\"], [0.4444444444444444, \"#bd3786\"], [0.5555555555555556, \"#d8576b\"], [0.6666666666666666, \"#ed7953\"], [0.7777777777777778, \"#fb9f3a\"], [0.8888888888888888, \"#fdca26\"], [1.0, \"#f0f921\"]]}, \"colorway\": [\"#636efa\", \"#EF553B\", \"#00cc96\", \"#ab63fa\", \"#FFA15A\", \"#19d3f3\", \"#FF6692\", \"#B6E880\", \"#FF97FF\", \"#FECB52\"], \"font\": {\"color\": \"#2a3f5f\"}, \"geo\": {\"bgcolor\": \"white\", \"lakecolor\": \"white\", \"landcolor\": \"#E5ECF6\", \"showlakes\": true, \"showland\": true, \"subunitcolor\": \"white\"}, \"hoverlabel\": {\"align\": \"left\"}, \"hovermode\": \"closest\", \"mapbox\": {\"style\": \"light\"}, \"paper_bgcolor\": \"white\", \"plot_bgcolor\": \"#E5ECF6\", \"polar\": {\"angularaxis\": {\"gridcolor\": \"white\", \"linecolor\": \"white\", \"ticks\": \"\"}, \"bgcolor\": \"#E5ECF6\", \"radialaxis\": {\"gridcolor\": \"white\", \"linecolor\": \"white\", \"ticks\": \"\"}}, \"scene\": {\"xaxis\": {\"backgroundcolor\": \"#E5ECF6\", \"gridcolor\": \"white\", \"gridwidth\": 2, \"linecolor\": \"white\", \"showbackground\": true, \"ticks\": \"\", \"zerolinecolor\": \"white\"}, \"yaxis\": {\"backgroundcolor\": \"#E5ECF6\", \"gridcolor\": \"white\", \"gridwidth\": 2, \"linecolor\": \"white\", \"showbackground\": true, \"ticks\": \"\", \"zerolinecolor\": \"white\"}, \"zaxis\": {\"backgroundcolor\": \"#E5ECF6\", \"gridcolor\": \"white\", \"gridwidth\": 2, \"linecolor\": \"white\", \"showbackground\": true, \"ticks\": \"\", \"zerolinecolor\": \"white\"}}, \"shapedefaults\": {\"line\": {\"color\": \"#2a3f5f\"}}, \"ternary\": {\"aaxis\": {\"gridcolor\": \"white\", \"linecolor\": \"white\", \"ticks\": \"\"}, \"baxis\": {\"gridcolor\": \"white\", \"linecolor\": \"white\", \"ticks\": \"\"}, \"bgcolor\": \"#E5ECF6\", \"caxis\": {\"gridcolor\": \"white\", \"linecolor\": \"white\", \"ticks\": \"\"}}, \"title\": {\"x\": 0.05}, \"xaxis\": {\"automargin\": true, \"gridcolor\": \"white\", \"linecolor\": \"white\", \"ticks\": \"\", \"title\": {\"standoff\": 15}, \"zerolinecolor\": \"white\", \"zerolinewidth\": 2}, \"yaxis\": {\"automargin\": true, \"gridcolor\": \"white\", \"linecolor\": \"white\", \"ticks\": \"\", \"title\": {\"standoff\": 15}, \"zerolinecolor\": \"white\", \"zerolinewidth\": 2}}}, \"title\": {\"font\": {\"color\": \"#4D5663\"}}, \"xaxis\": {\"gridcolor\": \"#E1E5ED\", \"showgrid\": true, \"tickfont\": {\"color\": \"#4D5663\"}, \"title\": {\"font\": {\"color\": \"#4D5663\"}, \"text\": \"\"}, \"zerolinecolor\": \"#E1E5ED\"}, \"yaxis\": {\"gridcolor\": \"#E1E5ED\", \"showgrid\": true, \"tickfont\": {\"color\": \"#4D5663\"}, \"title\": {\"font\": {\"color\": \"#4D5663\"}, \"text\": \"\"}, \"zerolinecolor\": \"#E1E5ED\"}},\n",
       "                        {\"showLink\": true, \"linkText\": \"Export to plot.ly\", \"plotlyServerURL\": \"https://plot.ly\", \"responsive\": true}\n",
       "                    ).then(function(){\n",
       "                            \n",
       "var gd = document.getElementById('ad555e8b-c20e-46b5-8d15-d3c2758f363b');\n",
       "var x = new MutationObserver(function (mutations, observer) {{\n",
       "        var display = window.getComputedStyle(gd).display;\n",
       "        if (!display || display === 'none') {{\n",
       "            console.log([gd, 'removed!']);\n",
       "            Plotly.purge(gd);\n",
       "            observer.disconnect();\n",
       "        }}\n",
       "}});\n",
       "\n",
       "// Listen for the removal of the full notebook cells\n",
       "var notebookContainer = gd.closest('#notebook-container');\n",
       "if (notebookContainer) {{\n",
       "    x.observe(notebookContainer, {childList: true});\n",
       "}}\n",
       "\n",
       "// Listen for the clearing of the current output cell\n",
       "var outputEl = gd.closest('.output');\n",
       "if (outputEl) {{\n",
       "    x.observe(outputEl, {childList: true});\n",
       "}}\n",
       "\n",
       "                        })\n",
       "                };\n",
       "                });\n",
       "            </script>\n",
       "        </div>"
      ]
     },
     "metadata": {},
     "output_type": "display_data"
    }
   ],
   "source": [
    "filter_zip_daily_df.pivot_table(values='cnt', index='date', columns='zip_code', aggfunc=np.mean).iplot(kind='box', x='zip_code')"
   ]
  },
  {
   "cell_type": "code",
   "execution_count": 31,
   "metadata": {},
   "outputs": [
    {
     "data": {
      "text/plain": [
       "<matplotlib.axes._subplots.AxesSubplot at 0x1b357d68>"
      ]
     },
     "execution_count": 31,
     "metadata": {},
     "output_type": "execute_result"
    },
    {
     "data": {
      "image/png": "[encoded data removed]",
      "text/plain": [
       "<Figure size 1152x432 with 1 Axes>"
      ]
     },
     "metadata": {
      "image/png": {
       "height": 373,
       "width": 971
      },
      "needs_background": "light"
     },
     "output_type": "display_data"
    }
   ],
   "source": [
    "plt.figure(figsize=(16, 6));\n",
    "sns.boxplot(x='zip_code', y='cnt', data=filter_zip_daily_df)"
   ]
  },
  {
   "cell_type": "code",
   "execution_count": 32,
   "metadata": {},
   "outputs": [
    {
     "data": {
      "text/plain": [
       "<matplotlib.axes._subplots.AxesSubplot at 0x1b2b46d8>"
      ]
     },
     "execution_count": 32,
     "metadata": {},
     "output_type": "execute_result"
    },
    {
     "data": {
      "image/png": "[encoded data removed]",
      "text/plain": [
       "<Figure size 1080x576 with 2 Axes>"
      ]
     },
     "metadata": {
      "image/png": {
       "height": 504,
       "width": 867
      },
      "needs_background": "light"
     },
     "output_type": "display_data"
    }
   ],
   "source": [
    "plt.figure(figsize=(15,8))\n",
    "sns.heatmap(filter_zip_daily_df.pivot_table('cnt', index='date', columns='zip_code'),lw=.5, cmap='GnBu')"
   ]
  },
  {
   "cell_type": "markdown",
   "metadata": {},
   "source": [
    "- 상대적으로 cnt 값이 높은 zip code \n",
    "    - 10001, 10003, 10011, 10015, 10019, 10022, 10036\n",
    "- 위에 명시한 zip code 중, 10036을 제외한 나머지 지역은 시간의 흐름에 따라 cnt 패턴이 유사함\n",
    "- 1.26 ~ 1.27은 눈사태로 인해 cnt 값이 현저히 떨어짐을 확인할 수 있음"
   ]
  },
  {
   "cell_type": "markdown",
   "metadata": {},
   "source": [
    "### 시간 단위 zip_code별 Heatmap"
   ]
  },
  {
   "cell_type": "code",
   "execution_count": 33,
   "metadata": {},
   "outputs": [
    {
     "data": {
      "text/html": [
       "<div>\n",
       "<style scoped>\n",
       "    .dataframe tbody tr th:only-of-type {\n",
       "        vertical-align: middle;\n",
       "    }\n",
       "\n",
       "    .dataframe tbody tr th {\n",
       "        vertical-align: top;\n",
       "    }\n",
       "\n",
       "    .dataframe thead th {\n",
       "        text-align: right;\n",
       "    }\n",
       "</style>\n",
       "<table border=\"1\" class=\"dataframe\">\n",
       "  <thead>\n",
       "    <tr style=\"text-align: right;\">\n",
       "      <th></th>\n",
       "      <th>zip_code</th>\n",
       "      <th>zip_code_geom</th>\n",
       "      <th>pickup_hour</th>\n",
       "      <th>cnt</th>\n",
       "      <th>date</th>\n",
       "      <th>hour</th>\n",
       "    </tr>\n",
       "  </thead>\n",
       "  <tbody>\n",
       "    <tr>\n",
       "      <th>0</th>\n",
       "      <td>10152</td>\n",
       "      <td>POLYGON((-73.972613 40.759059, -73.973068 40.7...</td>\n",
       "      <td>2015-01-01</td>\n",
       "      <td>15</td>\n",
       "      <td>2015-01-01</td>\n",
       "      <td>0</td>\n",
       "    </tr>\n",
       "    <tr>\n",
       "      <th>2</th>\n",
       "      <td>10280</td>\n",
       "      <td>POLYGON((-74.019596 40.705638, -74.019603 40.7...</td>\n",
       "      <td>2015-01-01</td>\n",
       "      <td>54</td>\n",
       "      <td>2015-01-01</td>\n",
       "      <td>0</td>\n",
       "    </tr>\n",
       "    <tr>\n",
       "      <th>5</th>\n",
       "      <td>10199</td>\n",
       "      <td>MULTIPOLYGON(((-73.99725 40.752083, -73.99768 ...</td>\n",
       "      <td>2015-01-01</td>\n",
       "      <td>20</td>\n",
       "      <td>2015-01-01</td>\n",
       "      <td>0</td>\n",
       "    </tr>\n",
       "    <tr>\n",
       "      <th>6</th>\n",
       "      <td>11101</td>\n",
       "      <td>POLYGON((-73.96262 40.739033, -73.962609 40.73...</td>\n",
       "      <td>2015-01-01</td>\n",
       "      <td>96</td>\n",
       "      <td>2015-01-01</td>\n",
       "      <td>0</td>\n",
       "    </tr>\n",
       "    <tr>\n",
       "      <th>10</th>\n",
       "      <td>10001</td>\n",
       "      <td>POLYGON((-74.00828 40.750272, -74.008255 40.75...</td>\n",
       "      <td>2015-01-01</td>\n",
       "      <td>1221</td>\n",
       "      <td>2015-01-01</td>\n",
       "      <td>0</td>\n",
       "    </tr>\n",
       "    <tr>\n",
       "      <th>11</th>\n",
       "      <td>11103</td>\n",
       "      <td>MULTIPOLYGON(((-73.904137 40.76752, -73.904187...</td>\n",
       "      <td>2015-01-01</td>\n",
       "      <td>45</td>\n",
       "      <td>2015-01-01</td>\n",
       "      <td>0</td>\n",
       "    </tr>\n",
       "    <tr>\n",
       "      <th>12</th>\n",
       "      <td>10168</td>\n",
       "      <td>POLYGON((-73.977677 40.752119, -73.978159 40.7...</td>\n",
       "      <td>2015-01-01</td>\n",
       "      <td>32</td>\n",
       "      <td>2015-01-01</td>\n",
       "      <td>0</td>\n",
       "    </tr>\n",
       "    <tr>\n",
       "      <th>13</th>\n",
       "      <td>10023</td>\n",
       "      <td>POLYGON((-73.990149 40.772311, -73.989994 40.7...</td>\n",
       "      <td>2015-01-01</td>\n",
       "      <td>971</td>\n",
       "      <td>2015-01-01</td>\n",
       "      <td>0</td>\n",
       "    </tr>\n",
       "    <tr>\n",
       "      <th>17</th>\n",
       "      <td>10035</td>\n",
       "      <td>MULTIPOLYGON(((-73.946325 40.800852, -73.94646...</td>\n",
       "      <td>2015-01-01</td>\n",
       "      <td>92</td>\n",
       "      <td>2015-01-01</td>\n",
       "      <td>0</td>\n",
       "    </tr>\n",
       "    <tr>\n",
       "      <th>18</th>\n",
       "      <td>11211</td>\n",
       "      <td>MULTIPOLYGON(((-73.955603 40.724041, -73.95567...</td>\n",
       "      <td>2015-01-01</td>\n",
       "      <td>432</td>\n",
       "      <td>2015-01-01</td>\n",
       "      <td>0</td>\n",
       "    </tr>\n",
       "  </tbody>\n",
       "</table>\n",
       "</div>"
      ],
      "text/plain": [
       "   zip_code                                      zip_code_geom pickup_hour  \\\n",
       "0     10152  POLYGON((-73.972613 40.759059, -73.973068 40.7...  2015-01-01   \n",
       "2     10280  POLYGON((-74.019596 40.705638, -74.019603 40.7...  2015-01-01   \n",
       "5     10199  MULTIPOLYGON(((-73.99725 40.752083, -73.99768 ...  2015-01-01   \n",
       "6     11101  POLYGON((-73.96262 40.739033, -73.962609 40.73...  2015-01-01   \n",
       "10    10001  POLYGON((-74.00828 40.750272, -74.008255 40.75...  2015-01-01   \n",
       "11    11103  MULTIPOLYGON(((-73.904137 40.76752, -73.904187...  2015-01-01   \n",
       "12    10168  POLYGON((-73.977677 40.752119, -73.978159 40.7...  2015-01-01   \n",
       "13    10023  POLYGON((-73.990149 40.772311, -73.989994 40.7...  2015-01-01   \n",
       "17    10035  MULTIPOLYGON(((-73.946325 40.800852, -73.94646...  2015-01-01   \n",
       "18    11211  MULTIPOLYGON(((-73.955603 40.724041, -73.95567...  2015-01-01   \n",
       "\n",
       "     cnt        date  hour  \n",
       "0     15  2015-01-01     0  \n",
       "2     54  2015-01-01     0  \n",
       "5     20  2015-01-01     0  \n",
       "6     96  2015-01-01     0  \n",
       "10  1221  2015-01-01     0  \n",
       "11    45  2015-01-01     0  \n",
       "12    32  2015-01-01     0  \n",
       "13   971  2015-01-01     0  \n",
       "17    92  2015-01-01     0  \n",
       "18   432  2015-01-01     0  "
      ]
     },
     "execution_count": 33,
     "metadata": {},
     "output_type": "execute_result"
    }
   ],
   "source": [
    "filter_zip_df['hour'] = filter_zip_df['pickup_hour'].dt.hour\n",
    "filter_zip_df.head(10)"
   ]
  },
  {
   "cell_type": "code",
   "execution_count": 34,
   "metadata": {},
   "outputs": [
    {
     "data": {
      "text/plain": [
       "<matplotlib.axes._subplots.AxesSubplot at 0x24412128>"
      ]
     },
     "execution_count": 34,
     "metadata": {},
     "output_type": "execute_result"
    },
    {
     "data": {
      "image/png": "[encoded data removed]",
      "text/plain": [
       "<Figure size 1080x576 with 2 Axes>"
      ]
     },
     "metadata": {
      "image/png": {
       "height": 504,
       "width": 812
      },
      "needs_background": "light"
     },
     "output_type": "display_data"
    }
   ],
   "source": [
    "plt.figure(figsize=(15,8))\n",
    "sns.heatmap(filter_zip_df.pivot_table(values='cnt', index='hour', columns='zip_code', aggfunc=np.mean),lw=.5, cmap='GnBu')"
   ]
  },
  {
   "cell_type": "markdown",
   "metadata": {},
   "source": [
    "- 18 ~ 19시 사이에 cnt 값이 주로 높은 것을 확인할 수 있음\n",
    "- 10003, 10019 구역의 경우, 20 ~ 23시에도 cnt 값이 높은 편이며, 10019의 경우 전반적으로 cnt 값이 높음"
   ]
  },
  {
   "cell_type": "code",
   "execution_count": null,
   "metadata": {},
   "outputs": [],
   "source": []
  }
 ],
 "metadata": {
  "kernelspec": {
   "display_name": "Python 3",
   "language": "python",
   "name": "python3"
  },
  "language_info": {
   "codemirror_mode": {
    "name": "ipython",
    "version": 3
   },
   "file_extension": ".py",
   "mimetype": "text/x-python",
   "name": "python",
   "nbconvert_exporter": "python",
   "pygments_lexer": "ipython3",
   "version": "3.7.3"
  }
 },
 "nbformat": 4,
 "nbformat_minor": 4
}
