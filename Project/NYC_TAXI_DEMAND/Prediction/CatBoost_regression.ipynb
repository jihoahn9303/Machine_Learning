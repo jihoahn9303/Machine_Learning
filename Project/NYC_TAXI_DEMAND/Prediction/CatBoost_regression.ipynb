{
 "cells": [
  {
   "cell_type": "markdown",
   "metadata": {},
   "source": [
    "## Catboost Regerssor\n",
    "- 목적\n",
    "    - Catboost Python API 활용\n",
    "- 참고 자료\n",
    "    - [CatBoost vs. Light GBM vs. XGBoost\n",
    "](https://towardsdatascience.com/catboost-vs-light-gbm-vs-xgboost-5f93620723db)\n",
    "    - [CatBoost Official Homepage](https://catboost.ai/docs/concepts/about.html)"
   ]
  },
  {
   "cell_type": "code",
   "execution_count": 1,
   "metadata": {},
   "outputs": [
    {
     "name": "stderr",
     "output_type": "stream",
     "text": [
      "D:\\Anaconda3\\envs\\opensource\\lib\\importlib\\_bootstrap.py:219: RuntimeWarning: numpy.ufunc size changed, may indicate binary incompatibility. Expected 192 from C header, got 216 from PyObject\n",
      "  return f(*args, **kwds)\n",
      "D:\\Anaconda3\\envs\\opensource\\lib\\importlib\\_bootstrap.py:219: RuntimeWarning: numpy.ufunc size changed, may indicate binary incompatibility. Expected 192 from C header, got 216 from PyObject\n",
      "  return f(*args, **kwds)\n",
      "D:\\Anaconda3\\envs\\opensource\\lib\\importlib\\_bootstrap.py:219: RuntimeWarning: numpy.ufunc size changed, may indicate binary incompatibility. Expected 192 from C header, got 216 from PyObject\n",
      "  return f(*args, **kwds)\n",
      "D:\\Anaconda3\\envs\\opensource\\lib\\importlib\\_bootstrap.py:219: RuntimeWarning: numpy.ufunc size changed, may indicate binary incompatibility. Expected 192 from C header, got 216 from PyObject\n",
      "  return f(*args, **kwds)\n"
     ]
    }
   ],
   "source": [
    "import pandas as pd\n",
    "import numpy as np\n",
    "from sklearn.preprocessing import LabelEncoder\n",
    "import seaborn as sns\n",
    "import warnings\n",
    "import matplotlib.pyplot as plt\n",
    "from sklearn.metrics import mean_absolute_error\n",
    "from sklearn.metrics import mean_squared_error\n",
    "import os\n",
    "from sacred import Experiment\n",
    "from sacred.observers import FileStorageObserver\n",
    "from catboost import CatBoostRegressor\n",
    "import json\n",
    "\n",
    "plt.style.use('ggplot')\n",
    "warnings.filterwarnings('ignore')\n",
    "%config InlineBackend.figure_format = 'retina'\n",
    "\n",
    "PROJECT_ID='nyc-taxi-demand'"
   ]
  },
  {
   "cell_type": "code",
   "execution_count": 2,
   "metadata": {},
   "outputs": [],
   "source": [
    "ex = Experiment('nyc-taxi-demand-prediction', interactive=True)\n",
    "\n",
    "# experiment_dir가 없으면 폴더 생성하고 FileStorageObserver로 저장\n",
    "experiment_dir = os.path.join('./', 'experiments')\n",
    "if not os.path.isdir(experiment_dir): \n",
    "    os.makedirs(experiment_dir)\n",
    "ex.observers.append(FileStorageObserver.create(experiment_dir))"
   ]
  },
  {
   "cell_type": "markdown",
   "metadata": {},
   "source": [
    "### 전처리"
   ]
  },
  {
   "cell_type": "code",
   "execution_count": 3,
   "metadata": {},
   "outputs": [
    {
     "name": "stderr",
     "output_type": "stream",
     "text": [
      "Downloading: 100%|██████████████████| 87020/87020 [00:07<00:00, 12097.18rows/s]"
     ]
    },
    {
     "name": "stdout",
     "output_type": "stream",
     "text": [
      "Wall time: 18.8 s\n"
     ]
    },
    {
     "name": "stderr",
     "output_type": "stream",
     "text": [
      "\n"
     ]
    }
   ],
   "source": [
    "%%time\n",
    "query = \"\"\"\n",
    "WITH base_data AS \n",
    "(\n",
    "  SELECT nyc_taxi.*, gis.* EXCEPT (zip_code_geom)\n",
    "  FROM (\n",
    "    SELECT *\n",
    "    FROM `bigquery-public-data.new_york_taxi_trips.tlc_yellow_trips_2015`\n",
    "    WHERE \n",
    "        EXTRACT(MONTH from pickup_datetime) = 1\n",
    "        and pickup_latitude  <= 90 and pickup_latitude >= -90\n",
    "    ) AS nyc_taxi\n",
    "  JOIN (\n",
    "    SELECT zip_code, state_code, state_name, city, county, zip_code_geom\n",
    "    FROM `bigquery-public-data.geo_us_boundaries.zip_codes`\n",
    "    WHERE state_code='NY'\n",
    "    ) AS gis \n",
    "  ON ST_CONTAINS(zip_code_geom, st_geogpoint(pickup_longitude, pickup_latitude))\n",
    ")\n",
    "\n",
    "SELECT \n",
    "    zip_code,\n",
    "    DATETIME_TRUNC(pickup_datetime, hour) as pickup_hour,\n",
    "    EXTRACT(MONTH FROM pickup_datetime) AS month,\n",
    "    EXTRACT(DAY FROM pickup_datetime) AS day,\n",
    "    CAST(format_datetime('%u', pickup_datetime) AS INT64) -1 AS weekday,\n",
    "    EXTRACT(HOUR FROM pickup_datetime) AS hour,\n",
    "    CASE WHEN CAST(FORMAT_DATETIME('%u', pickup_datetime) AS INT64) IN (5, 6) THEN 1 ELSE 0 END AS is_weekend,\n",
    "    COUNT(*) AS cnt\n",
    "FROM base_data \n",
    "GROUP BY zip_code, pickup_hour, month, day, weekday, hour, is_weekend\n",
    "ORDER BY pickup_hour\n",
    "\"\"\"\n",
    "\n",
    "base_df = pd.read_gbq(query=query, dialect='standard', project_id=PROJECT_ID)"
   ]
  },
  {
   "cell_type": "markdown",
   "metadata": {},
   "source": [
    "### 데이터 전처리\n",
    "- One Hot Encoding이 아닌 Label Encoding"
   ]
  },
  {
   "cell_type": "code",
   "execution_count": 4,
   "metadata": {},
   "outputs": [],
   "source": [
    "le = LabelEncoder()\n",
    "base_df['zip_code_le'] = le.fit_transform(base_df['zip_code'])"
   ]
  },
  {
   "cell_type": "code",
   "execution_count": 5,
   "metadata": {},
   "outputs": [],
   "source": [
    "def split_train_and_test_period(df, period):\n",
    "    \"\"\"\n",
    "    Dataframe에서 train_df, test_df로 나눠주는 함수\n",
    "    \n",
    "    df : 시계열 데이터 프레임\n",
    "    period : 기간(정수 값, ex) 3 -> 3일)\n",
    "    \"\"\"\n",
    "    criteria = max(df['pickup_hour']) - pd.Timedelta(days=period)  # 기준 일 계산\n",
    "    train_df = df[df['pickup_hour'] <= criteria]\n",
    "    test_df = df[df['pickup_hour'] > criteria]\n",
    "    return train_df, test_df"
   ]
  },
  {
   "cell_type": "markdown",
   "metadata": {},
   "source": [
    "### Train / Test 나누기"
   ]
  },
  {
   "cell_type": "code",
   "execution_count": 6,
   "metadata": {},
   "outputs": [],
   "source": [
    "train_df, test_df = split_train_and_test_period(base_df, 7)"
   ]
  },
  {
   "cell_type": "code",
   "execution_count": 7,
   "metadata": {},
   "outputs": [
    {
     "data": {
      "text/html": [
       "<div>\n",
       "<style scoped>\n",
       "    .dataframe tbody tr th:only-of-type {\n",
       "        vertical-align: middle;\n",
       "    }\n",
       "\n",
       "    .dataframe tbody tr th {\n",
       "        vertical-align: top;\n",
       "    }\n",
       "\n",
       "    .dataframe thead th {\n",
       "        text-align: right;\n",
       "    }\n",
       "</style>\n",
       "<table border=\"1\" class=\"dataframe\">\n",
       "  <thead>\n",
       "    <tr style=\"text-align: right;\">\n",
       "      <th></th>\n",
       "      <th>zip_code</th>\n",
       "      <th>pickup_hour</th>\n",
       "      <th>month</th>\n",
       "      <th>day</th>\n",
       "      <th>weekday</th>\n",
       "      <th>hour</th>\n",
       "      <th>is_weekend</th>\n",
       "      <th>cnt</th>\n",
       "      <th>zip_code_le</th>\n",
       "    </tr>\n",
       "  </thead>\n",
       "  <tbody>\n",
       "    <tr>\n",
       "      <th>68046</th>\n",
       "      <td>10452</td>\n",
       "      <td>2015-01-24 23:00:00</td>\n",
       "      <td>1</td>\n",
       "      <td>24</td>\n",
       "      <td>5</td>\n",
       "      <td>23</td>\n",
       "      <td>1</td>\n",
       "      <td>1</td>\n",
       "      <td>81</td>\n",
       "    </tr>\n",
       "    <tr>\n",
       "      <th>68047</th>\n",
       "      <td>11378</td>\n",
       "      <td>2015-01-24 23:00:00</td>\n",
       "      <td>1</td>\n",
       "      <td>24</td>\n",
       "      <td>5</td>\n",
       "      <td>23</td>\n",
       "      <td>1</td>\n",
       "      <td>1</td>\n",
       "      <td>251</td>\n",
       "    </tr>\n",
       "    <tr>\n",
       "      <th>68048</th>\n",
       "      <td>10701</td>\n",
       "      <td>2015-01-24 23:00:00</td>\n",
       "      <td>1</td>\n",
       "      <td>24</td>\n",
       "      <td>5</td>\n",
       "      <td>23</td>\n",
       "      <td>1</td>\n",
       "      <td>1</td>\n",
       "      <td>142</td>\n",
       "    </tr>\n",
       "    <tr>\n",
       "      <th>68049</th>\n",
       "      <td>11373</td>\n",
       "      <td>2015-01-24 23:00:00</td>\n",
       "      <td>1</td>\n",
       "      <td>24</td>\n",
       "      <td>5</td>\n",
       "      <td>23</td>\n",
       "      <td>1</td>\n",
       "      <td>10</td>\n",
       "      <td>247</td>\n",
       "    </tr>\n",
       "    <tr>\n",
       "      <th>68050</th>\n",
       "      <td>11209</td>\n",
       "      <td>2015-01-24 23:00:00</td>\n",
       "      <td>1</td>\n",
       "      <td>24</td>\n",
       "      <td>5</td>\n",
       "      <td>23</td>\n",
       "      <td>1</td>\n",
       "      <td>5</td>\n",
       "      <td>198</td>\n",
       "    </tr>\n",
       "  </tbody>\n",
       "</table>\n",
       "</div>"
      ],
      "text/plain": [
       "      zip_code         pickup_hour  month  ...  is_weekend  cnt  zip_code_le\n",
       "68046    10452 2015-01-24 23:00:00      1  ...           1    1           81\n",
       "68047    11378 2015-01-24 23:00:00      1  ...           1    1          251\n",
       "68048    10701 2015-01-24 23:00:00      1  ...           1    1          142\n",
       "68049    11373 2015-01-24 23:00:00      1  ...           1   10          247\n",
       "68050    11209 2015-01-24 23:00:00      1  ...           1    5          198\n",
       "\n",
       "[5 rows x 9 columns]"
      ]
     },
     "execution_count": 7,
     "metadata": {},
     "output_type": "execute_result"
    }
   ],
   "source": [
    "train_df.tail()"
   ]
  },
  {
   "cell_type": "markdown",
   "metadata": {},
   "source": [
    "- 사용하지 않을 컬럼 삭제"
   ]
  },
  {
   "cell_type": "code",
   "execution_count": 8,
   "metadata": {},
   "outputs": [],
   "source": [
    "del train_df['zip_code']\n",
    "del train_df['pickup_hour']\n",
    "del test_df['zip_code']\n",
    "del test_df['pickup_hour']"
   ]
  },
  {
   "cell_type": "code",
   "execution_count": 9,
   "metadata": {},
   "outputs": [],
   "source": [
    "y_train_raw = train_df.pop('cnt')\n",
    "y_test_raw = test_df.pop('cnt')"
   ]
  },
  {
   "cell_type": "code",
   "execution_count": 10,
   "metadata": {},
   "outputs": [],
   "source": [
    "x_train = train_df.copy()\n",
    "x_test = test_df.copy()"
   ]
  },
  {
   "cell_type": "markdown",
   "metadata": {},
   "source": [
    "### 모델링"
   ]
  },
  {
   "cell_type": "code",
   "execution_count": 11,
   "metadata": {},
   "outputs": [],
   "source": [
    "def evaluation(y_true, y_pred): \n",
    "    y_true, y_pred = np.array(y_true), np.array(y_pred)\n",
    "    mape = np.mean(np.abs((y_true - y_pred) / y_true)) * 100\n",
    "    mae = mean_absolute_error(y_true, y_pred)\n",
    "    mse = mean_squared_error(y_true, y_pred)\n",
    "    score = pd.DataFrame([mape, mae, mse], index=['mape', 'mae', 'mse'], columns=['score']).T\n",
    "    return score"
   ]
  },
  {
   "cell_type": "code",
   "execution_count": 12,
   "metadata": {},
   "outputs": [],
   "source": [
    "@ex.config\n",
    "def config():\n",
    "    loss_function='RMSE'\n",
    "    num_leaves=31\n",
    "    learning_rate=0.1\n",
    "    n_estimators=100"
   ]
  },
  {
   "cell_type": "code",
   "execution_count": 13,
   "metadata": {},
   "outputs": [],
   "source": [
    "@ex.capture\n",
    "def get_model(loss_function, num_leaves, learning_rate, n_estimators):\n",
    "    return CatBoostRegressor(loss_function=loss_function, num_leaves=num_leaves, learning_rate=learning_rate, n_estimators=n_estimators)"
   ]
  },
  {
   "cell_type": "code",
   "execution_count": 14,
   "metadata": {},
   "outputs": [],
   "source": [
    "@ex.main\n",
    "def run(_log, _run):\n",
    "    global lgbm_reg, lgbm_pred\n",
    "    lgbm_reg = get_model()\n",
    "    lgbm_reg.fit(x_train, y_train_raw)    # catboost 회귀 모델 적합\n",
    "    lgbm_pred = lgbm_reg.predict(x_test)  # 모델 예측\n",
    "    score = evaluation(y_test_raw, lgbm_pred)  # 모델 성능 평가\n",
    "    \n",
    "    _run.log_scalar('model_name', lgbm_reg.__class__.__name__)    # 모델 이름 저장(metrics.json)\n",
    "    _run.log_scalar('metrics', score)  # 모델 성능 저장(metrics.json)\n",
    "    \n",
    "    return score.to_dict()"
   ]
  },
  {
   "cell_type": "code",
   "execution_count": 15,
   "metadata": {},
   "outputs": [
    {
     "name": "stderr",
     "output_type": "stream",
     "text": [
      "INFO - nyc-taxi-demand-prediction - Running command 'run'\n",
      "INFO - nyc-taxi-demand-prediction - Started run with ID \"5\"\n"
     ]
    },
    {
     "name": "stdout",
     "output_type": "stream",
     "text": [
      "0:\tlearn: 293.3142488\ttotal: 53.2ms\tremaining: 5.27s\n",
      "1:\tlearn: 278.9661294\ttotal: 60.2ms\tremaining: 2.95s\n",
      "2:\tlearn: 267.1703202\ttotal: 66.3ms\tremaining: 2.14s\n",
      "3:\tlearn: 256.6468135\ttotal: 73.3ms\tremaining: 1.76s\n",
      "4:\tlearn: 247.8884349\ttotal: 80.3ms\tremaining: 1.52s\n",
      "5:\tlearn: 240.4374425\ttotal: 86.6ms\tremaining: 1.36s\n",
      "6:\tlearn: 233.9150085\ttotal: 93.9ms\tremaining: 1.25s\n",
      "7:\tlearn: 227.1183976\ttotal: 100ms\tremaining: 1.15s\n",
      "8:\tlearn: 222.3446910\ttotal: 108ms\tremaining: 1.09s\n",
      "9:\tlearn: 218.2546829\ttotal: 114ms\tremaining: 1.03s\n",
      "10:\tlearn: 214.6622154\ttotal: 121ms\tremaining: 981ms\n",
      "11:\tlearn: 209.7407327\ttotal: 131ms\tremaining: 964ms\n",
      "12:\tlearn: 206.0308176\ttotal: 140ms\tremaining: 936ms\n",
      "13:\tlearn: 203.1139225\ttotal: 148ms\tremaining: 912ms\n",
      "14:\tlearn: 199.8415377\ttotal: 159ms\tremaining: 900ms\n",
      "15:\tlearn: 197.7339453\ttotal: 167ms\tremaining: 877ms\n",
      "16:\tlearn: 195.4326750\ttotal: 175ms\tremaining: 855ms\n",
      "17:\tlearn: 193.2066606\ttotal: 182ms\tremaining: 831ms\n",
      "18:\tlearn: 190.3767186\ttotal: 190ms\tremaining: 809ms\n",
      "19:\tlearn: 189.0445114\ttotal: 197ms\tremaining: 789ms\n",
      "20:\tlearn: 187.0578538\ttotal: 204ms\tremaining: 769ms\n",
      "21:\tlearn: 185.4278327\ttotal: 210ms\tremaining: 746ms\n",
      "22:\tlearn: 183.9604886\ttotal: 218ms\tremaining: 728ms\n",
      "23:\tlearn: 181.9981218\ttotal: 225ms\tremaining: 713ms\n",
      "24:\tlearn: 180.6013789\ttotal: 248ms\tremaining: 744ms\n",
      "25:\tlearn: 178.6875162\ttotal: 260ms\tremaining: 741ms\n",
      "26:\tlearn: 175.7526104\ttotal: 268ms\tremaining: 726ms\n",
      "27:\tlearn: 174.4324823\ttotal: 280ms\tremaining: 719ms\n",
      "28:\tlearn: 173.0737028\ttotal: 288ms\tremaining: 705ms\n",
      "29:\tlearn: 170.6129300\ttotal: 297ms\tremaining: 694ms\n",
      "30:\tlearn: 169.1871578\ttotal: 306ms\tremaining: 681ms\n",
      "31:\tlearn: 168.1292289\ttotal: 314ms\tremaining: 668ms\n",
      "32:\tlearn: 166.7809025\ttotal: 321ms\tremaining: 652ms\n",
      "33:\tlearn: 165.4904052\ttotal: 328ms\tremaining: 637ms\n",
      "34:\tlearn: 163.1158819\ttotal: 335ms\tremaining: 622ms\n",
      "35:\tlearn: 161.5044603\ttotal: 345ms\tremaining: 614ms\n",
      "36:\tlearn: 160.7459088\ttotal: 352ms\tremaining: 600ms\n",
      "37:\tlearn: 159.6825631\ttotal: 360ms\tremaining: 587ms\n",
      "38:\tlearn: 158.5572248\ttotal: 367ms\tremaining: 574ms\n",
      "39:\tlearn: 157.6809388\ttotal: 374ms\tremaining: 562ms\n",
      "40:\tlearn: 156.8006361\ttotal: 381ms\tremaining: 548ms\n",
      "41:\tlearn: 155.5774042\ttotal: 389ms\tremaining: 537ms\n",
      "42:\tlearn: 154.5757989\ttotal: 396ms\tremaining: 524ms\n",
      "43:\tlearn: 153.7288438\ttotal: 404ms\tremaining: 514ms\n",
      "44:\tlearn: 152.9037574\ttotal: 413ms\tremaining: 505ms\n",
      "45:\tlearn: 152.3640183\ttotal: 422ms\tremaining: 495ms\n",
      "46:\tlearn: 151.4810340\ttotal: 428ms\tremaining: 483ms\n",
      "47:\tlearn: 149.5880884\ttotal: 436ms\tremaining: 473ms\n",
      "48:\tlearn: 148.8006797\ttotal: 443ms\tremaining: 462ms\n",
      "49:\tlearn: 148.1485936\ttotal: 451ms\tremaining: 451ms\n",
      "50:\tlearn: 147.3176497\ttotal: 457ms\tremaining: 439ms\n",
      "51:\tlearn: 145.8517949\ttotal: 467ms\tremaining: 431ms\n",
      "52:\tlearn: 144.9673092\ttotal: 473ms\tremaining: 420ms\n",
      "53:\tlearn: 144.1253967\ttotal: 481ms\tremaining: 410ms\n",
      "54:\tlearn: 143.4736820\ttotal: 487ms\tremaining: 399ms\n",
      "55:\tlearn: 142.6140934\ttotal: 495ms\tremaining: 389ms\n",
      "56:\tlearn: 142.0351238\ttotal: 503ms\tremaining: 379ms\n",
      "57:\tlearn: 140.7133101\ttotal: 510ms\tremaining: 369ms\n",
      "58:\tlearn: 140.2328090\ttotal: 518ms\tremaining: 360ms\n",
      "59:\tlearn: 139.5090728\ttotal: 525ms\tremaining: 350ms\n",
      "60:\tlearn: 138.5302712\ttotal: 531ms\tremaining: 340ms\n",
      "61:\tlearn: 138.1333802\ttotal: 538ms\tremaining: 329ms\n",
      "62:\tlearn: 137.4874682\ttotal: 545ms\tremaining: 320ms\n",
      "63:\tlearn: 136.3553259\ttotal: 551ms\tremaining: 310ms\n",
      "64:\tlearn: 135.2784407\ttotal: 558ms\tremaining: 300ms\n",
      "65:\tlearn: 134.4660874\ttotal: 564ms\tremaining: 290ms\n",
      "66:\tlearn: 133.8272268\ttotal: 570ms\tremaining: 281ms\n",
      "67:\tlearn: 133.1821973\ttotal: 582ms\tremaining: 274ms\n",
      "68:\tlearn: 132.6263916\ttotal: 590ms\tremaining: 265ms\n",
      "69:\tlearn: 132.1206286\ttotal: 599ms\tremaining: 257ms\n",
      "70:\tlearn: 131.5374015\ttotal: 606ms\tremaining: 247ms\n",
      "71:\tlearn: 130.6369842\ttotal: 614ms\tremaining: 239ms\n",
      "72:\tlearn: 130.2608663\ttotal: 623ms\tremaining: 230ms\n",
      "73:\tlearn: 130.0110441\ttotal: 629ms\tremaining: 221ms\n",
      "74:\tlearn: 129.3518747\ttotal: 635ms\tremaining: 212ms\n",
      "75:\tlearn: 128.9981342\ttotal: 641ms\tremaining: 202ms\n",
      "76:\tlearn: 128.6117896\ttotal: 647ms\tremaining: 193ms\n",
      "77:\tlearn: 128.3499720\ttotal: 655ms\tremaining: 185ms\n",
      "78:\tlearn: 127.5765665\ttotal: 661ms\tremaining: 176ms\n",
      "79:\tlearn: 127.2090212\ttotal: 668ms\tremaining: 167ms\n",
      "80:\tlearn: 126.9334937\ttotal: 674ms\tremaining: 158ms\n",
      "81:\tlearn: 125.7322494\ttotal: 680ms\tremaining: 149ms\n",
      "82:\tlearn: 124.9616676\ttotal: 687ms\tremaining: 141ms\n",
      "83:\tlearn: 124.5289161\ttotal: 693ms\tremaining: 132ms\n",
      "84:\tlearn: 123.8798648\ttotal: 698ms\tremaining: 123ms\n",
      "85:\tlearn: 123.5676157\ttotal: 704ms\tremaining: 115ms\n",
      "86:\tlearn: 123.3259787\ttotal: 710ms\tremaining: 106ms\n",
      "87:\tlearn: 122.2850879\ttotal: 719ms\tremaining: 98ms\n",
      "88:\tlearn: 121.2986087\ttotal: 725ms\tremaining: 89.6ms\n",
      "89:\tlearn: 121.0717338\ttotal: 731ms\tremaining: 81.2ms\n",
      "90:\tlearn: 120.2207679\ttotal: 737ms\tremaining: 72.8ms\n",
      "91:\tlearn: 119.9076819\ttotal: 743ms\tremaining: 64.6ms\n",
      "92:\tlearn: 119.2859385\ttotal: 748ms\tremaining: 56.3ms\n"
     ]
    },
    {
     "name": "stderr",
     "output_type": "stream",
     "text": [
      "INFO - nyc-taxi-demand-prediction - Result: {'mape': {'score': 779.6402835059124}, 'mae': {'score': 73.9335155456258}, 'mse': {'score': 22008.345363606557}}\n"
     ]
    },
    {
     "name": "stdout",
     "output_type": "stream",
     "text": [
      "93:\tlearn: 118.8486884\ttotal: 755ms\tremaining: 48.2ms\n",
      "94:\tlearn: 117.6633159\ttotal: 765ms\tremaining: 40.3ms\n",
      "95:\tlearn: 117.0414904\ttotal: 771ms\tremaining: 32.1ms\n",
      "96:\tlearn: 116.6735073\ttotal: 776ms\tremaining: 24ms\n",
      "97:\tlearn: 116.3335899\ttotal: 782ms\tremaining: 16ms\n",
      "98:\tlearn: 116.0736991\ttotal: 788ms\tremaining: 7.96ms\n",
      "99:\tlearn: 115.5617108\ttotal: 795ms\tremaining: 0us\n"
     ]
    },
    {
     "name": "stderr",
     "output_type": "stream",
     "text": [
      "INFO - nyc-taxi-demand-prediction - Completed after 0:00:01\n"
     ]
    }
   ],
   "source": [
    "experiment_result = ex.run()"
   ]
  },
  {
   "cell_type": "code",
   "execution_count": 16,
   "metadata": {},
   "outputs": [
    {
     "data": {
      "text/plain": [
       "{'loss_function': 'RMSE',\n",
       " 'num_leaves': 31,\n",
       " 'learning_rate': 0.1,\n",
       " 'n_estimators': 100,\n",
       " 'seed': 592982277}"
      ]
     },
     "execution_count": 16,
     "metadata": {},
     "output_type": "execute_result"
    }
   ],
   "source": [
    "experiment_result.config"
   ]
  },
  {
   "cell_type": "code",
   "execution_count": 17,
   "metadata": {},
   "outputs": [],
   "source": [
    "import sys\n",
    "if sys.version_info[0] < 3: \n",
    "    from StringIO import StringIO\n",
    "else:\n",
    "    from io import StringIO\n",
    "\n",
    "# 모델 성능 결과 확인\n",
    "def parsing_output(ex_id):\n",
    "    with open(f'./experiments/{ex_id}/metrics.json') as json_file:\n",
    "        json_data = json.load(json_file)\n",
    "    with open(f'./experiments/{ex_id}/config.json') as config_file:\n",
    "        config_data = json.load(config_file)\n",
    "    \n",
    "    output_df = pd.DataFrame(json_data['model_name']['values'], columns=['model_name'], index=['score'])\n",
    "    output_df['experiment_num'] = ex_id\n",
    "    output_df['config'] = str(config_data)\n",
    "    metric_df = pd.read_csv(StringIO(json_data['metrics']['values'][0]['values']), sep=',|\\r\\n')\n",
    "    metric_df.index = ['score']\n",
    "\n",
    "    \n",
    "    output_df = pd.concat([output_df, metric_df], axis=1)\n",
    "    output_df = output_df.round(2)\n",
    "    return output_df"
   ]
  },
  {
   "cell_type": "code",
   "execution_count": 18,
   "metadata": {},
   "outputs": [
    {
     "data": {
      "text/html": [
       "<div>\n",
       "<style scoped>\n",
       "    .dataframe tbody tr th:only-of-type {\n",
       "        vertical-align: middle;\n",
       "    }\n",
       "\n",
       "    .dataframe tbody tr th {\n",
       "        vertical-align: top;\n",
       "    }\n",
       "\n",
       "    .dataframe thead th {\n",
       "        text-align: right;\n",
       "    }\n",
       "</style>\n",
       "<table border=\"1\" class=\"dataframe\">\n",
       "  <thead>\n",
       "    <tr style=\"text-align: right;\">\n",
       "      <th></th>\n",
       "      <th>model_name</th>\n",
       "      <th>experiment_num</th>\n",
       "      <th>config</th>\n",
       "      <th>mape</th>\n",
       "      <th>mae</th>\n",
       "      <th>mse</th>\n",
       "    </tr>\n",
       "  </thead>\n",
       "  <tbody>\n",
       "    <tr>\n",
       "      <th>score</th>\n",
       "      <td>CatBoostRegressor</td>\n",
       "      <td>5</td>\n",
       "      <td>{'learning_rate': 0.1, 'loss_function': 'RMSE'...</td>\n",
       "      <td>779.64</td>\n",
       "      <td>73.93</td>\n",
       "      <td>22008.35</td>\n",
       "    </tr>\n",
       "  </tbody>\n",
       "</table>\n",
       "</div>"
      ],
      "text/plain": [
       "              model_name  experiment_num  ...    mae       mse\n",
       "score  CatBoostRegressor               5  ...  73.93  22008.35\n",
       "\n",
       "[1 rows x 6 columns]"
      ]
     },
     "execution_count": 18,
     "metadata": {},
     "output_type": "execute_result"
    }
   ],
   "source": [
    "parsing_output(5)"
   ]
  },
  {
   "cell_type": "code",
   "execution_count": 19,
   "metadata": {},
   "outputs": [
    {
     "data": {
      "text/html": [
       "<div>\n",
       "<style scoped>\n",
       "    .dataframe tbody tr th:only-of-type {\n",
       "        vertical-align: middle;\n",
       "    }\n",
       "\n",
       "    .dataframe tbody tr th {\n",
       "        vertical-align: top;\n",
       "    }\n",
       "\n",
       "    .dataframe thead th {\n",
       "        text-align: right;\n",
       "    }\n",
       "</style>\n",
       "<table border=\"1\" class=\"dataframe\">\n",
       "  <thead>\n",
       "    <tr style=\"text-align: right;\">\n",
       "      <th></th>\n",
       "      <th>model_name</th>\n",
       "      <th>experiment_num</th>\n",
       "      <th>config</th>\n",
       "      <th>mape</th>\n",
       "      <th>mae</th>\n",
       "      <th>mse</th>\n",
       "    </tr>\n",
       "  </thead>\n",
       "  <tbody>\n",
       "    <tr>\n",
       "      <th>score</th>\n",
       "      <td>LGBMRegressor</td>\n",
       "      <td>4</td>\n",
       "      <td>{'learning_rate': 0.1, 'max_depth': -1, 'n_est...</td>\n",
       "      <td>390.9</td>\n",
       "      <td>49.9</td>\n",
       "      <td>14720.28</td>\n",
       "    </tr>\n",
       "  </tbody>\n",
       "</table>\n",
       "</div>"
      ],
      "text/plain": [
       "          model_name  experiment_num  ...   mae       mse\n",
       "score  LGBMRegressor               4  ...  49.9  14720.28\n",
       "\n",
       "[1 rows x 6 columns]"
      ]
     },
     "execution_count": 19,
     "metadata": {},
     "output_type": "execute_result"
    }
   ],
   "source": [
    "# Lightgbm\n",
    "parsing_output(4)"
   ]
  },
  {
   "cell_type": "code",
   "execution_count": 20,
   "metadata": {},
   "outputs": [
    {
     "data": {
      "text/html": [
       "<div>\n",
       "<style scoped>\n",
       "    .dataframe tbody tr th:only-of-type {\n",
       "        vertical-align: middle;\n",
       "    }\n",
       "\n",
       "    .dataframe tbody tr th {\n",
       "        vertical-align: top;\n",
       "    }\n",
       "\n",
       "    .dataframe thead th {\n",
       "        text-align: right;\n",
       "    }\n",
       "</style>\n",
       "<table border=\"1\" class=\"dataframe\">\n",
       "  <thead>\n",
       "    <tr style=\"text-align: right;\">\n",
       "      <th></th>\n",
       "      <th>model_name</th>\n",
       "      <th>experiment_num</th>\n",
       "      <th>config</th>\n",
       "      <th>mape</th>\n",
       "      <th>mae</th>\n",
       "      <th>mse</th>\n",
       "    </tr>\n",
       "  </thead>\n",
       "  <tbody>\n",
       "    <tr>\n",
       "      <th>score</th>\n",
       "      <td>XGBRegressor</td>\n",
       "      <td>3</td>\n",
       "      <td>{'learning_rate': 0.1, 'max_depth': 5, 'n_esti...</td>\n",
       "      <td>505.27</td>\n",
       "      <td>57.07</td>\n",
       "      <td>16388.44</td>\n",
       "    </tr>\n",
       "  </tbody>\n",
       "</table>\n",
       "</div>"
      ],
      "text/plain": [
       "         model_name  experiment_num  ...    mae       mse\n",
       "score  XGBRegressor               3  ...  57.07  16388.44\n",
       "\n",
       "[1 rows x 6 columns]"
      ]
     },
     "execution_count": 20,
     "metadata": {},
     "output_type": "execute_result"
    }
   ],
   "source": [
    "# xgboost \n",
    "parsing_output(3)"
   ]
  }
 ],
 "metadata": {
  "kernelspec": {
   "display_name": "Python 3",
   "language": "python",
   "name": "python3"
  },
  "language_info": {
   "codemirror_mode": {
    "name": "ipython",
    "version": 3
   },
   "file_extension": ".py",
   "mimetype": "text/x-python",
   "name": "python",
   "nbconvert_exporter": "python",
   "pygments_lexer": "ipython3",
   "version": "3.7.3"
  }
 },
 "nbformat": 4,
 "nbformat_minor": 4
}
